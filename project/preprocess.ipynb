{
 "cells": [
  {
   "cell_type": "code",
   "execution_count": 14,
   "id": "57682d05-3992-4f60-8c7c-2a77a2e8cee4",
   "metadata": {},
   "outputs": [],
   "source": [
    "import csv\n",
    "\n",
    "# Открываем файл для чтения\n",
    "with open('solution.csv', 'r', newline='', encoding='utf-8') as file:\n",
    "    reader = csv.DictReader(file)\n",
    "    \n",
    "    # Открываем файл для записи с указанием кодировки\n",
    "    with open('output.csv', 'w', newline='', encoding='utf-8') as output_file:\n",
    "        writer = csv.writer(output_file)\n",
    "\n",
    "        # Ограничение на количество строк\n",
    "        max_rows = 5\n",
    "        rows_read = 0\n",
    "        # Читаем файл построчно\n",
    "        for row in reader:\n",
    "            # Получаем значение столбца 'column_name' в текущей строке\n",
    "            value = row['text_sol']\n",
    "            writer.writerow(value)\n",
    "            rows_read += 1\n",
    "            # Проверяем, достигли ли нужного количества строк\n",
    "            if rows_read == max_rows:\n",
    "                break\n",
    "            \n",
    "           "
   ]
  },
  {
   "cell_type": "code",
   "execution_count": null,
   "id": "7df37b98-1669-4b80-aa6b-f1a113f27a92",
   "metadata": {},
   "outputs": [],
   "source": []
  },
  {
   "cell_type": "code",
   "execution_count": null,
   "id": "f4360429-acb7-4c27-9ada-26ae7055255c",
   "metadata": {},
   "outputs": [],
   "source": []
  }
 ],
 "metadata": {
  "kernelspec": {
   "display_name": "Python 3 (ipykernel)",
   "language": "python",
   "name": "python3"
  },
  "language_info": {
   "codemirror_mode": {
    "name": "ipython",
    "version": 3
   },
   "file_extension": ".py",
   "mimetype": "text/x-python",
   "name": "python",
   "nbconvert_exporter": "python",
   "pygments_lexer": "ipython3",
   "version": "3.11.9"
  }
 },
 "nbformat": 4,
 "nbformat_minor": 5
}
