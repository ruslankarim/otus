{
 "cells": [
  {
   "cell_type": "code",
   "execution_count": 1,
   "id": "253dbded-f507-4c1f-9b2b-0b001400d5f5",
   "metadata": {},
   "outputs": [],
   "source": [
    "from collections import Counter\n",
    "import numpy as np\n",
    "import torch\n",
    "import torch.nn.functional as F\n",
    "from torch.utils.data import DataLoader\n",
    "from torch import nn, optim\n",
    "from torch.nn.utils.rnn import pad_sequence, pack_padded_sequence, pad_packed_sequence\n",
    "import matplotlib.pyplot as plt"
   ]
  },
  {
   "cell_type": "code",
   "execution_count": 4,
   "id": "220fda62-deb1-48ac-8bbc-0a152c8f80dc",
   "metadata": {},
   "outputs": [],
   "source": [
    "with open('poslo1.txt') as f:\n",
    "    lines = f.readlines()"
   ]
  },
  {
   "cell_type": "code",
   "execution_count": 5,
   "id": "52848dbe-41bc-4b05-8071-7bda0ee18f47",
   "metadata": {},
   "outputs": [
    {
     "data": {
      "text/plain": [
       "'А где щи, тут и нас ищи.\\n'"
      ]
     },
     "execution_count": 5,
     "metadata": {},
     "output_type": "execute_result"
    }
   ],
   "source": [
    "lines[0]"
   ]
  },
  {
   "cell_type": "code",
   "execution_count": 6,
   "id": "126703f5-7acd-4ada-a01f-44a00da94108",
   "metadata": {},
   "outputs": [],
   "source": [
    "def preprocess(line):\n",
    "    return ' '.join(w.lower() for w in (''.join(ch for ch in word if ch.isalpha()) for word in line.split()) if w)"
   ]
  },
  {
   "cell_type": "code",
   "execution_count": 7,
   "id": "b0fc04a1-b666-478f-abbd-8b1204cd7be1",
   "metadata": {},
   "outputs": [
    {
     "data": {
      "text/plain": [
       "'а где щи тут и нас ищи'"
      ]
     },
     "execution_count": 7,
     "metadata": {},
     "output_type": "execute_result"
    }
   ],
   "source": [
    "preprocess(lines[0])"
   ]
  },
  {
   "cell_type": "code",
   "execution_count": 8,
   "id": "6ecee5dc-f7cc-41f6-9de7-08aff676c9ce",
   "metadata": {},
   "outputs": [],
   "source": [
    "class Dataset(torch.utils.data.Dataset):\n",
    "    def __init__(\n",
    "        self,\n",
    "        lines,\n",
    "    ):\n",
    "        self.lines = lines\n",
    "        self.pad_token = '<PAD>'\n",
    "        self.bos_token = '<BOS>'\n",
    "        self.eos_token = '<EOS>'\n",
    "        self.uniq_words = [self.pad_token, self.bos_token, self.eos_token] + self.get_uniq_words()\n",
    "\n",
    "        self.index_to_word = {index: word for index, word in enumerate(self.uniq_words)}\n",
    "        self.word_to_index = {word: index for index, word in enumerate(self.uniq_words)}\n",
    "\n",
    "        self.pad_token_id = self.word_to_index['<PAD>']\n",
    "        self.bos_token_id = self.word_to_index['<BOS>']\n",
    "        self.eos_token_id = self.word_to_index['<EOS>']\n",
    "\n",
    "        self.tokenized = [[self.word_to_index[w] for w in line.split()] for line in self.lines]\n",
    "\n",
    "    def get_uniq_words(self):\n",
    "        word_counts = Counter(word for line in self.lines for word in line.split())\n",
    "        return sorted(word_counts, key=word_counts.get, reverse=True)\n",
    "\n",
    "    def __len__(self):\n",
    "        return len(self.lines)\n",
    "\n",
    "    def __getitem__(self, index):\n",
    "        return (\n",
    "            torch.LongTensor([self.bos_token_id] + self.tokenized[index]),\n",
    "            torch.LongTensor(self.tokenized[index] + [self.eos_token_id]),\n",
    "        )"
   ]
  },
  {
   "cell_type": "code",
   "execution_count": 9,
   "id": "98019582-81ae-40cd-b246-e8e2cd4ad15d",
   "metadata": {},
   "outputs": [],
   "source": [
    "dataset = Dataset([preprocess(line) for line in lines])"
   ]
  },
  {
   "cell_type": "code",
   "execution_count": 10,
   "id": "c4eace38-f0ef-4b9d-bc8d-5fe30291c53b",
   "metadata": {},
   "outputs": [
    {
     "data": {
      "text/plain": [
       "(tensor([  1,   4,  25, 310, 197,   5,  56, 311]),\n",
       " tensor([  4,  25, 310, 197,   5,  56, 311,   2]))"
      ]
     },
     "execution_count": 10,
     "metadata": {},
     "output_type": "execute_result"
    }
   ],
   "source": [
    "dataset[0]"
   ]
  },
  {
   "cell_type": "code",
   "execution_count": 25,
   "id": "dd3ba6d7-5929-4d1b-9733-d6db8fe29684",
   "metadata": {},
   "outputs": [],
   "source": [
    "def pad_collate(batch):\n",
    "    (xx, yy) = zip(*batch)\n",
    "    x_lens = [len(x) for x in xx]\n",
    "    y_lens = [len(y) for y in yy]\n",
    "\n",
    "    xx_pad = pad_sequence(xx, batch_first=True, padding_value=dataset.pad_token_id)\n",
    "    yy_pad = pad_sequence(yy, batch_first=True, padding_value=dataset.pad_token_id)\n",
    "\n",
    "    return xx_pad, yy_pad, x_lens, y_lens"
   ]
  },
  {
   "cell_type": "code",
   "execution_count": 26,
   "id": "518d85be-307e-4f97-b2de-d14c741997a0",
   "metadata": {},
   "outputs": [],
   "source": [
    "dataloader = DataLoader(dataset, batch_size=512, collate_fn=pad_collate, shuffle=True)"
   ]
  },
  {
   "cell_type": "code",
   "execution_count": 27,
   "id": "eb31f3d1-5e43-4ccf-947f-032d2f53e9f6",
   "metadata": {},
   "outputs": [],
   "source": [
    "class Model(nn.Module):\n",
    "    def __init__(self, vocab_len):\n",
    "        super(Model, self).__init__()\n",
    "        self.hidden_size = 256\n",
    "        self.embedding_dim = 256\n",
    "        self.num_layers = 3\n",
    "\n",
    "        vocab_len = len(dataset.uniq_words)\n",
    "        self.embedding = nn.Embedding(\n",
    "            num_embeddings=vocab_len,\n",
    "            embedding_dim=self.embedding_dim,\n",
    "            padding_idx=0,\n",
    "        )\n",
    "        self.rnn = nn.LSTM(\n",
    "            input_size=self.embedding_dim,\n",
    "            hidden_size=self.hidden_size,\n",
    "            num_layers=self.num_layers,\n",
    "            dropout=0.2,\n",
    "            batch_first=True,\n",
    "        )\n",
    "        self.fc = nn.Linear(self.hidden_size, vocab_len)\n",
    "\n",
    "    def forward(self, x, lens=None, prev_state=None):\n",
    "        embed = self.embedding(x)\n",
    "        if lens is None:\n",
    "            output, state = self.rnn(embed, prev_state)\n",
    "        else:\n",
    "            embed_packed = pack_padded_sequence(embed, lens, batch_first=True, enforce_sorted=False)\n",
    "            output_packed, state = self.rnn(embed_packed, prev_state)\n",
    "            output, _ = pad_packed_sequence(output_packed, batch_first=True)\n",
    "        logits = self.fc(output)\n",
    "        return logits, state"
   ]
  },
  {
   "cell_type": "code",
   "execution_count": 28,
   "id": "1be8fc86-ae1b-467d-9245-de0822e9a39e",
   "metadata": {},
   "outputs": [],
   "source": [
    "DEVICE = torch.device('cuda') if torch.cuda.is_available() else torch.device('cpu')\n",
    "\n",
    "model = Model(len(dataset.uniq_words)).to(DEVICE).train()"
   ]
  },
  {
   "cell_type": "code",
   "execution_count": 29,
   "id": "b89cc4b2-027a-44e1-944c-fa3120bb356f",
   "metadata": {},
   "outputs": [
    {
     "data": {
      "text/plain": [
       "5319291"
      ]
     },
     "execution_count": 29,
     "metadata": {},
     "output_type": "execute_result"
    }
   ],
   "source": [
    "sum(p.numel() for p in model.parameters() if p.requires_grad)"
   ]
  },
  {
   "cell_type": "code",
   "execution_count": 30,
   "id": "d1d9d33c-73e7-4828-a94b-e0b48486d4fc",
   "metadata": {},
   "outputs": [],
   "source": [
    "criterion = nn.CrossEntropyLoss(ignore_index=dataset.pad_token_id)\n",
    "optimizer = optim.Adam(model.parameters(), lr=5e-3)"
   ]
  },
  {
   "cell_type": "code",
   "execution_count": 31,
   "id": "1ca8dcea-bf49-4c52-9337-7744fcdc3d90",
   "metadata": {},
   "outputs": [],
   "source": [
    "def train(model, dataloader, criterion, optimizer, epochs):\n",
    "    losses = []\n",
    "    model.train()\n",
    "\n",
    "    for epoch in range(epochs):\n",
    "        for x, y, x_lens, y_lens in dataloader:\n",
    "            optimizer.zero_grad()\n",
    "\n",
    "            y_pred, _ = model(x.to(DEVICE), x_lens)\n",
    "            loss = criterion(y_pred.transpose(1, 2), y.to(DEVICE))\n",
    "\n",
    "            loss.backward()\n",
    "            optimizer.step()\n",
    "\n",
    "        losses.append(loss.item())\n",
    "        if epoch % 10 == 0:\n",
    "            print({ 'epoch': epoch, 'loss': losses[-1] })\n",
    "\n",
    "    return losses"
   ]
  },
  {
   "cell_type": "code",
   "execution_count": 32,
   "id": "57b03454-b825-44e2-a60c-71224b2bf290",
   "metadata": {},
   "outputs": [
    {
     "name": "stdout",
     "output_type": "stream",
     "text": [
      "{'epoch': 0, 'loss': 7.258910655975342}\n",
      "{'epoch': 10, 'loss': 6.096203804016113}\n",
      "{'epoch': 20, 'loss': 5.60232400894165}\n",
      "{'epoch': 30, 'loss': 5.071975231170654}\n",
      "{'epoch': 40, 'loss': 4.61236572265625}\n",
      "{'epoch': 50, 'loss': 4.179990291595459}\n",
      "{'epoch': 60, 'loss': 3.821564197540283}\n",
      "{'epoch': 70, 'loss': 3.4078919887542725}\n",
      "{'epoch': 80, 'loss': 3.046675682067871}\n",
      "{'epoch': 90, 'loss': 2.597864866256714}\n",
      "{'epoch': 100, 'loss': 2.3103485107421875}\n",
      "{'epoch': 110, 'loss': 2.155099868774414}\n",
      "{'epoch': 120, 'loss': 1.9517103433609009}\n",
      "{'epoch': 130, 'loss': 1.8257577419281006}\n",
      "{'epoch': 140, 'loss': 1.5951123237609863}\n",
      "{'epoch': 150, 'loss': 1.584120512008667}\n",
      "{'epoch': 160, 'loss': 1.6007165908813477}\n",
      "{'epoch': 170, 'loss': 1.491884469985962}\n",
      "{'epoch': 180, 'loss': 1.3228260278701782}\n",
      "{'epoch': 190, 'loss': 1.3706082105636597}\n",
      "{'epoch': 200, 'loss': 1.3328533172607422}\n",
      "{'epoch': 210, 'loss': 1.29782235622406}\n",
      "{'epoch': 220, 'loss': 1.2722197771072388}\n",
      "{'epoch': 230, 'loss': 1.2343149185180664}\n",
      "{'epoch': 240, 'loss': 1.3184770345687866}\n"
     ]
    }
   ],
   "source": [
    "loss_history = train(model, dataloader, criterion, optimizer, epochs=250)"
   ]
  },
  {
   "cell_type": "code",
   "execution_count": 33,
   "id": "f09c7b96-f575-4ae7-acd2-2a4653bbc862",
   "metadata": {},
   "outputs": [
    {
     "data": {
      "text/plain": [
       "[<matplotlib.lines.Line2D at 0x7f7060149db0>]"
      ]
     },
     "execution_count": 33,
     "metadata": {},
     "output_type": "execute_result"
    },
    {
     "data": {
      "image/png": "[encoded data removed]",
      "text/plain": [
       "<Figure size 640x480 with 1 Axes>"
      ]
     },
     "metadata": {},
     "output_type": "display_data"
    }
   ],
   "source": [
    "plt.plot(loss_history)"
   ]
  },
  {
   "cell_type": "code",
   "execution_count": 34,
   "id": "49cd196b-e66c-49c6-95c3-d70bf9f7c5f7",
   "metadata": {},
   "outputs": [],
   "source": [
    "def tokenize(value):\n",
    "    return [dataset.bos_token_id]+[dataset.word_to_index[word.lower()] for word in value.split()]\n",
    "\n",
    "\n",
    "def decode(token_ids):\n",
    "    return ' '.join(dataset.index_to_word[token_id] for token_id in token_ids)\n",
    "\n",
    "\n",
    "@torch.no_grad()\n",
    "def generate(prompt, max_tokens=20):\n",
    "    model.eval()\n",
    "    response = []\n",
    "    state = None\n",
    "    prompt_tokens = tokenize(prompt)\n",
    "    model_input = torch.LongTensor([prompt_tokens]).to(DEVICE)\n",
    "    for _ in range(max_tokens):\n",
    "        logits, state = model(model_input, prev_state=state)\n",
    "        token_argmax = logits[0, -1].argmax()\n",
    "        response.append(token_argmax.item())\n",
    "        if response[-1] == dataset.eos_token_id:\n",
    "            break\n",
    "        model_input = token_argmax.view(1, 1)\n",
    "\n",
    "    return decode(prompt_tokens + response)"
   ]
  },
  {
   "cell_type": "code",
   "execution_count": 35,
   "id": "eccf90b9-82c8-455c-b828-4d09f9377fd4",
   "metadata": {},
   "outputs": [
    {
     "data": {
      "text/plain": [
       "'<BOS> рука руку моет а две руки лицо <EOS>'"
      ]
     },
     "execution_count": 35,
     "metadata": {},
     "output_type": "execute_result"
    }
   ],
   "source": [
    "generate('рука')"
   ]
  },
  {
   "cell_type": "code",
   "execution_count": 39,
   "id": "28409eb8-f07f-4217-9f4d-b91e77046d5c",
   "metadata": {},
   "outputs": [],
   "source": [
    "@torch.no_grad()\n",
    "def sample(prompt, max_tokens=20):\n",
    "    model.eval()\n",
    "    response = []\n",
    "    state = None\n",
    "    prompt_tokens = tokenize(prompt)\n",
    "    model_input = torch.LongTensor([prompt_tokens]).to(DEVICE)\n",
    "    for _ in range(max_tokens):\n",
    "        logits, state = model(model_input, prev_state=state)\n",
    "        token_probs = F.softmax(logits[0, -1], dim=-1).cpu().numpy()\n",
    "        sampled_token = np.random.choice(len(token_probs), p=token_probs)\n",
    "        response.append(sampled_token)\n",
    "        if response[-1] == dataset.eos_token_id:\n",
    "            break\n",
    "        model_input = torch.LongTensor([[sampled_token]]).to(DEVICE)\n",
    "\n",
    "    return decode(prompt_tokens + response)"
   ]
  },
  {
   "cell_type": "code",
   "execution_count": 40,
   "id": "a257f00e-c474-48fe-b473-9c3614dcf9ad",
   "metadata": {},
   "outputs": [
    {
     "data": {
      "text/plain": [
       "'<BOS> без хозяина деньги черепки <EOS>'"
      ]
     },
     "execution_count": 40,
     "metadata": {},
     "output_type": "execute_result"
    }
   ],
   "source": [
    "sample('без')"
   ]
  },
  {
   "cell_type": "code",
   "execution_count": null,
   "id": "3e4320eb",
   "metadata": {},
   "outputs": [
    {
     "name": "stdout",
     "output_type": "stream",
     "text": [
      "Defaulting to user installation because normal site-packages is not writeable\n",
      "Collecting transformers\n",
      "  Downloading transformers-4.41.2-py3-none-any.whl (9.1 MB)\n",
      "\u001B[2K     \u001B[90m━━━━━━━━━━━━━━━━━━━━━━━━━━━━━━━━━━━━━━━━\u001B[0m \u001B[32m9.1/9.1 MB\u001B[0m \u001B[31m1.4 MB/s\u001B[0m eta \u001B[36m0:00:00\u001B[0m00:01\u001B[0m00:01\u001B[0m0m\n",
      "\u001B[?25hCollecting sentencepiece\n",
      "  Downloading sentencepiece-0.2.0-cp310-cp310-manylinux_2_17_x86_64.manylinux2014_x86_64.whl (1.3 MB)\n",
      "\u001B[2K     \u001B[90m━━━━━━━━━━━━━━━━━━━━━━━━━━━━━━━━━━━━━━━━\u001B[0m \u001B[32m1.3/1.3 MB\u001B[0m \u001B[31m282.3 kB/s\u001B[0m eta \u001B[36m0:00:00\u001B[0ma \u001B[36m0:00:01\u001B[0m\n",
      "\u001B[?25hCollecting huggingface-hub<1.0,>=0.23.0\n",
      "  Downloading huggingface_hub-0.23.3-py3-none-any.whl (401 kB)\n",
      "\u001B[2K     \u001B[90m━━━━━━━━━━━━━━━━━━━━━━━━━━━━━━━━━━━━━━━\u001B[0m \u001B[32m401.7/401.7 KB\u001B[0m \u001B[31m1.3 MB/s\u001B[0m eta \u001B[36m0:00:00\u001B[0ma \u001B[36m0:00:01\u001B[0m\n",
      "\u001B[?25hCollecting tokenizers<0.20,>=0.19\n",
      "  Downloading tokenizers-0.19.1-cp310-cp310-manylinux_2_17_x86_64.manylinux2014_x86_64.whl (3.6 MB)\n",
      "\u001B[2K     \u001B[90m━━━━━━━━━━━━━━━━━━━━━━━━━━━━━━━━━━━━━━━━\u001B[0m \u001B[32m3.6/3.6 MB\u001B[0m \u001B[31m1.1 MB/s\u001B[0m eta \u001B[36m0:00:00\u001B[0m00:01\u001B[0m00:01\u001B[0m\n",
      "\u001B[?25hCollecting numpy>=1.17\n",
      "  Downloading numpy-1.26.4-cp310-cp310-manylinux_2_17_x86_64.manylinux2014_x86_64.whl (18.2 MB)\n",
      "\u001B[2K     \u001B[90m━━━━━━━━━━━━━━━━━━━━━━━━━━━━━━━━━━━━━━━━\u001B[0m \u001B[32m18.2/18.2 MB\u001B[0m \u001B[31m1.0 MB/s\u001B[0m eta \u001B[36m0:00:00\u001B[0mta \u001B[36m0:00:01\u001B[0m\n",
      "\u001B[?25hRequirement already satisfied: requests in /home/ruslan/.local/lib/python3.10/site-packages (from transformers) (2.32.3)\n",
      "Collecting filelock\n",
      "  Downloading filelock-3.15.1-py3-none-any.whl (15 kB)\n",
      "Collecting regex!=2019.12.17\n",
      "  Downloading regex-2024.5.15-cp310-cp310-manylinux_2_17_x86_64.manylinux2014_x86_64.whl (775 kB)\n",
      "\u001B[2K     \u001B[90m━━━━━━━━━━━━━━━━━━━━━━━━━━━━━━━━━━━━━━━\u001B[0m \u001B[32m775.1/775.1 KB\u001B[0m \u001B[31m1.4 MB/s\u001B[0m eta \u001B[36m0:00:00\u001B[0ma \u001B[36m0:00:01\u001B[0m\n",
      "\u001B[?25hRequirement already satisfied: packaging>=20.0 in /home/ruslan/.local/lib/python3.10/site-packages (from transformers) (24.1)\n",
      "Collecting safetensors>=0.4.1\n",
      "  Downloading safetensors-0.4.3-cp310-cp310-manylinux_2_17_x86_64.manylinux2014_x86_64.whl (1.2 MB)\n",
      "\u001B[2K     \u001B[90m━━━━━━━━━━━━━━━━━━━━━━━━━━━━━━━━━━━━━━━━\u001B[0m \u001B[32m1.2/1.2 MB\u001B[0m \u001B[31m2.4 MB/s\u001B[0m eta \u001B[36m0:00:00\u001B[0ma \u001B[36m0:00:01\u001B[0m\n",
      "\u001B[?25hCollecting tqdm>=4.27\n",
      "  Downloading tqdm-4.66.4-py3-none-any.whl (78 kB)\n",
      "\u001B[2K     \u001B[90m━━━━━━━━━━━━━━━━━━━━━━━━━━━━━━━━━━━━━━━\u001B[0m \u001B[32m78.3/78.3 KB\u001B[0m \u001B[31m864.5 kB/s\u001B[0m eta \u001B[36m0:00:00\u001B[0m \u001B[36m0:00:01\u001B[0m\n",
      "\u001B[?25hRequirement already satisfied: pyyaml>=5.1 in /usr/lib/python3/dist-packages (from transformers) (5.4.1)\n",
      "Requirement already satisfied: typing-extensions>=3.7.4.3 in /home/ruslan/.local/lib/python3.10/site-packages (from huggingface-hub<1.0,>=0.23.0->transformers) (4.12.2)\n",
      "Collecting fsspec>=2023.5.0\n",
      "  Downloading fsspec-2024.6.0-py3-none-any.whl (176 kB)\n",
      "\u001B[2K     \u001B[90m━━━━━━━━━━━━━━━━━━━━━━━━━━━━━━━━━━━━━━━\u001B[0m \u001B[32m176.9/176.9 KB\u001B[0m \u001B[31m1.4 MB/s\u001B[0m eta \u001B[36m0:00:00\u001B[0ma \u001B[36m0:00:01\u001B[0m\n",
      "\u001B[?25hRequirement already satisfied: urllib3<3,>=1.21.1 in /home/ruslan/.local/lib/python3.10/site-packages (from requests->transformers) (2.2.1)\n",
      "Requirement already satisfied: idna<4,>=2.5 in /home/ruslan/.local/lib/python3.10/site-packages (from requests->transformers) (3.7)\n",
      "Requirement already satisfied: charset-normalizer<4,>=2 in /home/ruslan/.local/lib/python3.10/site-packages (from requests->transformers) (3.3.2)\n",
      "Requirement already satisfied: certifi>=2017.4.17 in /home/ruslan/.local/lib/python3.10/site-packages (from requests->transformers) (2024.6.2)\n",
      "Installing collected packages: sentencepiece, tqdm, safetensors, regex, numpy, fsspec, filelock, huggingface-hub, tokenizers, transformers\n",
      "\u001B[33m  WARNING: The script tqdm is installed in '/home/ruslan/.local/bin' which is not on PATH.\n",
      "  Consider adding this directory to PATH or, if you prefer to suppress this warning, use --no-warn-script-location.\u001B[0m\u001B[33m\n",
      "\u001B[0m\u001B[33m  WARNING: The script f2py is installed in '/home/ruslan/.local/bin' which is not on PATH.\n",
      "  Consider adding this directory to PATH or, if you prefer to suppress this warning, use --no-warn-script-location.\u001B[0m\u001B[33m\n",
      "\u001B[0m\u001B[33m  WARNING: The script huggingface-cli is installed in '/home/ruslan/.local/bin' which is not on PATH.\n",
      "  Consider adding this directory to PATH or, if you prefer to suppress this warning, use --no-warn-script-location.\u001B[0m\u001B[33m\n",
      "\u001B[0m\u001B[33m  WARNING: The script transformers-cli is installed in '/home/ruslan/.local/bin' which is not on PATH.\n",
      "  Consider adding this directory to PATH or, if you prefer to suppress this warning, use --no-warn-script-location.\u001B[0m\u001B[33m\n",
      "\u001B[0mSuccessfully installed filelock-3.15.1 fsspec-2024.6.0 huggingface-hub-0.23.3 numpy-1.26.4 regex-2024.5.15 safetensors-0.4.3 sentencepiece-0.2.0 tokenizers-0.19.1 tqdm-4.66.4 transformers-4.41.2\n"
     ]
    }
   ],
   "source": [
    "!pip3 install --no-cache-dir transformers sentencepiece"
   ]
  },
  {
   "cell_type": "code",
   "execution_count": 38,
   "id": "63394261-b324-44c6-910a-3341ea3cc5dd",
   "metadata": {},
   "outputs": [
    {
     "name": "stderr",
     "output_type": "stream",
     "text": [
      "/home/ruslan/.local/lib/python3.10/site-packages/tqdm/auto.py:21: TqdmWarning: IProgress not found. Please update jupyter and ipywidgets. See https://ipywidgets.readthedocs.io/en/stable/user_install.html\n",
      "  from .autonotebook import tqdm as notebook_tqdm\n",
      "You are using the default legacy behaviour of the <class 'transformers.models.t5.tokenization_t5.T5Tokenizer'>. This is expected, and simply means that the `legacy` (previous) behavior will be used so nothing changes for you. If you want to use the new behaviour, set `legacy=False`. This should only be set if you understand what it means, and thoroughly read the reason why this was added as explained in https://github.com/huggingface/transformers/pull/24565\n",
      "Special tokens have been added in the vocabulary, make sure the associated word embeddings are fine-tuned or trained.\n"
     ]
    }
   ],
   "source": [
    "from transformers import AutoTokenizer, AutoModelForSeq2SeqLM\n",
    "\n",
    "tokenizer = AutoTokenizer.from_pretrained(\"sberbank-ai/ruT5-large\", use_fast=False)"
   ]
  },
  {
   "cell_type": "code",
   "execution_count": null,
   "id": "323b496e-02d2-4724-a9d1-f019db09edb2",
   "metadata": {},
   "outputs": [
    {
     "data": {
      "text/plain": [
       "7291"
      ]
     },
     "execution_count": 26,
     "metadata": {},
     "output_type": "execute_result"
    }
   ],
   "source": [
    "len(dataset.uniq_words)"
   ]
  },
  {
   "cell_type": "code",
   "execution_count": null,
   "id": "7c85f495-a703-49a7-b2e8-765ff525c270",
   "metadata": {},
   "outputs": [
    {
     "data": {
      "text/plain": [
       "4824"
      ]
     },
     "execution_count": 27,
     "metadata": {},
     "output_type": "execute_result"
    }
   ],
   "source": [
    "len(set(((\n",
    "    x for tokens in (\n",
    "        tokenizer(\n",
    "            preprocess(line),\n",
    "            add_special_tokens=False,\n",
    "        )['input_ids'] for line in lines\n",
    "    ) for x in tokens\n",
    "))))"
   ]
  },
  {
   "cell_type": "code",
   "execution_count": null,
   "id": "bc5c3b0d-a3fe-4901-bf60-29ef55e8886f",
   "metadata": {},
   "outputs": [],
   "source": []
  }
 ],
 "metadata": {
  "kernelspec": {
   "display_name": "Python 3 (ipykernel)",
   "language": "python",
   "name": "python3"
  },
  "language_info": {
   "codemirror_mode": {
    "name": "ipython",
    "version": 3
   },
   "file_extension": ".py",
   "mimetype": "text/x-python",
   "name": "python",
   "nbconvert_exporter": "python",
   "pygments_lexer": "ipython3",
   "version": "3.10.12"
  }
 },
 "nbformat": 4,
 "nbformat_minor": 5
}