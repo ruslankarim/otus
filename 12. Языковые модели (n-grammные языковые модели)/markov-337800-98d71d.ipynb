{
 "cells": [
  {
   "cell_type": "code",
   "execution_count": 1,
   "id": "6ab7d621",
   "metadata": {},
   "outputs": [],
   "source": [
    "import re\n",
    "import json\n",
    "import random\n",
    "from collections import defaultdict\n",
    "from tqdm import tqdm\n",
    "import numpy as np\n"
   ]
  },
  {
   "cell_type": "code",
   "execution_count": null,
   "id": "0a6a973d",
   "metadata": {},
   "outputs": [],
   "source": []
  },
  {
   "cell_type": "code",
   "execution_count": 2,
   "id": "0225b2b9",
   "metadata": {},
   "outputs": [],
   "source": [
    "fn1 = 'anek.txt'\n",
    "fn2 = 'kodap.txt'"
   ]
  },
  {
   "cell_type": "code",
   "execution_count": 3,
   "id": "f0ee2649",
   "metadata": {},
   "outputs": [],
   "source": [
    "with open(fn1, 'r') as f:\n",
    "    data1 = f.read()\n",
    "    \n",
    "with open(fn2, 'r') as f:\n",
    "    data2 = f.read()"
   ]
  },
  {
   "cell_type": "code",
   "execution_count": 4,
   "id": "75430649",
   "metadata": {},
   "outputs": [
    {
     "data": {
      "text/plain": [
       "(15871338, 2007766)"
      ]
     },
     "execution_count": 4,
     "metadata": {},
     "output_type": "execute_result"
    }
   ],
   "source": [
    "len(data1), len(data2)"
   ]
  },
  {
   "cell_type": "code",
   "execution_count": null,
   "id": "c9a2d09c",
   "metadata": {},
   "outputs": [],
   "source": []
  },
  {
   "cell_type": "code",
   "execution_count": 6,
   "id": "91a26a2c",
   "metadata": {},
   "outputs": [
    {
     "data": {
      "text/plain": [
       "'<|startoftext|>Только заметил, что слово \"п@рно\" набирается самими центральными клавишами. Как все продумано, блин!\\n\\n<|startoftext|>Друзья мои, чтобы соответствовать вам, я готов сделать над собой усилие и стать лучше. Но тогда и вы станьте немного хуже!\\n\\n<|startoftext|>- Люся, ты все еще хранишь мой подарок?- Да.- Я думал, ты выкинула все, что со мной связано.- Плюшевый мишка не виноват, что ты ебл@н...\\n\\n<|startoftext|>- А вот скажи честно, ты во сне храпишь?- Понятие не имею, вроде, нет. От собственного храпа по крайней мере еще ни разу не просыпался.- Ну, так у жены спроси.- А жена и подавно не знает. У нее странная привычка после замужества возникла: как спать ложится - беруши вставляет.\\n\\n<|startoftext|>Поссорилась с мужем. Пока он спал, я мысленно развелась с ним, поделила имущество, переехала, поняла, что жить без него не могу, дала последний шанс, вернулась. В итоге, ложусь спать уже счастливой женщиной.\\n\\n<|startoftext|>Если тебя посещают мысли о смерти - это еще полбеды. Беда -'"
      ]
     },
     "execution_count": 6,
     "metadata": {},
     "output_type": "execute_result"
    }
   ],
   "source": [
    "data1[:1000]"
   ]
  },
  {
   "cell_type": "code",
   "execution_count": 7,
   "id": "b92adc7d",
   "metadata": {},
   "outputs": [
    {
     "data": {
      "text/plain": [
       "'Глава 1. Задачи и принципы законодательства об административных правонарушениях\\n\\nСтатья 1.1. Законодательство об административных правонарушениях\\n1. Законодательство об административных правонарушениях состоит из настоящего Кодекса и принимаемых в соответствии с ним законов субъектов Российской Федерации об административных правонарушениях.\\n2. Настоящий Кодекс основывается на Конституции Российской Федерации, общепризнанных принципах и нормах международного права и международных договорах Российской Федерации. Если международным договором Российской Федерации установлены иные правила, чем предусмотренные законодательством об административных правонарушениях, то применяются правила международного договора.\\nСтатья 1.2. Задачи законодательства об административных правонарушениях\\nЗадачами законодательства об административных правонарушениях являются защита личности, охрана прав и свобод человека и гражданина, охрана здоровья граждан, санитарно-эпидемиологического благополучия населения, за'"
      ]
     },
     "execution_count": 7,
     "metadata": {},
     "output_type": "execute_result"
    }
   ],
   "source": [
    "data2[:1000]"
   ]
  },
  {
   "cell_type": "code",
   "execution_count": 8,
   "id": "20b939a6",
   "metadata": {},
   "outputs": [],
   "source": [
    "data1 = data1.replace('\\xa0', ' ')\n",
    "data2 = data2.replace('\\xa0', ' ')"
   ]
  },
  {
   "cell_type": "code",
   "execution_count": 9,
   "id": "c0fc3514",
   "metadata": {},
   "outputs": [],
   "source": [
    "data1_parts = [t.strip() for t in data1.split('<|startoftext|>') if len(t.strip()) > 10]"
   ]
  },
  {
   "cell_type": "code",
   "execution_count": 17,
   "id": "6966ac36",
   "metadata": {},
   "outputs": [
    {
     "data": {
      "text/plain": [
       "'Если бесконечное количество российских футболистов запустить на бесконечное количество футбольных полей и дать им бесконечное количество времени, то один из них когда-нибудь забьёт гол.'"
      ]
     },
     "execution_count": 17,
     "metadata": {},
     "output_type": "execute_result"
    }
   ],
   "source": [
    "data1_parts[-4]"
   ]
  },
  {
   "cell_type": "code",
   "execution_count": 11,
   "id": "c2d18a8c",
   "metadata": {},
   "outputs": [],
   "source": [
    "data2 = re.sub(r'\\n(Статья \\d+\\.)', '\\n<sep>\\g<1>', data2)\n",
    "data2_parts = data2.split('<sep>')\n",
    "data2_parts = [t.strip() for t in data2_parts if len(t.strip()) > 10]"
   ]
  },
  {
   "cell_type": "code",
   "execution_count": 16,
   "id": "71f22e95",
   "metadata": {},
   "outputs": [
    {
     "data": {
      "text/plain": [
       "'Статья 32.14. Исполнение постановления об административном запрете на посещение мест проведения официальных спортивных соревнований в дни их проведения\\n1. Постановление об административном запрете на посещение мест проведения официальных спортивных соревнований в дни их проведения должно быть исполнено лицом, привлеченным к административной ответственности.\\n2. Федеральный орган исполнительной власти в сфере внутренних дел ведет список лиц, которым назначен указанный в части 1 настоящей статьи вид административного наказания, в целях обеспечения исполнения постановления об административном запрете на посещение мест проведения официальных спортивных соревнований в дни их проведения (далее - список лиц).\\n3. Внесение сведений в список лиц осуществляется федеральным органом исполнительной власти в сфере внутренних дел не позднее трех рабочих дней со дня получения им копии вступившего в силу постановления об административном запрете на посещение мест проведения официальных спортивных соревнований в дни их проведения.\\n4. Лицо считается исключенным из списка лиц по истечении срока административного запрета на посещение мест проведения официальных спортивных соревнований в дни их проведения или при наличии в федеральном органе исполнительной власти в сфере внутренних дел вступившего в силу судебного акта об отмене постановления об административном запрете на посещение мест проведения официальных спортивных соревнований в дни их проведения.\\n5. Исключение сведений из списка лиц осуществляется федеральным органом исполнительной власти в сфере внутренних дел не позднее трех рабочих дней, следующих за днем истечения срока административного запрета на посещение мест проведения официальных спортивных соревнований в дни их проведения, или не позднее трех рабочих дней со дня получения им копии вступившего в силу судебного акта об отмене постановления об административном запрете на посещение мест проведения официальных спортивных соревнований в дни их проведения.\\n6. Сведения, содержащиеся в списке лиц (фамилия, имя, отчество (при наличии), дата и место рождения лица, в отношении которого вступило в законную силу решение суда об административном запрете на посещение мест проведения официальных спортивных соревнований в дни их проведения, дата и номер решения суда об административном запрете на посещение мест проведения официальных спортивных соревнований в дни их проведения, даты начала и истечения срока административного наказания), являются открытыми для всеобщего ознакомления.\\n7. Доступ к сведениям, содержащимся в списке лиц, осуществляется посредством официального сайта федерального органа исполнительной власти в сфере внутренних дел в информационно-телекоммуникационной сети \"Интернет\". Плата за доступ к сведениям, содержащимся в списке лиц, размещенном федеральным органом исполнительной власти в сфере внутренних дел на своем официальном сайте в информационно-телекоммуникационной сети \"Интернет\", не взимается.'"
      ]
     },
     "execution_count": 16,
     "metadata": {},
     "output_type": "execute_result"
    }
   ],
   "source": [
    "data2_parts[-1]"
   ]
  },
  {
   "cell_type": "code",
   "execution_count": 15,
   "id": "5eb3d00c",
   "metadata": {},
   "outputs": [
    {
     "data": {
      "text/plain": [
       "(124153, 1074)"
      ]
     },
     "execution_count": 15,
     "metadata": {},
     "output_type": "execute_result"
    }
   ],
   "source": [
    "len(data1_parts), len(data2_parts)"
   ]
  },
  {
   "cell_type": "code",
   "execution_count": null,
   "id": "caab0f7a",
   "metadata": {},
   "outputs": [],
   "source": []
  },
  {
   "cell_type": "code",
   "execution_count": null,
   "id": "6f550808",
   "metadata": {},
   "outputs": [],
   "source": []
  },
  {
   "cell_type": "code",
   "execution_count": 18,
   "id": "3701a568",
   "metadata": {},
   "outputs": [],
   "source": [
    "random.seed(42)\n",
    "data_texts = random.sample(data1_parts, 10000) + data2_parts\n",
    "# data_texts = data1_parts + data2_parts"
   ]
  },
  {
   "cell_type": "code",
   "execution_count": 46,
   "id": "daf4b839",
   "metadata": {},
   "outputs": [
    {
     "data": {
      "text/plain": [
       "'Быки обычно бросаются на красное. Быки никогда не бросаются на оранжевое, или на бордовое, а только исключительно на красное. Не на пурпурное, не на кумачовое, а только на красное. Ну и иногда, в редких случаях, на розовое.'"
      ]
     },
     "execution_count": 46,
     "metadata": {},
     "output_type": "execute_result"
    }
   ],
   "source": [
    "t = random.sample(data_texts, 1)[0]\n",
    "t"
   ]
  },
  {
   "cell_type": "code",
   "execution_count": 44,
   "id": "d4b6379d",
   "metadata": {},
   "outputs": [],
   "source": [
    "def tokenize_text(text):\n",
    "    text = str(text).lower().strip()\n",
    "    \n",
    "    words = re.findall('[а-яё]+', text)\n",
    "    return ['<s>', '<s>'] + words + ['</s>']\n",
    "    "
   ]
  },
  {
   "cell_type": "code",
   "execution_count": 47,
   "id": "fa17de1b",
   "metadata": {},
   "outputs": [
    {
     "data": {
      "text/plain": [
       "['<s>',\n",
       " '<s>',\n",
       " 'быки',\n",
       " 'обычно',\n",
       " 'бросаются',\n",
       " 'на',\n",
       " 'красное',\n",
       " 'быки',\n",
       " 'никогда',\n",
       " 'не',\n",
       " 'бросаются',\n",
       " 'на',\n",
       " 'оранжевое',\n",
       " 'или',\n",
       " 'на',\n",
       " 'бордовое',\n",
       " 'а',\n",
       " 'только',\n",
       " 'исключительно',\n",
       " 'на',\n",
       " 'красное',\n",
       " 'не',\n",
       " 'на',\n",
       " 'пурпурное',\n",
       " 'не',\n",
       " 'на',\n",
       " 'кумачовое',\n",
       " 'а',\n",
       " 'только',\n",
       " 'на',\n",
       " 'красное',\n",
       " 'ну',\n",
       " 'и',\n",
       " 'иногда',\n",
       " 'в',\n",
       " 'редких',\n",
       " 'случаях',\n",
       " 'на',\n",
       " 'розовое',\n",
       " '</s>']"
      ]
     },
     "execution_count": 47,
     "metadata": {},
     "output_type": "execute_result"
    }
   ],
   "source": [
    "tokenize_text(t)"
   ]
  },
  {
   "cell_type": "code",
   "execution_count": 48,
   "id": "b2ae04f7",
   "metadata": {},
   "outputs": [],
   "source": [
    "texts_tokenized = [tokenize_text(t) for t in data_texts]"
   ]
  },
  {
   "cell_type": "code",
   "execution_count": 49,
   "id": "b99c20d9",
   "metadata": {},
   "outputs": [
    {
     "data": {
      "text/plain": [
       "['<s>',\n",
       " '<s>',\n",
       " 'россия',\n",
       " 'затроллила',\n",
       " 'сша',\n",
       " 'отправив',\n",
       " 'туда',\n",
       " 'в',\n",
       " 'качестве',\n",
       " 'помощи',\n",
       " 'медицинское',\n",
       " 'оборудование',\n",
       " 'произведенное',\n",
       " 'предприятием',\n",
       " 'находящимся',\n",
       " 'под',\n",
       " 'американскими',\n",
       " 'санкциями',\n",
       " '</s>']"
      ]
     },
     "execution_count": 49,
     "metadata": {},
     "output_type": "execute_result"
    }
   ],
   "source": [
    "texts_tokenized[1]"
   ]
  },
  {
   "cell_type": "code",
   "execution_count": null,
   "id": "f18c8ca5",
   "metadata": {},
   "outputs": [],
   "source": []
  },
  {
   "cell_type": "code",
   "execution_count": 50,
   "id": "a7307e56",
   "metadata": {},
   "outputs": [],
   "source": [
    "tokens_freq = defaultdict(int)\n",
    "\n",
    "for tt in texts_tokenized:\n",
    "    for tok in tt:\n",
    "        tokens_freq[tok] += 1"
   ]
  },
  {
   "cell_type": "code",
   "execution_count": 51,
   "id": "ba14f295",
   "metadata": {},
   "outputs": [
    {
     "data": {
      "text/plain": [
       "41780"
      ]
     },
     "execution_count": 51,
     "metadata": {},
     "output_type": "execute_result"
    }
   ],
   "source": [
    "len(tokens_freq)"
   ]
  },
  {
   "cell_type": "code",
   "execution_count": 64,
   "id": "f1e5e827",
   "metadata": {},
   "outputs": [],
   "source": [
    "tokens_freq = dict(sorted(tokens_freq.items(), key=lambda item: -item[1]))"
   ]
  },
  {
   "cell_type": "code",
   "execution_count": 65,
   "id": "5899467e",
   "metadata": {},
   "outputs": [],
   "source": [
    "a = iter(tokens_freq.items())"
   ]
  },
  {
   "cell_type": "code",
   "execution_count": 95,
   "id": "c0e15000",
   "metadata": {},
   "outputs": [
    {
     "data": {
      "text/plain": [
       "('либо', 1647)"
      ]
     },
     "execution_count": 95,
     "metadata": {},
     "output_type": "execute_result"
    }
   ],
   "source": [
    "next(a)"
   ]
  },
  {
   "cell_type": "code",
   "execution_count": 96,
   "id": "df3d78bb",
   "metadata": {},
   "outputs": [],
   "source": [
    "tok2id = {'<u>': 0}\n",
    "for i, it in enumerate(tokens_freq.items()):\n",
    "    tok2id[it[0]] = i+1\n",
    "    "
   ]
  },
  {
   "cell_type": "code",
   "execution_count": 97,
   "id": "7934c68f",
   "metadata": {},
   "outputs": [],
   "source": [
    "id2tok = {v:k for k,v in tok2id.items()}"
   ]
  },
  {
   "cell_type": "code",
   "execution_count": 104,
   "id": "95bce6c2",
   "metadata": {},
   "outputs": [
    {
     "data": {
      "text/plain": [
       "'доказательственных'"
      ]
     },
     "execution_count": 104,
     "metadata": {},
     "output_type": "execute_result"
    }
   ],
   "source": [
    "id2tok[40000]"
   ]
  },
  {
   "cell_type": "code",
   "execution_count": null,
   "id": "65ada350",
   "metadata": {},
   "outputs": [],
   "source": []
  },
  {
   "cell_type": "code",
   "execution_count": 105,
   "id": "7aa998b6",
   "metadata": {},
   "outputs": [],
   "source": [
    "def code_tokens2(tok1, tok2):\n",
    "    return f'{tok2id[tok1]}_{tok2id[tok2]}'\n",
    "\n",
    "\n",
    "def code_tokens3(tok1, tok2, tok3):\n",
    "    return f'{tok2id[tok1]}_{tok2id[tok2]}_{tok2id[tok3]}'\n",
    "    "
   ]
  },
  {
   "cell_type": "code",
   "execution_count": 106,
   "id": "88c22fa7",
   "metadata": {},
   "outputs": [
    {
     "name": "stderr",
     "output_type": "stream",
     "text": [
      "100%|███████████████████████████████████| 11074/11074 [00:02<00:00, 4757.83it/s]\n"
     ]
    }
   ],
   "source": [
    "LM_stat_trigram = defaultdict(lambda: defaultdict(lambda: 0))\n",
    "LM_stat_bigram = defaultdict(lambda: 0)\n",
    "\n",
    "for tt in tqdm(texts_tokenized):\n",
    "    for i in range(len(tt)-2):\n",
    "        t0 = tt[i]\n",
    "        t1 = tt[i+1]\n",
    "        t2 = tt[i+2]\n",
    "        code_2 = code_tokens2(t0, t1)\n",
    "        code_3 = code_tokens3(t0, t1, t2)\n",
    "        \n",
    "        LM_stat_trigram[code_2][code_3] += 1\n",
    "        LM_stat_bigram[code_2] += 1\n",
    "        "
   ]
  },
  {
   "cell_type": "code",
   "execution_count": 108,
   "id": "abd23069",
   "metadata": {},
   "outputs": [],
   "source": [
    "# LM_stat_trigram"
   ]
  },
  {
   "cell_type": "code",
   "execution_count": 109,
   "id": "b469c03f",
   "metadata": {},
   "outputs": [
    {
     "data": {
      "text/plain": [
       "242523"
      ]
     },
     "execution_count": 109,
     "metadata": {},
     "output_type": "execute_result"
    }
   ],
   "source": [
    "cnt = 0\n",
    "for k,v in LM_stat_trigram.items():\n",
    "    cnt += len(v)\n",
    "    \n",
    "cnt"
   ]
  },
  {
   "cell_type": "code",
   "execution_count": 111,
   "id": "73c54426",
   "metadata": {},
   "outputs": [],
   "source": [
    "# LM_stat_bigram"
   ]
  },
  {
   "cell_type": "code",
   "execution_count": 112,
   "id": "909b93ec",
   "metadata": {},
   "outputs": [
    {
     "data": {
      "text/plain": [
       "168132"
      ]
     },
     "execution_count": 112,
     "metadata": {},
     "output_type": "execute_result"
    }
   ],
   "source": [
    "len(LM_stat_bigram)"
   ]
  },
  {
   "cell_type": "code",
   "execution_count": 113,
   "id": "16562e02",
   "metadata": {},
   "outputs": [],
   "source": [
    "def get_distribution(tok1, tok2):\n",
    "    code = code_tokens2(tok1, tok2)\n",
    "    n = LM_stat_bigram[code]\n",
    "    probs = []\n",
    "    variants = []\n",
    "    for k,v in LM_stat_trigram[code].items():\n",
    "        if v > 0:\n",
    "            variants.append(k.split('_')[-1])\n",
    "            probs.append(v/n)\n",
    "    return variants, probs\n",
    "            \n",
    "    "
   ]
  },
  {
   "cell_type": "code",
   "execution_count": 115,
   "id": "2f499e21",
   "metadata": {},
   "outputs": [
    {
     "data": {
      "text/plain": [
       "(['13', '2'], [0.5, 0.5])"
      ]
     },
     "execution_count": 115,
     "metadata": {},
     "output_type": "execute_result"
    }
   ],
   "source": [
    "get_distribution('он', 'пошел')"
   ]
  },
  {
   "cell_type": "code",
   "execution_count": 116,
   "id": "6b4b6bbf",
   "metadata": {},
   "outputs": [],
   "source": [
    "def change_probs(probs: list, temperatue):\n",
    "    logits = [np.log(p) for p in probs]\n",
    "    new_logits = [l/temperatue for l in logits]\n",
    "    new_probs = [np.exp(l) for l in new_logits]\n",
    "    s = sum(new_probs)\n",
    "    new_probs = [p/s for p in new_probs]\n",
    "    return new_probs\n",
    "    "
   ]
  },
  {
   "cell_type": "code",
   "execution_count": 124,
   "id": "b0d106f4",
   "metadata": {},
   "outputs": [
    {
     "data": {
      "text/plain": [
       "[0.9939838900414879,\n",
       " 0.0060102404836413145,\n",
       " 5.869375472305977e-06,\n",
       " 9.939838900414893e-11]"
      ]
     },
     "execution_count": 124,
     "metadata": {},
     "output_type": "execute_result"
    }
   ],
   "source": [
    "probs = [0.5, 0.3, 0.15, 0.05]\n",
    "change_probs(probs, 0.1)"
   ]
  },
  {
   "cell_type": "code",
   "execution_count": 201,
   "id": "31dc0cd2",
   "metadata": {},
   "outputs": [
    {
     "data": {
      "text/plain": [
       "array([1, 0, 0, 0])"
      ]
     },
     "execution_count": 201,
     "metadata": {},
     "output_type": "execute_result"
    }
   ],
   "source": [
    "np.random.multinomial(1, [0.8, 0.1, 0.05, 0.05])"
   ]
  },
  {
   "cell_type": "code",
   "execution_count": 125,
   "id": "6a795b21",
   "metadata": {},
   "outputs": [],
   "source": [
    "def sample(variants, probs, temperature=None):\n",
    "    if temperature is not None:\n",
    "        probs = change_probs(probs, temperature)\n",
    "    experiment = np.random.multinomial(1, probs)\n",
    "    variants = np.array(variants).astype(int) * experiment\n",
    "    for i in list(variants):\n",
    "        if i > 0:\n",
    "            return id2tok[i]"
   ]
  },
  {
   "cell_type": "code",
   "execution_count": 126,
   "id": "5c365caf",
   "metadata": {},
   "outputs": [],
   "source": [
    "def generate(tok1, tok2, temperature=None):\n",
    "    res = [tok1, tok2]\n",
    "    new_tok = None\n",
    "    while new_tok != '</s>':\n",
    "        variants, probs = get_distribution(tok1, tok2)\n",
    "        new_tok = sample(variants, probs, temperature=temperature)\n",
    "        res.append(new_tok)\n",
    "        tok1 = tok2\n",
    "        tok2 = new_tok\n",
    "    return res"
   ]
  },
  {
   "cell_type": "code",
   "execution_count": null,
   "id": "62ead7f3",
   "metadata": {},
   "outputs": [],
   "source": [
    "# tok2id['</s>']"
   ]
  },
  {
   "cell_type": "code",
   "execution_count": 132,
   "id": "8d01070d",
   "metadata": {},
   "outputs": [
    {
     "data": {
      "text/plain": [
       "'я пошел если что и там у подъезда сообщу что за нелепая фраза все кончено самое интересное он почти всем помогает </s>'"
      ]
     },
     "execution_count": 132,
     "metadata": {},
     "output_type": "execute_result"
    }
   ],
   "source": [
    "tok1 = 'я'\n",
    "tok2 = 'пошел'\n",
    "' '.join(generate(tok1, tok2))"
   ]
  },
  {
   "cell_type": "code",
   "execution_count": 151,
   "id": "e3a72387",
   "metadata": {},
   "outputs": [
    {
     "data": {
      "text/plain": [
       "'я пошел в жопу </s>'"
      ]
     },
     "execution_count": 151,
     "metadata": {},
     "output_type": "execute_result"
    }
   ],
   "source": [
    "tok1 = 'я'\n",
    "tok2 = 'пошел'\n",
    "' '.join(generate(tok1, tok2, temperature=0.1))"
   ]
  },
  {
   "cell_type": "code",
   "execution_count": 178,
   "id": "0fd1a0d5",
   "metadata": {},
   "outputs": [
    {
     "data": {
      "text/plain": [
       "'я пошел спать и так мало времени так много то вы уже уходите нет но живет еще на минут </s>'"
      ]
     },
     "execution_count": 178,
     "metadata": {},
     "output_type": "execute_result"
    }
   ],
   "source": [
    "tok1 = 'я'\n",
    "tok2 = 'пошел'\n",
    "' '.join(generate(tok1, tok2, temperature=10))"
   ]
  },
  {
   "cell_type": "code",
   "execution_count": 179,
   "id": "9207b9c4",
   "metadata": {},
   "outputs": [
    {
     "data": {
      "text/plain": [
       "'российской федерации по государственному оборонному заказу в том числе вместо другого избирателя участника референдума участника общероссийского голосования в том числе отнесенных к объектам высокой или средней тяжести вреда здоровью следует понимать неопасное для жизни длительное расстройство здоровья или значительную стойкую утрату общей трудоспособности под причинением легкого вреда здоровью следует понимать неопасное для жизни длительное расстройство здоровья или значительную стойкую утрату общей трудоспособности под причинением легкого вреда здоровью людей или пописать на оголенный провод под напряжением </s>'"
      ]
     },
     "execution_count": 179,
     "metadata": {},
     "output_type": "execute_result"
    }
   ],
   "source": [
    "tok1 = 'российской'\n",
    "tok2 = 'федерации'\n",
    "\n",
    "' '.join(generate(tok1, tok2))"
   ]
  },
  {
   "cell_type": "code",
   "execution_count": 184,
   "id": "7669c1b1",
   "metadata": {},
   "outputs": [
    {
     "data": {
      "text/plain": [
       "'нарушение правил перевозок пассажиров вне установленных сроков регистрации поставщиков информации и документов подписывается должностным лицом правильно ли составлены протокол об осмотре принадлежащих юридическому лицу учитываются характер совершенного им административного правонарушения предусмотренного частью настоящей статьи влечет наложение административного штрафа на должностных лиц от десяти тысяч рублей повторное совершение административного правонарушения нарушение порядка использования автобуса трамвая или троллейбуса пассажиров в транспортное средство подвергнутое досмотру а также на подведомственных и обслуживаемых объектах и обслуживаемых организациях а также о его неиспользовании по целевому назначению использование земельного участка стоимости неисполненных обязательств предусмотренных контрактом на поставку товаров выполнение работ и специальных технических средств в жилых зонах нарушение правил дорожного движения водителем транспортного средства международной перевозки перевозящего товары находящиеся под таможенным контролем водному судну или другим должностным лицом правильно ли составлены протокол об административном правонарушении производство по делу об административном правонарушении не допускается лица участвующие в производстве которых находится дело об административном правонарушении административная ответственность за которое установлена частью настоящей статьи влечет наложение административного штрафа в размере от двадцати тысяч рублей на должностных лиц от пяти тысяч до двадцати тысяч рублей </s>'"
      ]
     },
     "execution_count": 184,
     "metadata": {},
     "output_type": "execute_result"
    }
   ],
   "source": [
    "tok1 = 'нарушение'\n",
    "tok2 = 'правил'\n",
    "\n",
    "' '.join(generate(tok1, tok2))"
   ]
  },
  {
   "cell_type": "code",
   "execution_count": 185,
   "id": "848dcf4f",
   "metadata": {},
   "outputs": [
    {
     "ename": "KeyboardInterrupt",
     "evalue": "",
     "output_type": "error",
     "traceback": [
      "\u001b[0;31m---------------------------------------------------------------------------\u001b[0m",
      "\u001b[0;31mKeyboardInterrupt\u001b[0m                         Traceback (most recent call last)",
      "Input \u001b[0;32mIn [185]\u001b[0m, in \u001b[0;36m<cell line: 4>\u001b[0;34m()\u001b[0m\n\u001b[1;32m      1\u001b[0m tok1 \u001b[38;5;241m=\u001b[39m \u001b[38;5;124m'\u001b[39m\u001b[38;5;124mнарушение\u001b[39m\u001b[38;5;124m'\u001b[39m\n\u001b[1;32m      2\u001b[0m tok2 \u001b[38;5;241m=\u001b[39m \u001b[38;5;124m'\u001b[39m\u001b[38;5;124mправил\u001b[39m\u001b[38;5;124m'\u001b[39m\n\u001b[0;32m----> 4\u001b[0m \u001b[38;5;124m'\u001b[39m\u001b[38;5;124m \u001b[39m\u001b[38;5;124m'\u001b[39m\u001b[38;5;241m.\u001b[39mjoin(\u001b[43mgenerate\u001b[49m\u001b[43m(\u001b[49m\u001b[43mtok1\u001b[49m\u001b[43m,\u001b[49m\u001b[43m \u001b[49m\u001b[43mtok2\u001b[49m\u001b[43m,\u001b[49m\u001b[43m \u001b[49m\u001b[43mtemperature\u001b[49m\u001b[38;5;241;43m=\u001b[39;49m\u001b[38;5;241;43m0.1\u001b[39;49m\u001b[43m)\u001b[49m)\n",
      "Input \u001b[0;32mIn [126]\u001b[0m, in \u001b[0;36mgenerate\u001b[0;34m(tok1, tok2, temperature)\u001b[0m\n\u001b[1;32m      4\u001b[0m \u001b[38;5;28;01mwhile\u001b[39;00m new_tok \u001b[38;5;241m!=\u001b[39m \u001b[38;5;124m'\u001b[39m\u001b[38;5;124m</s>\u001b[39m\u001b[38;5;124m'\u001b[39m:\n\u001b[1;32m      5\u001b[0m     variants, probs \u001b[38;5;241m=\u001b[39m get_distribution(tok1, tok2)\n\u001b[0;32m----> 6\u001b[0m     new_tok \u001b[38;5;241m=\u001b[39m \u001b[43msample\u001b[49m\u001b[43m(\u001b[49m\u001b[43mvariants\u001b[49m\u001b[43m,\u001b[49m\u001b[43m \u001b[49m\u001b[43mprobs\u001b[49m\u001b[43m,\u001b[49m\u001b[43m \u001b[49m\u001b[43mtemperature\u001b[49m\u001b[38;5;241;43m=\u001b[39;49m\u001b[43mtemperature\u001b[49m\u001b[43m)\u001b[49m\n\u001b[1;32m      7\u001b[0m     res\u001b[38;5;241m.\u001b[39mappend(new_tok)\n\u001b[1;32m      8\u001b[0m     tok1 \u001b[38;5;241m=\u001b[39m tok2\n",
      "Input \u001b[0;32mIn [125]\u001b[0m, in \u001b[0;36msample\u001b[0;34m(variants, probs, temperature)\u001b[0m\n\u001b[1;32m      1\u001b[0m \u001b[38;5;28;01mdef\u001b[39;00m \u001b[38;5;21msample\u001b[39m(variants, probs, temperature\u001b[38;5;241m=\u001b[39m\u001b[38;5;28;01mNone\u001b[39;00m):\n\u001b[1;32m      2\u001b[0m     \u001b[38;5;28;01mif\u001b[39;00m temperature \u001b[38;5;129;01mis\u001b[39;00m \u001b[38;5;129;01mnot\u001b[39;00m \u001b[38;5;28;01mNone\u001b[39;00m:\n\u001b[0;32m----> 3\u001b[0m         probs \u001b[38;5;241m=\u001b[39m \u001b[43mchange_probs\u001b[49m\u001b[43m(\u001b[49m\u001b[43mprobs\u001b[49m\u001b[43m,\u001b[49m\u001b[43m \u001b[49m\u001b[43mtemperature\u001b[49m\u001b[43m)\u001b[49m\n\u001b[1;32m      4\u001b[0m     experiment \u001b[38;5;241m=\u001b[39m np\u001b[38;5;241m.\u001b[39mrandom\u001b[38;5;241m.\u001b[39mmultinomial(\u001b[38;5;241m1\u001b[39m, probs)\n\u001b[1;32m      5\u001b[0m     variants \u001b[38;5;241m=\u001b[39m np\u001b[38;5;241m.\u001b[39marray(variants)\u001b[38;5;241m.\u001b[39mastype(\u001b[38;5;28mint\u001b[39m) \u001b[38;5;241m*\u001b[39m experiment\n",
      "Input \u001b[0;32mIn [116]\u001b[0m, in \u001b[0;36mchange_probs\u001b[0;34m(probs, temperatue)\u001b[0m\n\u001b[1;32m      4\u001b[0m new_probs \u001b[38;5;241m=\u001b[39m [np\u001b[38;5;241m.\u001b[39mexp(l) \u001b[38;5;28;01mfor\u001b[39;00m l \u001b[38;5;129;01min\u001b[39;00m new_logits]\n\u001b[1;32m      5\u001b[0m s \u001b[38;5;241m=\u001b[39m \u001b[38;5;28msum\u001b[39m(new_probs)\n\u001b[0;32m----> 6\u001b[0m new_probs \u001b[38;5;241m=\u001b[39m [p\u001b[38;5;241m/\u001b[39ms \u001b[38;5;28;01mfor\u001b[39;00m p \u001b[38;5;129;01min\u001b[39;00m new_probs]\n\u001b[1;32m      7\u001b[0m \u001b[38;5;28;01mreturn\u001b[39;00m new_probs\n",
      "Input \u001b[0;32mIn [116]\u001b[0m, in \u001b[0;36m<listcomp>\u001b[0;34m(.0)\u001b[0m\n\u001b[1;32m      4\u001b[0m new_probs \u001b[38;5;241m=\u001b[39m [np\u001b[38;5;241m.\u001b[39mexp(l) \u001b[38;5;28;01mfor\u001b[39;00m l \u001b[38;5;129;01min\u001b[39;00m new_logits]\n\u001b[1;32m      5\u001b[0m s \u001b[38;5;241m=\u001b[39m \u001b[38;5;28msum\u001b[39m(new_probs)\n\u001b[0;32m----> 6\u001b[0m new_probs \u001b[38;5;241m=\u001b[39m [p\u001b[38;5;241m/\u001b[39ms \u001b[38;5;28;01mfor\u001b[39;00m p \u001b[38;5;129;01min\u001b[39;00m new_probs]\n\u001b[1;32m      7\u001b[0m \u001b[38;5;28;01mreturn\u001b[39;00m new_probs\n",
      "\u001b[0;31mKeyboardInterrupt\u001b[0m: "
     ]
    }
   ],
   "source": [
    "tok1 = 'нарушение'\n",
    "tok2 = 'правил'\n",
    "\n",
    "' '.join(generate(tok1, tok2, temperature=0.1))"
   ]
  }
 ],
 "metadata": {
  "kernelspec": {
   "display_name": "Python 3 (ipykernel)",
   "language": "python",
   "name": "python3"
  },
  "language_info": {
   "codemirror_mode": {
    "name": "ipython",
    "version": 3
   },
   "file_extension": ".py",
   "mimetype": "text/x-python",
   "name": "python",
   "nbconvert_exporter": "python",
   "pygments_lexer": "ipython3",
   "version": "3.10.12"
  }
 },
 "nbformat": 4,
 "nbformat_minor": 5
}
