{
 "cells": [
  {
   "cell_type": "markdown",
   "metadata": {
    "id": "MmIagkFlQOYn"
   },
   "source": [
    "## Векторные представления слов (word embeddings)"
   ]
  },
  {
   "cell_type": "code",
   "execution_count": 1,
   "metadata": {
    "id": "EZGM_F0GQOYs"
   },
   "outputs": [],
   "source": [
    "import pandas as pd\n",
    "import matplotlib.pyplot as plt\n",
    "import seaborn as sns\n",
    "import random\n",
    "import numpy as np\n",
    "from sklearn.metrics import *\n",
    "from sklearn.feature_extraction.text import *\n",
    "from sklearn.model_selection import train_test_split\n",
    "from collections import Counter, defaultdict\n",
    "import warnings\n",
    "warnings.filterwarnings('ignore')\n",
    "random.seed(1228)\n",
    "pd.set_option('display.max_colwidth', None)\n",
    "\n",
    "%matplotlib inline"
   ]
  },
  {
   "cell_type": "markdown",
   "metadata": {
    "id": "UXb6ZMr6GVyW"
   },
   "source": [
    "# Векторизация слов из Твиттера\n"
   ]
  },
  {
   "cell_type": "code",
   "execution_count": 2,
   "metadata": {
    "colab": {
     "base_uri": "https://localhost:8080/",
     "height": 53
    },
    "id": "OxHzGwVSQOYu",
    "outputId": "3959a981-654a-499f-efcf-626d1560dce1"
   },
   "outputs": [
    {
     "data": {
      "text/plain": [
       "'g iuhoikl kjh h одлжд :))'"
      ]
     },
     "execution_count": 2,
     "metadata": {},
     "output_type": "execute_result"
    }
   ],
   "source": [
    "from pymystem3 import Mystem\n",
    "import re\n",
    "\n",
    "\n",
    "m = Mystem()\n",
    "\n",
    "\n",
    "regex = re.compile(\"[А-Яа-я:=!\\)\\()A-z\\_\\%/|]+\")\n",
    "\n",
    "def words_only(text, regex=regex):\n",
    "    try:\n",
    "        return \" \".join(regex.findall(text))\n",
    "    except:\n",
    "        return \"\"\n",
    "\n",
    "\n",
    "\n",
    "def lemmatize(text, mystem=m):\n",
    "    try:\n",
    "        return \"\".join(m.lemmatize(text)).strip()  \n",
    "    except:\n",
    "        return \" \"\n",
    "words_only('g;iuhoikl 7.kjh 87h одлжд :))')"
   ]
  },
  {
   "cell_type": "code",
   "execution_count": 3,
   "metadata": {
    "colab": {
     "base_uri": "https://localhost:8080/",
     "height": 268
    },
    "id": "jC8omZ6SQOYw",
    "outputId": "b5ca5774-7f00-4d0f-938c-d52632f178a4"
   },
   "outputs": [
    {
     "data": {
      "text/html": [
       "<div>\n",
       "<style scoped>\n",
       "    .dataframe tbody tr th:only-of-type {\n",
       "        vertical-align: middle;\n",
       "    }\n",
       "\n",
       "    .dataframe tbody tr th {\n",
       "        vertical-align: top;\n",
       "    }\n",
       "\n",
       "    .dataframe thead th {\n",
       "        text-align: right;\n",
       "    }\n",
       "</style>\n",
       "<table border=\"1\" class=\"dataframe\">\n",
       "  <thead>\n",
       "    <tr style=\"text-align: right;\">\n",
       "      <th></th>\n",
       "      <th>3</th>\n",
       "    </tr>\n",
       "  </thead>\n",
       "  <tbody>\n",
       "    <tr>\n",
       "      <th>114906</th>\n",
       "      <td>Спала в родительском доме, на своей кровати... Проснулась с кошкой на голове))</td>\n",
       "    </tr>\n",
       "    <tr>\n",
       "      <th>114907</th>\n",
       "      <td>RT @jebesilofyt: Эх... Мы немного решили сократить путь, сейчас уже лежу в мягкой кровати :) а с отсутствием сети помогла справится какая-</td>\n",
       "    </tr>\n",
       "    <tr>\n",
       "      <th>114908</th>\n",
       "      <td>Что происходит со мной, когда в эфире #proactivefm звучит моя любимая песня)) #dctalk #music @… http://t.co/65KGFFd5oO</td>\n",
       "    </tr>\n",
       "    <tr>\n",
       "      <th>114909</th>\n",
       "      <td>\"Любимая,я подарю тебе эту звезду...\" Имя какой звезды переводится \"подмышка\"? ;-)</td>\n",
       "    </tr>\n",
       "    <tr>\n",
       "      <th>114910</th>\n",
       "      <td>@Ma_che_rie посмотри #непытайтесьпокинутьомск сегодня в Вавилоне в 18.20. Я там тоже есть :)</td>\n",
       "    </tr>\n",
       "  </tbody>\n",
       "</table>\n",
       "</div>"
      ],
      "text/plain": [
       "                                                                                                                                                 3\n",
       "114906                                                              Спала в родительском доме, на своей кровати... Проснулась с кошкой на голове))\n",
       "114907  RT @jebesilofyt: Эх... Мы немного решили сократить путь, сейчас уже лежу в мягкой кровати :) а с отсутствием сети помогла справится какая-\n",
       "114908                      Что происходит со мной, когда в эфире #proactivefm звучит моя любимая песня)) #dctalk #music @… http://t.co/65KGFFd5oO\n",
       "114909                                                          \"Любимая,я подарю тебе эту звезду...\" Имя какой звезды переводится \"подмышка\"? ;-)\n",
       "114910                                                @Ma_che_rie посмотри #непытайтесьпокинутьомск сегодня в Вавилоне в 18.20. Я там тоже есть :)"
      ]
     },
     "execution_count": 3,
     "metadata": {},
     "output_type": "execute_result"
    }
   ],
   "source": [
    "df_pos = pd.read_csv(\"positive.csv\", sep=';', header = None, usecols = [3])\n",
    "df_pos.tail()"
   ]
  },
  {
   "cell_type": "code",
   "execution_count": 4,
   "metadata": {
    "colab": {
     "base_uri": "https://localhost:8080/",
     "height": 206
    },
    "id": "_gSpeVlOfYbv",
    "outputId": "7ca12677-c364-4ba3-d0d1-d3028b805cfc"
   },
   "outputs": [
    {
     "data": {
      "text/html": [
       "<div>\n",
       "<style scoped>\n",
       "    .dataframe tbody tr th:only-of-type {\n",
       "        vertical-align: middle;\n",
       "    }\n",
       "\n",
       "    .dataframe tbody tr th {\n",
       "        vertical-align: top;\n",
       "    }\n",
       "\n",
       "    .dataframe thead th {\n",
       "        text-align: right;\n",
       "    }\n",
       "</style>\n",
       "<table border=\"1\" class=\"dataframe\">\n",
       "  <thead>\n",
       "    <tr style=\"text-align: right;\">\n",
       "      <th></th>\n",
       "      <th>3</th>\n",
       "    </tr>\n",
       "  </thead>\n",
       "  <tbody>\n",
       "    <tr>\n",
       "      <th>0</th>\n",
       "      <td>на работе был полный пиддес :| и так каждое закрытие месяца, я же свихнусь так D:</td>\n",
       "    </tr>\n",
       "    <tr>\n",
       "      <th>1</th>\n",
       "      <td>Коллеги сидят рубятся в Urban terror, а я из-за долбанной винды не могу :(</td>\n",
       "    </tr>\n",
       "    <tr>\n",
       "      <th>2</th>\n",
       "      <td>@elina_4post как говорят обещаного три года ждут...((</td>\n",
       "    </tr>\n",
       "    <tr>\n",
       "      <th>3</th>\n",
       "      <td>Желаю хорошего полёта и удачной посадки,я буду очень сильно скучать( http://t.co/jCLNzVNv3S</td>\n",
       "    </tr>\n",
       "    <tr>\n",
       "      <th>4</th>\n",
       "      <td>Обновил за каким-то лешим surf, теперь не работает простоплеер :(</td>\n",
       "    </tr>\n",
       "  </tbody>\n",
       "</table>\n",
       "</div>"
      ],
      "text/plain": [
       "                                                                                             3\n",
       "0            на работе был полный пиддес :| и так каждое закрытие месяца, я же свихнусь так D:\n",
       "1                   Коллеги сидят рубятся в Urban terror, а я из-за долбанной винды не могу :(\n",
       "2                                        @elina_4post как говорят обещаного три года ждут...((\n",
       "3  Желаю хорошего полёта и удачной посадки,я буду очень сильно скучать( http://t.co/jCLNzVNv3S\n",
       "4                            Обновил за каким-то лешим surf, теперь не работает простоплеер :("
      ]
     },
     "execution_count": 4,
     "metadata": {},
     "output_type": "execute_result"
    }
   ],
   "source": [
    "df_pos = pd.read_csv(\"negative.csv\", sep=';', header = None, usecols = [3])\n",
    "df_pos.head()"
   ]
  },
  {
   "cell_type": "markdown",
   "metadata": {
    "id": "ysblXFII_ynJ"
   },
   "source": [
    "**Вопрос 1:** Стоит ли удалять пунктуацию на этапе предобработки? Если нет, то почему?\n",
    "\n",
    "**Вопрос 2:** Лемматизация или стемминг, какой метод лучше выбрать?"
   ]
  },
  {
   "cell_type": "code",
   "execution_count": 5,
   "metadata": {
    "colab": {
     "base_uri": "https://localhost:8080/"
    },
    "id": "YzH1KFU5QOYv",
    "outputId": "4fb679b9-365c-4d01-f860-dc8af133c0bc"
   },
   "outputs": [
    {
     "name": "stdout",
     "output_type": "stream",
     "text": [
      "Wall time: 1.05 s\n"
     ]
    }
   ],
   "source": [
    "df_neg = pd.read_csv(\"negative.csv\", sep=';', header = None, usecols = [3])\n",
    "df_pos = pd.read_csv(\"positive.csv\", sep=';', header = None, usecols = [3])\n",
    "df_neg['sent'] = 'neg'\n",
    "df_pos['sent'] = 'pos'\n",
    "df_pos['text'] = df_pos[3]\n",
    "df_neg['text'] = df_neg[3]\n",
    "df = pd.concat([df_neg, df_pos])\n",
    "df = df[['text', 'sent']]\n",
    "%time df.text = df.text.apply(words_only)\n",
    "#%time df.text = df.text.apply(lemmatize)"
   ]
  },
  {
   "cell_type": "markdown",
   "metadata": {
    "id": "xhsQbpvEGbrc"
   },
   "source": [
    "Загрузим предобработанные данные. Слова в твитах были лемматизированы и очищены от лишней пунктуации."
   ]
  },
  {
   "cell_type": "code",
   "execution_count": 3,
   "metadata": {
    "colab": {
     "base_uri": "https://localhost:8080/",
     "height": 206
    },
    "id": "BoOkwLauQOYw",
    "outputId": "8e9e3afa-7051-4077-f2c2-44338e533236"
   },
   "outputs": [
    {
     "data": {
      "text/html": [
       "<div>\n",
       "<style scoped>\n",
       "    .dataframe tbody tr th:only-of-type {\n",
       "        vertical-align: middle;\n",
       "    }\n",
       "\n",
       "    .dataframe tbody tr th {\n",
       "        vertical-align: top;\n",
       "    }\n",
       "\n",
       "    .dataframe thead th {\n",
       "        text-align: right;\n",
       "    }\n",
       "</style>\n",
       "<table border=\"1\" class=\"dataframe\">\n",
       "  <thead>\n",
       "    <tr style=\"text-align: right;\">\n",
       "      <th></th>\n",
       "      <th>text</th>\n",
       "      <th>sent</th>\n",
       "    </tr>\n",
       "  </thead>\n",
       "  <tbody>\n",
       "    <tr>\n",
       "      <th>0</th>\n",
       "      <td>на работа быть полный пиддеса :| и так каждый закрытие месяц я же свихиваться так D:</td>\n",
       "      <td>neg</td>\n",
       "    </tr>\n",
       "    <tr>\n",
       "      <th>1</th>\n",
       "      <td>коллега сидеть рубиться в Urban terror а я из за долбать винд не мочь :(</td>\n",
       "      <td>neg</td>\n",
       "    </tr>\n",
       "    <tr>\n",
       "      <th>2</th>\n",
       "      <td>elina_ post как говорить обещаной три год ждать ((</td>\n",
       "      <td>neg</td>\n",
       "    </tr>\n",
       "    <tr>\n",
       "      <th>3</th>\n",
       "      <td>желать хороший пол тот и удачный посадка я быть очень сильно скучать( http://t co/jCLNzVNv S</td>\n",
       "      <td>neg</td>\n",
       "    </tr>\n",
       "    <tr>\n",
       "      <th>4</th>\n",
       "      <td>обновлять за какой то леший surf теперь не работать простоплеер :(</td>\n",
       "      <td>neg</td>\n",
       "    </tr>\n",
       "  </tbody>\n",
       "</table>\n",
       "</div>"
      ],
      "text/plain": [
       "                                                                                           text  \\\n",
       "0          на работа быть полный пиддеса :| и так каждый закрытие месяц я же свихиваться так D:   \n",
       "1                      коллега сидеть рубиться в Urban terror а я из за долбать винд не мочь :(   \n",
       "2                                            elina_ post как говорить обещаной три год ждать ((   \n",
       "3  желать хороший пол тот и удачный посадка я быть очень сильно скучать( http://t co/jCLNzVNv S   \n",
       "4                            обновлять за какой то леший surf теперь не работать простоплеер :(   \n",
       "\n",
       "  sent  \n",
       "0  neg  \n",
       "1  neg  \n",
       "2  neg  \n",
       "3  neg  \n",
       "4  neg  "
      ]
     },
     "execution_count": 3,
     "metadata": {},
     "output_type": "execute_result"
    }
   ],
   "source": [
    "# Data load for Windows users\n",
    "df = pd.read_csv('processed_text.csv', index_col = 0)\n",
    "df.head()"
   ]
  },
  {
   "cell_type": "code",
   "execution_count": 7,
   "metadata": {
    "colab": {
     "base_uri": "https://localhost:8080/"
    },
    "id": "skvaIoAMQOYw",
    "outputId": "29112b9f-bef3-4a88-bb7d-dc36b0ed3db3"
   },
   "outputs": [
    {
     "name": "stdout",
     "output_type": "stream",
     "text": [
      "(226834, 2)\n"
     ]
    }
   ],
   "source": [
    "print(df.shape)\n",
    "#df.head()"
   ]
  },
  {
   "cell_type": "code",
   "execution_count": 8,
   "metadata": {
    "colab": {
     "base_uri": "https://localhost:8080/"
    },
    "id": "IwWFoxQCQOYx",
    "outputId": "178b6f45-57e3-4a58-9f0a-26c950ee70b0"
   },
   "outputs": [
    {
     "data": {
      "text/plain": [
       "['на',\n",
       " 'работа',\n",
       " 'быть',\n",
       " 'полный',\n",
       " 'пиддеса',\n",
       " ':|',\n",
       " 'и',\n",
       " 'так',\n",
       " 'каждый',\n",
       " 'закрытие',\n",
       " 'месяц',\n",
       " 'я',\n",
       " 'же',\n",
       " 'свихиваться',\n",
       " 'так',\n",
       " 'D:']"
      ]
     },
     "execution_count": 8,
     "metadata": {},
     "output_type": "execute_result"
    }
   ],
   "source": [
    "texts = [df.text.iloc[i].split() for i in range(len(df))]\n",
    "texts[0]"
   ]
  },
  {
   "cell_type": "markdown",
   "metadata": {
    "id": "LTImqR_XQOYx"
   },
   "source": [
    "## Word2Vec модель\n",
    "\n",
    "Алгоритм Word2Vec реализован в библиотеке `gensim`. Обучение модели - это всего несколько строк кода.\n",
    "\n"
   ]
  },
  {
   "cell_type": "code",
   "execution_count": 9,
   "metadata": {
    "colab": {
     "base_uri": "https://localhost:8080/"
    },
    "id": "bdNkeFJ2QOYx",
    "outputId": "f1d259a2-9193-4e90-bd2c-41829d9a110f"
   },
   "outputs": [
    {
     "name": "stdout",
     "output_type": "stream",
     "text": [
      "Wall time: 9.82 s\n"
     ]
    }
   ],
   "source": [
    "%%time\n",
    "from gensim.models import Word2Vec\n",
    "model = Word2Vec(texts, window=5, min_count=5, workers=4)\n",
    "model.save(\"word2v.model\")"
   ]
  },
  {
   "cell_type": "code",
   "execution_count": 10,
   "metadata": {
    "id": "wXhwfK26QOYy"
   },
   "outputs": [],
   "source": [
    "#model = Word2Vec.load(\"word2v.model\") "
   ]
  },
  {
   "cell_type": "markdown",
   "metadata": {
    "id": "oKcVPe46Gm2R"
   },
   "source": [
    "Посмотрим на близкие слова."
   ]
  },
  {
   "cell_type": "code",
   "execution_count": 11,
   "metadata": {
    "colab": {
     "base_uri": "https://localhost:8080/"
    },
    "id": "zq5xpQMlQOYy",
    "outputId": "5c8e3582-9047-48d4-b063-9e0ba920d75d"
   },
   "outputs": [
    {
     "data": {
      "text/plain": [
       "[('шк', 0.8744094371795654),\n",
       " ('универ', 0.7902191877365112),\n",
       " ('колледж', 0.770672082901001),\n",
       " ('больница', 0.7665353417396545),\n",
       " ('школа)', 0.7493963837623596),\n",
       " ('школа(', 0.7230673432350159),\n",
       " ('суббота', 0.7127960920333862),\n",
       " ('понедельник', 0.7058786153793335),\n",
       " ('среда', 0.7047770619392395),\n",
       " ('музыкалка', 0.7004191875457764)]"
      ]
     },
     "execution_count": 11,
     "metadata": {},
     "output_type": "execute_result"
    }
   ],
   "source": [
    "model.wv.most_similar(\"школа\")"
   ]
  },
  {
   "cell_type": "code",
   "execution_count": 12,
   "metadata": {
    "colab": {
     "base_uri": "https://localhost:8080/"
    },
    "id": "TpUx4zWGQOYy",
    "outputId": "ee46bc82-5a60-46e6-8d99-85450235151d"
   },
   "outputs": [
    {
     "data": {
      "text/plain": [
       "[('учеба', 0.7521852850914001),\n",
       " ('обед', 0.7155938148498535),\n",
       " ('тренировка', 0.706629753112793),\n",
       " ('опаздывать', 0.7032637596130371),\n",
       " ('завтрак', 0.6546818017959595),\n",
       " ('выходной', 0.652853786945343),\n",
       " ('часы', 0.6499291658401489),\n",
       " ('треня', 0.6484896540641785),\n",
       " ('лыжа', 0.6477647423744202),\n",
       " ('ужин', 0.6461463570594788)]"
      ]
     },
     "execution_count": 12,
     "metadata": {},
     "output_type": "execute_result"
    }
   ],
   "source": [
    "model.wv.most_similar(\"работа\")"
   ]
  },
  {
   "cell_type": "code",
   "execution_count": 13,
   "metadata": {
    "colab": {
     "base_uri": "https://localhost:8080/"
    },
    "id": "SFOY4enuQOYy",
    "outputId": "8cd9c695-4842-44ff-a33f-ce74a1f9258b"
   },
   "outputs": [
    {
     "data": {
      "text/plain": [
       "[('сентябрь', 0.8293697237968445),\n",
       " ('март', 0.7916678786277771),\n",
       " ('февраль', 0.782750129699707),\n",
       " ('поездка', 0.7766233086585999),\n",
       " ('абонемент', 0.7761749625205994),\n",
       " ('ноябрь', 0.7727682590484619),\n",
       " ('отдых', 0.7599515318870544),\n",
       " ('заказ', 0.7544617652893066),\n",
       " ('гулянка', 0.750309944152832),\n",
       " ('перерыв', 0.749772310256958)]"
      ]
     },
     "execution_count": 13,
     "metadata": {},
     "output_type": "execute_result"
    }
   ],
   "source": [
    "model.wv.most_similar(\"отпуск\")"
   ]
  },
  {
   "cell_type": "code",
   "execution_count": 14,
   "metadata": {
    "colab": {
     "base_uri": "https://localhost:8080/"
    },
    "id": "zBQ71U3hQOYz",
    "outputId": "48aee7ba-21bc-4d85-95f5-a562d709a5f5"
   },
   "outputs": [
    {
     "data": {
      "text/plain": [
       "[('поступление', 0.8519297242164612),\n",
       " ('университет', 0.8332713842391968),\n",
       " ('конгениальность!!!', 0.8101741671562195),\n",
       " ('мисс', 0.7691627740859985),\n",
       " ('пупок', 0.7616130709648132),\n",
       " ('палата', 0.7611847519874573),\n",
       " ('нато', 0.7597895860671997),\n",
       " ('чайник', 0.756253719329834),\n",
       " ('поза', 0.7547414898872375),\n",
       " ('оф', 0.7519538402557373)]"
      ]
     },
     "execution_count": 14,
     "metadata": {},
     "output_type": "execute_result"
    }
   ],
   "source": [
    "vec = (model.wv['университет'] - model.wv['студент'] + model.wv['школьник'])/3\n",
    "model.wv.similar_by_vector(vec)"
   ]
  },
  {
   "cell_type": "code",
   "execution_count": 15,
   "metadata": {
    "colab": {
     "base_uri": "https://localhost:8080/"
    },
    "id": "eOIreCfrQOYz",
    "outputId": "0766bc54-5881-4b66-d7a1-5d8c29a52ab1"
   },
   "outputs": [
    {
     "data": {
      "text/plain": [
       "[('лето', 0.9564117789268494),\n",
       " ('весна', 0.8304807543754578),\n",
       " ('зима', 0.754650354385376),\n",
       " ('осень', 0.7354536652565002),\n",
       " ('каникулы', 0.715194582939148),\n",
       " ('холод', 0.6940246820449829),\n",
       " ('выходной', 0.6730140447616577),\n",
       " ('дождь', 0.6483102440834045),\n",
       " ('праздник', 0.648040771484375),\n",
       " ('каникулы)', 0.6428772211074829)]"
      ]
     },
     "execution_count": 15,
     "metadata": {},
     "output_type": "execute_result"
    }
   ],
   "source": [
    "vec = (model.wv['лето'] - model.wv['жара'] + model.wv['холод'])/3\n",
    "model.wv.similar_by_vector(vec)"
   ]
  },
  {
   "cell_type": "code",
   "execution_count": 16,
   "metadata": {
    "colab": {
     "base_uri": "https://localhost:8080/",
     "height": 35
    },
    "id": "wfUg5_PChJQS",
    "outputId": "369c3abc-8342-421e-8623-bc79f2a24292"
   },
   "outputs": [
    {
     "data": {
      "text/plain": [
       "'ночь'"
      ]
     },
     "execution_count": 16,
     "metadata": {},
     "output_type": "execute_result"
    }
   ],
   "source": [
    "model.wv.doesnt_match(\"ночь улица фонарь аптека\".split())"
   ]
  },
  {
   "cell_type": "code",
   "execution_count": 17,
   "metadata": {
    "colab": {
     "base_uri": "https://localhost:8080/",
     "height": 35
    },
    "id": "bml-qySNjBMi",
    "outputId": "394b3498-9b66-451c-8f7f-cfc19370d3ae"
   },
   "outputs": [
    {
     "data": {
      "text/plain": [
       "'еда'"
      ]
     },
     "execution_count": 17,
     "metadata": {},
     "output_type": "execute_result"
    }
   ],
   "source": [
    "model.wv.doesnt_match(\"цветок дерево кактус еда\".split())"
   ]
  },
  {
   "cell_type": "code",
   "execution_count": 18,
   "metadata": {
    "colab": {
     "base_uri": "https://localhost:8080/",
     "height": 35
    },
    "id": "_ir3JH2HjPzU",
    "outputId": "d94f3684-04b1-4c16-bea7-9ba2f8cf8bcf"
   },
   "outputs": [
    {
     "data": {
      "text/plain": [
       "'халява'"
      ]
     },
     "execution_count": 18,
     "metadata": {},
     "output_type": "execute_result"
    }
   ],
   "source": [
    "model.wv.doesnt_match(\"город время человек халява\".split())"
   ]
  },
  {
   "cell_type": "markdown",
   "metadata": {
    "id": "_g1ypNwuQOYz"
   },
   "source": [
    "### Визуализация пространства слов \n",
    "\n",
    "Возьмем 500 наиболее частотных слов и визуализируем их векторные представления на плоскости с помощью TSNE."
   ]
  },
  {
   "cell_type": "code",
   "execution_count": 19,
   "metadata": {
    "colab": {
     "base_uri": "https://localhost:8080/"
    },
    "id": "jM6BXH7XQOY0",
    "outputId": "edbafccb-daf8-4b26-ff4c-81a2516c22be",
    "scrolled": true
   },
   "outputs": [
    {
     "name": "stdout",
     "output_type": "stream",
     "text": [
      "['я', 'не', 'и', 'в', 'на', 'что', 'RT', 'а', 'http://t', 'быть', 'ты', 'с', 'как', 'то', 'у', 'это', ':(', 'так', ':', ')', '(', 'но', 'все', 'он', 'ну', 'по', 'мы', ':)', 'мой', 'за', 'весь', 'хотеть', 'такой', ':D', 'уже', 'этот', 'вот', 'же', 'только', 'день', 'да', 'кто', 'еще', 'сегодня', 'она', 'бы', 'когда', 'мочь', 'они', 'вы', 'к', 'очень', 'из', 'просто', 'нет', 'один', 'знать', 'какой', 'от', 'год', 'если', 'теперь', 'любить', 'человек', 'свой', 'co/', 'даже', 'о', 'надо', 'до', 'новый', 'завтра', 'тоже', 'там', 'вс', 'тот', 'вообще', '((', 'для', 'самый', 'хороший', 'себя', 'хорошо', 'сейчас', '))', 'почему', 'делать', 'который', 'думать', 'много', 'раз', 'понимать', 'сказать', '(((', 'блин', 'смотреть', 'без', 'время', 'спать', 'спасибо', 'или', 'тут', 'утро', ')))', 'говорить', 'идти', 'сидеть', 'со', 'пойти', 'давать', 'про', 'ничто', 'писать', 'сделать', 'всегда', 'можно', 'жизнь', 'друг', 'первый', 'скоро', 'сам', 'наш', 'где', 'мама', 'потом', 'школа', '!', 'час', 'т', 'ни', 'после', 'ещ', 'чтобы', 'опять', 'ночь', 'ждать', 'твой', 'настроение', 'становиться', 'чем', 'приходить', 'написать', 'пока', '/', 'никто', 'хотеться', 'последний', 'начинать', 'два', 'посмотреть', 'видеть', 'хоть', 'работа', 'любимый', 'добрый', 'болеть', 'находить', 'оставаться', 'забывать', 'ахах', 'каждый', 'купить', 'м', 'дело', 'во', 'другой', 'вечер', 'вчера', 'неделя', 'под', 'через', 'потому', 'нужно', 'дома', 'совсем', 'хотя', 'читать', 'нибудь', 'плохо', 'выходить', 'урок', 'ли', 'рано', 'голова', 'фильм', 'снег', 'ехать', 'нравиться', 'надеяться', 'никогда', 'ведь', 'жить', 'D', 'скучать', 'ходить', 'конечно', 'работать', 'нужный', 'тогда', 'жаль', 'дом', 'второй', ':((', 'ж', 'домой', 'телефон', 'пора', 'правда', 'равный', 'нга', 'решать', 'пара', 'приезжать', 'вроде', 'бля', 'мало', 'е', 'о_о', 'парень', '=(', 'таки', 'больше', 'сон', 'л', 'проходить', 'песня', 'улица', 'рука', '=)', 'уходить', 'ахи', 'слово', 'твиттер', 'новогодний', 'снова', 'его', 'вставать', 'точно', 'давно', 'увидеть', 'получаться', 'фотка', 'просыпаться', 'большой', 'уж', 'почти', '_', 'зачем', 'минута', 'играть', 'зима', 'место', 'помнить', 'девушка', 'куда', 'сразу', 'прямой', 'приходиться', 'gt', 'с:', 'кстати', '((((', 'чуть', 'получать', 'слушать', 'прощать', 'сильно', 'сколько', 'крутой', 'столько', 'ч', 'чувствовать', 'успевать', 'глаз', 'узнавать', 'подарок', 'оказываться', 'плохой', 'ваш', 'че', 'лента', 'б', 'должный', 'быстро', 'х', 'бояться', 'деньги', 'ненавидеть', 'выходной', 'наверное', 'взять', 'ибо', 'начинаться', 'смочь', 'сдавать', 'папа', 'конец', 'наконец', 'ладно', 'любовь', 'сходить', 'помогать', 'привет', 'класс', 'н', 'месяц', 'город', 'перед', 'lt', ':))', 'момент', 'при', 'стоять', 'собираться', 'маленький', 'рождение', 'русский', 'заканчиваться', 'щас', 'девочка', 'мир', 'нельзя', 'долго', 'ребенок', 'умирать', 'казаться', 'три', 'чувство', 'красивый', 'ой', 'вопрос', 'оно', 'целый', 'чтоб', 'музыка', 'нога', 'далеко', 'немного', 'об', 'отличный', 'россия', 'старый', 'милый', 'твит', 'серия', 'зато', 'эх', 'вспомнить', 'рад', 'экзамен', 'отвечать', 'есть', 'круто', 'бывать', 'жалко', 'уезжать', 'ребята', 'х)', 'иногда', 'интересно', 'история', 'блять', 'пол', 'гулять', 'норма', '))))', ':(((', 'поставлять', 'рассказывать', 'пить', 'поехать', 'плакать', 'слишком', 'пусть', 'фото', ':DD', ':|', 'учить', 'проблема', 'пиздец', 'счастие', 'игра', 'ложиться', 'уставать', 'подруга', 'поздравлять', 'именно', 'показывать', 'душа', 'убивать', 'главное', 'нормально', 'значит', 'ко', 'праздник', 'интересный', 'поэтому', 'может', 'каникулы', 'лето', 'й', 'вк', 'ужасный', 'машина', 'интернет', 'офигенный', 'учиться', 'погода', 'поход', 'спрашивать', 'зайти', 'уметь', 'проводить', 'сука', 'понравиться', 'полный', 'классный', 'ужасно', 'кот', 'нормальный', 'верить', 'родитель', 'пятница', 'приятно', 'лишь', 'прекрасный', 'группа', 'вместе', 'сей', 'часто', 'скучно', 'брат', 'тип', 'особенно', 'видео', 'боль', 'обидно', 'никак', 'подумать', 'ох', 'голос', 'магазин', 'ахахах', 'мысль', 'открывать', 'д', 'хватать', 'пытаться', 'новость', 'р', 'ага', '^_^', 'москва', 'следующий', 'боже', 'желание', 'представлять', 'рядом', 'встречать', 'кажется', 'подарить', ':)))', 'план', 'называть', 'всего', 'дорогой', 'понедельник', 'концерт', 'туда', 'заболевать', 'чай', 'обожать', 'бесить', ':с', 'назад', 'книга', 'их', 'реально', 'лицо', 'замечать', 'здесь', 'быть)', 'прочитывать', 'тема', 'сезон', 'приятный', 'заниматься', 'окно', 'сериал', 'будто', 'любой', 'попадать', 'никакой', 'amp', 'вромайдан', 'капец', 'искать', 'лежать', 'суббота', 'видимо']\n"
     ]
    }
   ],
   "source": [
    "top_words = []\n",
    "from nltk import FreqDist\n",
    "fd = FreqDist()\n",
    "for text in texts:\n",
    "    fd.update(text)\n",
    "for i in fd.most_common(500):\n",
    "    top_words.append(i[0])\n",
    "print(top_words)"
   ]
  },
  {
   "cell_type": "code",
   "execution_count": 20,
   "metadata": {
    "id": "kwwQ9duTQOY0"
   },
   "outputs": [],
   "source": [
    "top_words_vec = model.wv[top_words]"
   ]
  },
  {
   "cell_type": "code",
   "execution_count": 21,
   "metadata": {
    "colab": {
     "base_uri": "https://localhost:8080/"
    },
    "id": "4TYJYDU_QOY0",
    "outputId": "8768964c-a541-4d3c-8b9d-9269caca9e7f"
   },
   "outputs": [
    {
     "data": {
      "text/plain": [
       "(500, 100)"
      ]
     },
     "execution_count": 21,
     "metadata": {},
     "output_type": "execute_result"
    }
   ],
   "source": [
    "top_words_vec.shape"
   ]
  },
  {
   "cell_type": "code",
   "execution_count": 22,
   "metadata": {
    "id": "LkUWx-84QOY0"
   },
   "outputs": [],
   "source": [
    "from sklearn.manifold import TSNE\n",
    "tsne = TSNE(n_components=2, random_state=0)\n",
    "top_words_tsne = tsne.fit_transform(top_words_vec)"
   ]
  },
  {
   "cell_type": "code",
   "execution_count": 23,
   "metadata": {
    "colab": {
     "base_uri": "https://localhost:8080/",
     "height": 617
    },
    "id": "Ngr3XCWfQOY1",
    "outputId": "bc87f846-aff4-43ad-835f-98fb63b8c934"
   },
   "outputs": [
    {
     "data": {
      "text/html": [
       "\n",
       "    <div class=\"bk-root\">\n",
       "        <a href=\"https://bokeh.org\" target=\"_blank\" class=\"bk-logo bk-logo-small bk-logo-notebook\"></a>\n",
       "        <span id=\"1001\">Loading BokehJS ...</span>\n",
       "    </div>"
      ]
     },
     "metadata": {},
     "output_type": "display_data"
    },
    {
     "data": {
      "application/javascript": [
       "\n",
       "(function(root) {\n",
       "  function now() {\n",
       "    return new Date();\n",
       "  }\n",
       "\n",
       "  var force = true;\n",
       "\n",
       "  if (typeof root._bokeh_onload_callbacks === \"undefined\" || force === true) {\n",
       "    root._bokeh_onload_callbacks = [];\n",
       "    root._bokeh_is_loading = undefined;\n",
       "  }\n",
       "\n",
       "  var JS_MIME_TYPE = 'application/javascript';\n",
       "  var HTML_MIME_TYPE = 'text/html';\n",
       "  var EXEC_MIME_TYPE = 'application/vnd.bokehjs_exec.v0+json';\n",
       "  var CLASS_NAME = 'output_bokeh rendered_html';\n",
       "\n",
       "  /**\n",
       "   * Render data to the DOM node\n",
       "   */\n",
       "  function render(props, node) {\n",
       "    var script = document.createElement(\"script\");\n",
       "    node.appendChild(script);\n",
       "  }\n",
       "\n",
       "  /**\n",
       "   * Handle when an output is cleared or removed\n",
       "   */\n",
       "  function handleClearOutput(event, handle) {\n",
       "    var cell = handle.cell;\n",
       "\n",
       "    var id = cell.output_area._bokeh_element_id;\n",
       "    var server_id = cell.output_area._bokeh_server_id;\n",
       "    // Clean up Bokeh references\n",
       "    if (id != null && id in Bokeh.index) {\n",
       "      Bokeh.index[id].model.document.clear();\n",
       "      delete Bokeh.index[id];\n",
       "    }\n",
       "\n",
       "    if (server_id !== undefined) {\n",
       "      // Clean up Bokeh references\n",
       "      var cmd = \"from bokeh.io.state import curstate; print(curstate().uuid_to_server['\" + server_id + \"'].get_sessions()[0].document.roots[0]._id)\";\n",
       "      cell.notebook.kernel.execute(cmd, {\n",
       "        iopub: {\n",
       "          output: function(msg) {\n",
       "            var id = msg.content.text.trim();\n",
       "            if (id in Bokeh.index) {\n",
       "              Bokeh.index[id].model.document.clear();\n",
       "              delete Bokeh.index[id];\n",
       "            }\n",
       "          }\n",
       "        }\n",
       "      });\n",
       "      // Destroy server and session\n",
       "      var cmd = \"import bokeh.io.notebook as ion; ion.destroy_server('\" + server_id + \"')\";\n",
       "      cell.notebook.kernel.execute(cmd);\n",
       "    }\n",
       "  }\n",
       "\n",
       "  /**\n",
       "   * Handle when a new output is added\n",
       "   */\n",
       "  function handleAddOutput(event, handle) {\n",
       "    var output_area = handle.output_area;\n",
       "    var output = handle.output;\n",
       "\n",
       "    // limit handleAddOutput to display_data with EXEC_MIME_TYPE content only\n",
       "    if ((output.output_type != \"display_data\") || (!output.data.hasOwnProperty(EXEC_MIME_TYPE))) {\n",
       "      return\n",
       "    }\n",
       "\n",
       "    var toinsert = output_area.element.find(\".\" + CLASS_NAME.split(' ')[0]);\n",
       "\n",
       "    if (output.metadata[EXEC_MIME_TYPE][\"id\"] !== undefined) {\n",
       "      toinsert[toinsert.length - 1].firstChild.textContent = output.data[JS_MIME_TYPE];\n",
       "      // store reference to embed id on output_area\n",
       "      output_area._bokeh_element_id = output.metadata[EXEC_MIME_TYPE][\"id\"];\n",
       "    }\n",
       "    if (output.metadata[EXEC_MIME_TYPE][\"server_id\"] !== undefined) {\n",
       "      var bk_div = document.createElement(\"div\");\n",
       "      bk_div.innerHTML = output.data[HTML_MIME_TYPE];\n",
       "      var script_attrs = bk_div.children[0].attributes;\n",
       "      for (var i = 0; i < script_attrs.length; i++) {\n",
       "        toinsert[toinsert.length - 1].firstChild.setAttribute(script_attrs[i].name, script_attrs[i].value);\n",
       "        toinsert[toinsert.length - 1].firstChild.textContent = bk_div.children[0].textContent\n",
       "      }\n",
       "      // store reference to server id on output_area\n",
       "      output_area._bokeh_server_id = output.metadata[EXEC_MIME_TYPE][\"server_id\"];\n",
       "    }\n",
       "  }\n",
       "\n",
       "  function register_renderer(events, OutputArea) {\n",
       "\n",
       "    function append_mime(data, metadata, element) {\n",
       "      // create a DOM node to render to\n",
       "      var toinsert = this.create_output_subarea(\n",
       "        metadata,\n",
       "        CLASS_NAME,\n",
       "        EXEC_MIME_TYPE\n",
       "      );\n",
       "      this.keyboard_manager.register_events(toinsert);\n",
       "      // Render to node\n",
       "      var props = {data: data, metadata: metadata[EXEC_MIME_TYPE]};\n",
       "      render(props, toinsert[toinsert.length - 1]);\n",
       "      element.append(toinsert);\n",
       "      return toinsert\n",
       "    }\n",
       "\n",
       "    /* Handle when an output is cleared or removed */\n",
       "    events.on('clear_output.CodeCell', handleClearOutput);\n",
       "    events.on('delete.Cell', handleClearOutput);\n",
       "\n",
       "    /* Handle when a new output is added */\n",
       "    events.on('output_added.OutputArea', handleAddOutput);\n",
       "\n",
       "    /**\n",
       "     * Register the mime type and append_mime function with output_area\n",
       "     */\n",
       "    OutputArea.prototype.register_mime_type(EXEC_MIME_TYPE, append_mime, {\n",
       "      /* Is output safe? */\n",
       "      safe: true,\n",
       "      /* Index of renderer in `output_area.display_order` */\n",
       "      index: 0\n",
       "    });\n",
       "  }\n",
       "\n",
       "  // register the mime type if in Jupyter Notebook environment and previously unregistered\n",
       "  if (root.Jupyter !== undefined) {\n",
       "    var events = require('base/js/events');\n",
       "    var OutputArea = require('notebook/js/outputarea').OutputArea;\n",
       "\n",
       "    if (OutputArea.prototype.mime_types().indexOf(EXEC_MIME_TYPE) == -1) {\n",
       "      register_renderer(events, OutputArea);\n",
       "    }\n",
       "  }\n",
       "\n",
       "  \n",
       "  if (typeof (root._bokeh_timeout) === \"undefined\" || force === true) {\n",
       "    root._bokeh_timeout = Date.now() + 5000;\n",
       "    root._bokeh_failed_load = false;\n",
       "  }\n",
       "\n",
       "  var NB_LOAD_WARNING = {'data': {'text/html':\n",
       "     \"<div style='background-color: #fdd'>\\n\"+\n",
       "     \"<p>\\n\"+\n",
       "     \"BokehJS does not appear to have successfully loaded. If loading BokehJS from CDN, this \\n\"+\n",
       "     \"may be due to a slow or bad network connection. Possible fixes:\\n\"+\n",
       "     \"</p>\\n\"+\n",
       "     \"<ul>\\n\"+\n",
       "     \"<li>re-rerun `output_notebook()` to attempt to load from CDN again, or</li>\\n\"+\n",
       "     \"<li>use INLINE resources instead, as so:</li>\\n\"+\n",
       "     \"</ul>\\n\"+\n",
       "     \"<code>\\n\"+\n",
       "     \"from bokeh.resources import INLINE\\n\"+\n",
       "     \"output_notebook(resources=INLINE)\\n\"+\n",
       "     \"</code>\\n\"+\n",
       "     \"</div>\"}};\n",
       "\n",
       "  function display_loaded() {\n",
       "    var el = document.getElementById(\"1001\");\n",
       "    if (el != null) {\n",
       "      el.textContent = \"BokehJS is loading...\";\n",
       "    }\n",
       "    if (root.Bokeh !== undefined) {\n",
       "      if (el != null) {\n",
       "        el.textContent = \"BokehJS \" + root.Bokeh.version + \" successfully loaded.\";\n",
       "      }\n",
       "    } else if (Date.now() < root._bokeh_timeout) {\n",
       "      setTimeout(display_loaded, 100)\n",
       "    }\n",
       "  }\n",
       "\n",
       "\n",
       "  function run_callbacks() {\n",
       "    try {\n",
       "      root._bokeh_onload_callbacks.forEach(function(callback) {\n",
       "        if (callback != null)\n",
       "          callback();\n",
       "      });\n",
       "    } finally {\n",
       "      delete root._bokeh_onload_callbacks\n",
       "    }\n",
       "    console.debug(\"Bokeh: all callbacks have finished\");\n",
       "  }\n",
       "\n",
       "  function load_libs(css_urls, js_urls, callback) {\n",
       "    if (css_urls == null) css_urls = [];\n",
       "    if (js_urls == null) js_urls = [];\n",
       "\n",
       "    root._bokeh_onload_callbacks.push(callback);\n",
       "    if (root._bokeh_is_loading > 0) {\n",
       "      console.debug(\"Bokeh: BokehJS is being loaded, scheduling callback at\", now());\n",
       "      return null;\n",
       "    }\n",
       "    if (js_urls == null || js_urls.length === 0) {\n",
       "      run_callbacks();\n",
       "      return null;\n",
       "    }\n",
       "    console.debug(\"Bokeh: BokehJS not loaded, scheduling load and callback at\", now());\n",
       "    root._bokeh_is_loading = css_urls.length + js_urls.length;\n",
       "\n",
       "    function on_load() {\n",
       "      root._bokeh_is_loading--;\n",
       "      if (root._bokeh_is_loading === 0) {\n",
       "        console.debug(\"Bokeh: all BokehJS libraries/stylesheets loaded\");\n",
       "        run_callbacks()\n",
       "      }\n",
       "    }\n",
       "\n",
       "    function on_error() {\n",
       "      console.error(\"failed to load \" + url);\n",
       "    }\n",
       "\n",
       "    for (var i = 0; i < css_urls.length; i++) {\n",
       "      var url = css_urls[i];\n",
       "      const element = document.createElement(\"link\");\n",
       "      element.onload = on_load;\n",
       "      element.onerror = on_error;\n",
       "      element.rel = \"stylesheet\";\n",
       "      element.type = \"text/css\";\n",
       "      element.href = url;\n",
       "      console.debug(\"Bokeh: injecting link tag for BokehJS stylesheet: \", url);\n",
       "      document.body.appendChild(element);\n",
       "    }\n",
       "\n",
       "    const hashes = {\"https://cdn.bokeh.org/bokeh/release/bokeh-2.2.3.min.js\": \"T2yuo9Oe71Cz/I4X9Ac5+gpEa5a8PpJCDlqKYO0CfAuEszu1JrXLl8YugMqYe3sM\", \"https://cdn.bokeh.org/bokeh/release/bokeh-widgets-2.2.3.min.js\": \"98GDGJ0kOMCUMUePhksaQ/GYgB3+NH9h996V88sh3aOiUNX3N+fLXAtry6xctSZ6\", \"https://cdn.bokeh.org/bokeh/release/bokeh-tables-2.2.3.min.js\": \"89bArO+nlbP3sgakeHjCo1JYxYR5wufVgA3IbUvDY+K7w4zyxJqssu7wVnfeKCq8\"};\n",
       "\n",
       "    for (var i = 0; i < js_urls.length; i++) {\n",
       "      var url = js_urls[i];\n",
       "      var element = document.createElement('script');\n",
       "      element.onload = on_load;\n",
       "      element.onerror = on_error;\n",
       "      element.async = false;\n",
       "      element.src = url;\n",
       "      if (url in hashes) {\n",
       "        element.crossOrigin = \"anonymous\";\n",
       "        element.integrity = \"sha384-\" + hashes[url];\n",
       "      }\n",
       "      console.debug(\"Bokeh: injecting script tag for BokehJS library: \", url);\n",
       "      document.head.appendChild(element);\n",
       "    }\n",
       "  };\n",
       "\n",
       "  function inject_raw_css(css) {\n",
       "    const element = document.createElement(\"style\");\n",
       "    element.appendChild(document.createTextNode(css));\n",
       "    document.body.appendChild(element);\n",
       "  }\n",
       "\n",
       "  \n",
       "  var js_urls = [\"https://cdn.bokeh.org/bokeh/release/bokeh-2.2.3.min.js\", \"https://cdn.bokeh.org/bokeh/release/bokeh-widgets-2.2.3.min.js\", \"https://cdn.bokeh.org/bokeh/release/bokeh-tables-2.2.3.min.js\"];\n",
       "  var css_urls = [];\n",
       "  \n",
       "\n",
       "  var inline_js = [\n",
       "    function(Bokeh) {\n",
       "      Bokeh.set_log_level(\"info\");\n",
       "    },\n",
       "    function(Bokeh) {\n",
       "    \n",
       "    \n",
       "    }\n",
       "  ];\n",
       "\n",
       "  function run_inline_js() {\n",
       "    \n",
       "    if (root.Bokeh !== undefined || force === true) {\n",
       "      \n",
       "    for (var i = 0; i < inline_js.length; i++) {\n",
       "      inline_js[i].call(root, root.Bokeh);\n",
       "    }\n",
       "    if (force === true) {\n",
       "        display_loaded();\n",
       "      }} else if (Date.now() < root._bokeh_timeout) {\n",
       "      setTimeout(run_inline_js, 100);\n",
       "    } else if (!root._bokeh_failed_load) {\n",
       "      console.log(\"Bokeh: BokehJS failed to load within specified timeout.\");\n",
       "      root._bokeh_failed_load = true;\n",
       "    } else if (force !== true) {\n",
       "      var cell = $(document.getElementById(\"1001\")).parents('.cell').data().cell;\n",
       "      cell.output_area.append_execute_result(NB_LOAD_WARNING)\n",
       "    }\n",
       "\n",
       "  }\n",
       "\n",
       "  if (root._bokeh_is_loading === 0) {\n",
       "    console.debug(\"Bokeh: BokehJS loaded, going straight to plotting\");\n",
       "    run_inline_js();\n",
       "  } else {\n",
       "    load_libs(css_urls, js_urls, function() {\n",
       "      console.debug(\"Bokeh: BokehJS plotting callback run at\", now());\n",
       "      run_inline_js();\n",
       "    });\n",
       "  }\n",
       "}(window));"
      ],
      "application/vnd.bokehjs_load.v0+json": "\n(function(root) {\n  function now() {\n    return new Date();\n  }\n\n  var force = true;\n\n  if (typeof root._bokeh_onload_callbacks === \"undefined\" || force === true) {\n    root._bokeh_onload_callbacks = [];\n    root._bokeh_is_loading = undefined;\n  }\n\n  \n\n  \n  if (typeof (root._bokeh_timeout) === \"undefined\" || force === true) {\n    root._bokeh_timeout = Date.now() + 5000;\n    root._bokeh_failed_load = false;\n  }\n\n  var NB_LOAD_WARNING = {'data': {'text/html':\n     \"<div style='background-color: #fdd'>\\n\"+\n     \"<p>\\n\"+\n     \"BokehJS does not appear to have successfully loaded. If loading BokehJS from CDN, this \\n\"+\n     \"may be due to a slow or bad network connection. Possible fixes:\\n\"+\n     \"</p>\\n\"+\n     \"<ul>\\n\"+\n     \"<li>re-rerun `output_notebook()` to attempt to load from CDN again, or</li>\\n\"+\n     \"<li>use INLINE resources instead, as so:</li>\\n\"+\n     \"</ul>\\n\"+\n     \"<code>\\n\"+\n     \"from bokeh.resources import INLINE\\n\"+\n     \"output_notebook(resources=INLINE)\\n\"+\n     \"</code>\\n\"+\n     \"</div>\"}};\n\n  function display_loaded() {\n    var el = document.getElementById(\"1001\");\n    if (el != null) {\n      el.textContent = \"BokehJS is loading...\";\n    }\n    if (root.Bokeh !== undefined) {\n      if (el != null) {\n        el.textContent = \"BokehJS \" + root.Bokeh.version + \" successfully loaded.\";\n      }\n    } else if (Date.now() < root._bokeh_timeout) {\n      setTimeout(display_loaded, 100)\n    }\n  }\n\n\n  function run_callbacks() {\n    try {\n      root._bokeh_onload_callbacks.forEach(function(callback) {\n        if (callback != null)\n          callback();\n      });\n    } finally {\n      delete root._bokeh_onload_callbacks\n    }\n    console.debug(\"Bokeh: all callbacks have finished\");\n  }\n\n  function load_libs(css_urls, js_urls, callback) {\n    if (css_urls == null) css_urls = [];\n    if (js_urls == null) js_urls = [];\n\n    root._bokeh_onload_callbacks.push(callback);\n    if (root._bokeh_is_loading > 0) {\n      console.debug(\"Bokeh: BokehJS is being loaded, scheduling callback at\", now());\n      return null;\n    }\n    if (js_urls == null || js_urls.length === 0) {\n      run_callbacks();\n      return null;\n    }\n    console.debug(\"Bokeh: BokehJS not loaded, scheduling load and callback at\", now());\n    root._bokeh_is_loading = css_urls.length + js_urls.length;\n\n    function on_load() {\n      root._bokeh_is_loading--;\n      if (root._bokeh_is_loading === 0) {\n        console.debug(\"Bokeh: all BokehJS libraries/stylesheets loaded\");\n        run_callbacks()\n      }\n    }\n\n    function on_error() {\n      console.error(\"failed to load \" + url);\n    }\n\n    for (var i = 0; i < css_urls.length; i++) {\n      var url = css_urls[i];\n      const element = document.createElement(\"link\");\n      element.onload = on_load;\n      element.onerror = on_error;\n      element.rel = \"stylesheet\";\n      element.type = \"text/css\";\n      element.href = url;\n      console.debug(\"Bokeh: injecting link tag for BokehJS stylesheet: \", url);\n      document.body.appendChild(element);\n    }\n\n    const hashes = {\"https://cdn.bokeh.org/bokeh/release/bokeh-2.2.3.min.js\": \"T2yuo9Oe71Cz/I4X9Ac5+gpEa5a8PpJCDlqKYO0CfAuEszu1JrXLl8YugMqYe3sM\", \"https://cdn.bokeh.org/bokeh/release/bokeh-widgets-2.2.3.min.js\": \"98GDGJ0kOMCUMUePhksaQ/GYgB3+NH9h996V88sh3aOiUNX3N+fLXAtry6xctSZ6\", \"https://cdn.bokeh.org/bokeh/release/bokeh-tables-2.2.3.min.js\": \"89bArO+nlbP3sgakeHjCo1JYxYR5wufVgA3IbUvDY+K7w4zyxJqssu7wVnfeKCq8\"};\n\n    for (var i = 0; i < js_urls.length; i++) {\n      var url = js_urls[i];\n      var element = document.createElement('script');\n      element.onload = on_load;\n      element.onerror = on_error;\n      element.async = false;\n      element.src = url;\n      if (url in hashes) {\n        element.crossOrigin = \"anonymous\";\n        element.integrity = \"sha384-\" + hashes[url];\n      }\n      console.debug(\"Bokeh: injecting script tag for BokehJS library: \", url);\n      document.head.appendChild(element);\n    }\n  };\n\n  function inject_raw_css(css) {\n    const element = document.createElement(\"style\");\n    element.appendChild(document.createTextNode(css));\n    document.body.appendChild(element);\n  }\n\n  \n  var js_urls = [\"https://cdn.bokeh.org/bokeh/release/bokeh-2.2.3.min.js\", \"https://cdn.bokeh.org/bokeh/release/bokeh-widgets-2.2.3.min.js\", \"https://cdn.bokeh.org/bokeh/release/bokeh-tables-2.2.3.min.js\"];\n  var css_urls = [];\n  \n\n  var inline_js = [\n    function(Bokeh) {\n      Bokeh.set_log_level(\"info\");\n    },\n    function(Bokeh) {\n    \n    \n    }\n  ];\n\n  function run_inline_js() {\n    \n    if (root.Bokeh !== undefined || force === true) {\n      \n    for (var i = 0; i < inline_js.length; i++) {\n      inline_js[i].call(root, root.Bokeh);\n    }\n    if (force === true) {\n        display_loaded();\n      }} else if (Date.now() < root._bokeh_timeout) {\n      setTimeout(run_inline_js, 100);\n    } else if (!root._bokeh_failed_load) {\n      console.log(\"Bokeh: BokehJS failed to load within specified timeout.\");\n      root._bokeh_failed_load = true;\n    } else if (force !== true) {\n      var cell = $(document.getElementById(\"1001\")).parents('.cell').data().cell;\n      cell.output_area.append_execute_result(NB_LOAD_WARNING)\n    }\n\n  }\n\n  if (root._bokeh_is_loading === 0) {\n    console.debug(\"Bokeh: BokehJS loaded, going straight to plotting\");\n    run_inline_js();\n  } else {\n    load_libs(css_urls, js_urls, function() {\n      console.debug(\"Bokeh: BokehJS plotting callback run at\", now());\n      run_inline_js();\n    });\n  }\n}(window));"
     },
     "metadata": {},
     "output_type": "display_data"
    },
    {
     "data": {
      "text/html": [
       "\n",
       "\n",
       "\n",
       "\n",
       "\n",
       "\n",
       "  <div class=\"bk-root\" id=\"f9e2c436-e6d1-407b-a7df-b46081e2857c\" data-root-id=\"1002\"></div>\n"
      ]
     },
     "metadata": {},
     "output_type": "display_data"
    },
    {
     "data": {
      "application/javascript": [
       "(function(root) {\n",
       "  function embed_document(root) {\n",
       "    \n",
       "  var docs_json = {\"99abf1e2-fc63-4038-9fc4-2dcf8f158c33\":{\"roots\":{\"references\":[{\"attributes\":{\"below\":[{\"id\":\"1013\"}],\"center\":[{\"id\":\"1016\"},{\"id\":\"1020\"},{\"id\":\"1036\"}],\"left\":[{\"id\":\"1017\"}],\"renderers\":[{\"id\":\"1034\"}],\"title\":{\"id\":\"1003\"},\"toolbar\":{\"id\":\"1025\"},\"toolbar_location\":\"above\",\"x_range\":{\"id\":\"1005\"},\"x_scale\":{\"id\":\"1009\"},\"y_range\":{\"id\":\"1007\"},\"y_scale\":{\"id\":\"1011\"}},\"id\":\"1002\",\"subtype\":\"Figure\",\"type\":\"Plot\"},{\"attributes\":{},\"id\":\"1014\",\"type\":\"BasicTicker\"},{\"attributes\":{},\"id\":\"1018\",\"type\":\"BasicTicker\"},{\"attributes\":{\"source\":{\"id\":\"1030\"}},\"id\":\"1035\",\"type\":\"CDSView\"},{\"attributes\":{\"fill_color\":{\"value\":\"#1f77b4\"},\"line_color\":{\"value\":\"#1f77b4\"},\"size\":{\"units\":\"screen\",\"value\":8},\"x\":{\"field\":\"x1\"},\"y\":{\"field\":\"x2\"}},\"id\":\"1032\",\"type\":\"Scatter\"},{\"attributes\":{\"fill_alpha\":{\"value\":0.1},\"fill_color\":{\"value\":\"#1f77b4\"},\"line_alpha\":{\"value\":0.1},\"line_color\":{\"value\":\"#1f77b4\"},\"size\":{\"units\":\"screen\",\"value\":8},\"x\":{\"field\":\"x1\"},\"y\":{\"field\":\"x2\"}},\"id\":\"1033\",\"type\":\"Scatter\"},{\"attributes\":{},\"id\":\"1043\",\"type\":\"Selection\"},{\"attributes\":{\"data_source\":{\"id\":\"1030\"},\"glyph\":{\"id\":\"1032\"},\"hover_glyph\":null,\"muted_glyph\":null,\"nonselection_glyph\":{\"id\":\"1033\"},\"selection_glyph\":null,\"view\":{\"id\":\"1035\"}},\"id\":\"1034\",\"type\":\"GlyphRenderer\"},{\"attributes\":{\"axis\":{\"id\":\"1017\"},\"dimension\":1,\"ticker\":null},\"id\":\"1020\",\"type\":\"Grid\"},{\"attributes\":{},\"id\":\"1042\",\"type\":\"BasicTickFormatter\"},{\"attributes\":{},\"id\":\"1021\",\"type\":\"PanTool\"},{\"attributes\":{},\"id\":\"1024\",\"type\":\"SaveTool\"},{\"attributes\":{\"text\":\"word2vec T-SNE for most common words\"},\"id\":\"1003\",\"type\":\"Title\"},{\"attributes\":{\"data\":{\"names\":[\"\\u044f\",\"\\u043d\\u0435\",\"\\u0438\",\"\\u0432\",\"\\u043d\\u0430\",\"\\u0447\\u0442\\u043e\",\"RT\",\"\\u0430\",\"http://t\",\"\\u0431\\u044b\\u0442\\u044c\",\"\\u0442\\u044b\",\"\\u0441\",\"\\u043a\\u0430\\u043a\",\"\\u0442\\u043e\",\"\\u0443\",\"\\u044d\\u0442\\u043e\",\":(\",\"\\u0442\\u0430\\u043a\",\":\",\")\",\"(\",\"\\u043d\\u043e\",\"\\u0432\\u0441\\u0435\",\"\\u043e\\u043d\",\"\\u043d\\u0443\",\"\\u043f\\u043e\",\"\\u043c\\u044b\",\":)\",\"\\u043c\\u043e\\u0439\",\"\\u0437\\u0430\",\"\\u0432\\u0435\\u0441\\u044c\",\"\\u0445\\u043e\\u0442\\u0435\\u0442\\u044c\",\"\\u0442\\u0430\\u043a\\u043e\\u0439\",\":D\",\"\\u0443\\u0436\\u0435\",\"\\u044d\\u0442\\u043e\\u0442\",\"\\u0432\\u043e\\u0442\",\"\\u0436\\u0435\",\"\\u0442\\u043e\\u043b\\u044c\\u043a\\u043e\",\"\\u0434\\u0435\\u043d\\u044c\",\"\\u0434\\u0430\",\"\\u043a\\u0442\\u043e\",\"\\u0435\\u0449\\u0435\",\"\\u0441\\u0435\\u0433\\u043e\\u0434\\u043d\\u044f\",\"\\u043e\\u043d\\u0430\",\"\\u0431\\u044b\",\"\\u043a\\u043e\\u0433\\u0434\\u0430\",\"\\u043c\\u043e\\u0447\\u044c\",\"\\u043e\\u043d\\u0438\",\"\\u0432\\u044b\",\"\\u043a\",\"\\u043e\\u0447\\u0435\\u043d\\u044c\",\"\\u0438\\u0437\",\"\\u043f\\u0440\\u043e\\u0441\\u0442\\u043e\",\"\\u043d\\u0435\\u0442\",\"\\u043e\\u0434\\u0438\\u043d\",\"\\u0437\\u043d\\u0430\\u0442\\u044c\",\"\\u043a\\u0430\\u043a\\u043e\\u0439\",\"\\u043e\\u0442\",\"\\u0433\\u043e\\u0434\",\"\\u0435\\u0441\\u043b\\u0438\",\"\\u0442\\u0435\\u043f\\u0435\\u0440\\u044c\",\"\\u043b\\u044e\\u0431\\u0438\\u0442\\u044c\",\"\\u0447\\u0435\\u043b\\u043e\\u0432\\u0435\\u043a\",\"\\u0441\\u0432\\u043e\\u0439\",\"co/\",\"\\u0434\\u0430\\u0436\\u0435\",\"\\u043e\",\"\\u043d\\u0430\\u0434\\u043e\",\"\\u0434\\u043e\",\"\\u043d\\u043e\\u0432\\u044b\\u0439\",\"\\u0437\\u0430\\u0432\\u0442\\u0440\\u0430\",\"\\u0442\\u043e\\u0436\\u0435\",\"\\u0442\\u0430\\u043c\",\"\\u0432\\u0441\",\"\\u0442\\u043e\\u0442\",\"\\u0432\\u043e\\u043e\\u0431\\u0449\\u0435\",\"((\",\"\\u0434\\u043b\\u044f\",\"\\u0441\\u0430\\u043c\\u044b\\u0439\",\"\\u0445\\u043e\\u0440\\u043e\\u0448\\u0438\\u0439\",\"\\u0441\\u0435\\u0431\\u044f\",\"\\u0445\\u043e\\u0440\\u043e\\u0448\\u043e\",\"\\u0441\\u0435\\u0439\\u0447\\u0430\\u0441\",\"))\",\"\\u043f\\u043e\\u0447\\u0435\\u043c\\u0443\",\"\\u0434\\u0435\\u043b\\u0430\\u0442\\u044c\",\"\\u043a\\u043e\\u0442\\u043e\\u0440\\u044b\\u0439\",\"\\u0434\\u0443\\u043c\\u0430\\u0442\\u044c\",\"\\u043c\\u043d\\u043e\\u0433\\u043e\",\"\\u0440\\u0430\\u0437\",\"\\u043f\\u043e\\u043d\\u0438\\u043c\\u0430\\u0442\\u044c\",\"\\u0441\\u043a\\u0430\\u0437\\u0430\\u0442\\u044c\",\"(((\",\"\\u0431\\u043b\\u0438\\u043d\",\"\\u0441\\u043c\\u043e\\u0442\\u0440\\u0435\\u0442\\u044c\",\"\\u0431\\u0435\\u0437\",\"\\u0432\\u0440\\u0435\\u043c\\u044f\",\"\\u0441\\u043f\\u0430\\u0442\\u044c\",\"\\u0441\\u043f\\u0430\\u0441\\u0438\\u0431\\u043e\",\"\\u0438\\u043b\\u0438\",\"\\u0442\\u0443\\u0442\",\"\\u0443\\u0442\\u0440\\u043e\",\")))\",\"\\u0433\\u043e\\u0432\\u043e\\u0440\\u0438\\u0442\\u044c\",\"\\u0438\\u0434\\u0442\\u0438\",\"\\u0441\\u0438\\u0434\\u0435\\u0442\\u044c\",\"\\u0441\\u043e\",\"\\u043f\\u043e\\u0439\\u0442\\u0438\",\"\\u0434\\u0430\\u0432\\u0430\\u0442\\u044c\",\"\\u043f\\u0440\\u043e\",\"\\u043d\\u0438\\u0447\\u0442\\u043e\",\"\\u043f\\u0438\\u0441\\u0430\\u0442\\u044c\",\"\\u0441\\u0434\\u0435\\u043b\\u0430\\u0442\\u044c\",\"\\u0432\\u0441\\u0435\\u0433\\u0434\\u0430\",\"\\u043c\\u043e\\u0436\\u043d\\u043e\",\"\\u0436\\u0438\\u0437\\u043d\\u044c\",\"\\u0434\\u0440\\u0443\\u0433\",\"\\u043f\\u0435\\u0440\\u0432\\u044b\\u0439\",\"\\u0441\\u043a\\u043e\\u0440\\u043e\",\"\\u0441\\u0430\\u043c\",\"\\u043d\\u0430\\u0448\",\"\\u0433\\u0434\\u0435\",\"\\u043c\\u0430\\u043c\\u0430\",\"\\u043f\\u043e\\u0442\\u043e\\u043c\",\"\\u0448\\u043a\\u043e\\u043b\\u0430\",\"!\",\"\\u0447\\u0430\\u0441\",\"\\u0442\",\"\\u043d\\u0438\",\"\\u043f\\u043e\\u0441\\u043b\\u0435\",\"\\u0435\\u0449\",\"\\u0447\\u0442\\u043e\\u0431\\u044b\",\"\\u043e\\u043f\\u044f\\u0442\\u044c\",\"\\u043d\\u043e\\u0447\\u044c\",\"\\u0436\\u0434\\u0430\\u0442\\u044c\",\"\\u0442\\u0432\\u043e\\u0439\",\"\\u043d\\u0430\\u0441\\u0442\\u0440\\u043e\\u0435\\u043d\\u0438\\u0435\",\"\\u0441\\u0442\\u0430\\u043d\\u043e\\u0432\\u0438\\u0442\\u044c\\u0441\\u044f\",\"\\u0447\\u0435\\u043c\",\"\\u043f\\u0440\\u0438\\u0445\\u043e\\u0434\\u0438\\u0442\\u044c\",\"\\u043d\\u0430\\u043f\\u0438\\u0441\\u0430\\u0442\\u044c\",\"\\u043f\\u043e\\u043a\\u0430\",\"/\",\"\\u043d\\u0438\\u043a\\u0442\\u043e\",\"\\u0445\\u043e\\u0442\\u0435\\u0442\\u044c\\u0441\\u044f\",\"\\u043f\\u043e\\u0441\\u043b\\u0435\\u0434\\u043d\\u0438\\u0439\",\"\\u043d\\u0430\\u0447\\u0438\\u043d\\u0430\\u0442\\u044c\",\"\\u0434\\u0432\\u0430\",\"\\u043f\\u043e\\u0441\\u043c\\u043e\\u0442\\u0440\\u0435\\u0442\\u044c\",\"\\u0432\\u0438\\u0434\\u0435\\u0442\\u044c\",\"\\u0445\\u043e\\u0442\\u044c\",\"\\u0440\\u0430\\u0431\\u043e\\u0442\\u0430\",\"\\u043b\\u044e\\u0431\\u0438\\u043c\\u044b\\u0439\",\"\\u0434\\u043e\\u0431\\u0440\\u044b\\u0439\",\"\\u0431\\u043e\\u043b\\u0435\\u0442\\u044c\",\"\\u043d\\u0430\\u0445\\u043e\\u0434\\u0438\\u0442\\u044c\",\"\\u043e\\u0441\\u0442\\u0430\\u0432\\u0430\\u0442\\u044c\\u0441\\u044f\",\"\\u0437\\u0430\\u0431\\u044b\\u0432\\u0430\\u0442\\u044c\",\"\\u0430\\u0445\\u0430\\u0445\",\"\\u043a\\u0430\\u0436\\u0434\\u044b\\u0439\",\"\\u043a\\u0443\\u043f\\u0438\\u0442\\u044c\",\"\\u043c\",\"\\u0434\\u0435\\u043b\\u043e\",\"\\u0432\\u043e\",\"\\u0434\\u0440\\u0443\\u0433\\u043e\\u0439\",\"\\u0432\\u0435\\u0447\\u0435\\u0440\",\"\\u0432\\u0447\\u0435\\u0440\\u0430\",\"\\u043d\\u0435\\u0434\\u0435\\u043b\\u044f\",\"\\u043f\\u043e\\u0434\",\"\\u0447\\u0435\\u0440\\u0435\\u0437\",\"\\u043f\\u043e\\u0442\\u043e\\u043c\\u0443\",\"\\u043d\\u0443\\u0436\\u043d\\u043e\",\"\\u0434\\u043e\\u043c\\u0430\",\"\\u0441\\u043e\\u0432\\u0441\\u0435\\u043c\",\"\\u0445\\u043e\\u0442\\u044f\",\"\\u0447\\u0438\\u0442\\u0430\\u0442\\u044c\",\"\\u043d\\u0438\\u0431\\u0443\\u0434\\u044c\",\"\\u043f\\u043b\\u043e\\u0445\\u043e\",\"\\u0432\\u044b\\u0445\\u043e\\u0434\\u0438\\u0442\\u044c\",\"\\u0443\\u0440\\u043e\\u043a\",\"\\u043b\\u0438\",\"\\u0440\\u0430\\u043d\\u043e\",\"\\u0433\\u043e\\u043b\\u043e\\u0432\\u0430\",\"\\u0444\\u0438\\u043b\\u044c\\u043c\",\"\\u0441\\u043d\\u0435\\u0433\",\"\\u0435\\u0445\\u0430\\u0442\\u044c\",\"\\u043d\\u0440\\u0430\\u0432\\u0438\\u0442\\u044c\\u0441\\u044f\",\"\\u043d\\u0430\\u0434\\u0435\\u044f\\u0442\\u044c\\u0441\\u044f\",\"\\u043d\\u0438\\u043a\\u043e\\u0433\\u0434\\u0430\",\"\\u0432\\u0435\\u0434\\u044c\",\"\\u0436\\u0438\\u0442\\u044c\",\"D\",\"\\u0441\\u043a\\u0443\\u0447\\u0430\\u0442\\u044c\",\"\\u0445\\u043e\\u0434\\u0438\\u0442\\u044c\",\"\\u043a\\u043e\\u043d\\u0435\\u0447\\u043d\\u043e\",\"\\u0440\\u0430\\u0431\\u043e\\u0442\\u0430\\u0442\\u044c\",\"\\u043d\\u0443\\u0436\\u043d\\u044b\\u0439\",\"\\u0442\\u043e\\u0433\\u0434\\u0430\",\"\\u0436\\u0430\\u043b\\u044c\",\"\\u0434\\u043e\\u043c\",\"\\u0432\\u0442\\u043e\\u0440\\u043e\\u0439\",\":((\",\"\\u0436\",\"\\u0434\\u043e\\u043c\\u043e\\u0439\",\"\\u0442\\u0435\\u043b\\u0435\\u0444\\u043e\\u043d\",\"\\u043f\\u043e\\u0440\\u0430\",\"\\u043f\\u0440\\u0430\\u0432\\u0434\\u0430\",\"\\u0440\\u0430\\u0432\\u043d\\u044b\\u0439\",\"\\u043d\\u0433\\u0430\",\"\\u0440\\u0435\\u0448\\u0430\\u0442\\u044c\",\"\\u043f\\u0430\\u0440\\u0430\",\"\\u043f\\u0440\\u0438\\u0435\\u0437\\u0436\\u0430\\u0442\\u044c\",\"\\u0432\\u0440\\u043e\\u0434\\u0435\",\"\\u0431\\u043b\\u044f\",\"\\u043c\\u0430\\u043b\\u043e\",\"\\u0435\",\"\\u043e_\\u043e\",\"\\u043f\\u0430\\u0440\\u0435\\u043d\\u044c\",\"=(\",\"\\u0442\\u0430\\u043a\\u0438\",\"\\u0431\\u043e\\u043b\\u044c\\u0448\\u0435\",\"\\u0441\\u043e\\u043d\",\"\\u043b\",\"\\u043f\\u0440\\u043e\\u0445\\u043e\\u0434\\u0438\\u0442\\u044c\",\"\\u043f\\u0435\\u0441\\u043d\\u044f\",\"\\u0443\\u043b\\u0438\\u0446\\u0430\",\"\\u0440\\u0443\\u043a\\u0430\",\"=)\",\"\\u0443\\u0445\\u043e\\u0434\\u0438\\u0442\\u044c\",\"\\u0430\\u0445\\u0438\",\"\\u0441\\u043b\\u043e\\u0432\\u043e\",\"\\u0442\\u0432\\u0438\\u0442\\u0442\\u0435\\u0440\",\"\\u043d\\u043e\\u0432\\u043e\\u0433\\u043e\\u0434\\u043d\\u0438\\u0439\",\"\\u0441\\u043d\\u043e\\u0432\\u0430\",\"\\u0435\\u0433\\u043e\",\"\\u0432\\u0441\\u0442\\u0430\\u0432\\u0430\\u0442\\u044c\",\"\\u0442\\u043e\\u0447\\u043d\\u043e\",\"\\u0434\\u0430\\u0432\\u043d\\u043e\",\"\\u0443\\u0432\\u0438\\u0434\\u0435\\u0442\\u044c\",\"\\u043f\\u043e\\u043b\\u0443\\u0447\\u0430\\u0442\\u044c\\u0441\\u044f\",\"\\u0444\\u043e\\u0442\\u043a\\u0430\",\"\\u043f\\u0440\\u043e\\u0441\\u044b\\u043f\\u0430\\u0442\\u044c\\u0441\\u044f\",\"\\u0431\\u043e\\u043b\\u044c\\u0448\\u043e\\u0439\",\"\\u0443\\u0436\",\"\\u043f\\u043e\\u0447\\u0442\\u0438\",\"_\",\"\\u0437\\u0430\\u0447\\u0435\\u043c\",\"\\u043c\\u0438\\u043d\\u0443\\u0442\\u0430\",\"\\u0438\\u0433\\u0440\\u0430\\u0442\\u044c\",\"\\u0437\\u0438\\u043c\\u0430\",\"\\u043c\\u0435\\u0441\\u0442\\u043e\",\"\\u043f\\u043e\\u043c\\u043d\\u0438\\u0442\\u044c\",\"\\u0434\\u0435\\u0432\\u0443\\u0448\\u043a\\u0430\",\"\\u043a\\u0443\\u0434\\u0430\",\"\\u0441\\u0440\\u0430\\u0437\\u0443\",\"\\u043f\\u0440\\u044f\\u043c\\u043e\\u0439\",\"\\u043f\\u0440\\u0438\\u0445\\u043e\\u0434\\u0438\\u0442\\u044c\\u0441\\u044f\",\"gt\",\"\\u0441:\",\"\\u043a\\u0441\\u0442\\u0430\\u0442\\u0438\",\"((((\",\"\\u0447\\u0443\\u0442\\u044c\",\"\\u043f\\u043e\\u043b\\u0443\\u0447\\u0430\\u0442\\u044c\",\"\\u0441\\u043b\\u0443\\u0448\\u0430\\u0442\\u044c\",\"\\u043f\\u0440\\u043e\\u0449\\u0430\\u0442\\u044c\",\"\\u0441\\u0438\\u043b\\u044c\\u043d\\u043e\",\"\\u0441\\u043a\\u043e\\u043b\\u044c\\u043a\\u043e\",\"\\u043a\\u0440\\u0443\\u0442\\u043e\\u0439\",\"\\u0441\\u0442\\u043e\\u043b\\u044c\\u043a\\u043e\",\"\\u0447\",\"\\u0447\\u0443\\u0432\\u0441\\u0442\\u0432\\u043e\\u0432\\u0430\\u0442\\u044c\",\"\\u0443\\u0441\\u043f\\u0435\\u0432\\u0430\\u0442\\u044c\",\"\\u0433\\u043b\\u0430\\u0437\",\"\\u0443\\u0437\\u043d\\u0430\\u0432\\u0430\\u0442\\u044c\",\"\\u043f\\u043e\\u0434\\u0430\\u0440\\u043e\\u043a\",\"\\u043e\\u043a\\u0430\\u0437\\u044b\\u0432\\u0430\\u0442\\u044c\\u0441\\u044f\",\"\\u043f\\u043b\\u043e\\u0445\\u043e\\u0439\",\"\\u0432\\u0430\\u0448\",\"\\u0447\\u0435\",\"\\u043b\\u0435\\u043d\\u0442\\u0430\",\"\\u0431\",\"\\u0434\\u043e\\u043b\\u0436\\u043d\\u044b\\u0439\",\"\\u0431\\u044b\\u0441\\u0442\\u0440\\u043e\",\"\\u0445\",\"\\u0431\\u043e\\u044f\\u0442\\u044c\\u0441\\u044f\",\"\\u0434\\u0435\\u043d\\u044c\\u0433\\u0438\",\"\\u043d\\u0435\\u043d\\u0430\\u0432\\u0438\\u0434\\u0435\\u0442\\u044c\",\"\\u0432\\u044b\\u0445\\u043e\\u0434\\u043d\\u043e\\u0439\",\"\\u043d\\u0430\\u0432\\u0435\\u0440\\u043d\\u043e\\u0435\",\"\\u0432\\u0437\\u044f\\u0442\\u044c\",\"\\u0438\\u0431\\u043e\",\"\\u043d\\u0430\\u0447\\u0438\\u043d\\u0430\\u0442\\u044c\\u0441\\u044f\",\"\\u0441\\u043c\\u043e\\u0447\\u044c\",\"\\u0441\\u0434\\u0430\\u0432\\u0430\\u0442\\u044c\",\"\\u043f\\u0430\\u043f\\u0430\",\"\\u043a\\u043e\\u043d\\u0435\\u0446\",\"\\u043d\\u0430\\u043a\\u043e\\u043d\\u0435\\u0446\",\"\\u043b\\u0430\\u0434\\u043d\\u043e\",\"\\u043b\\u044e\\u0431\\u043e\\u0432\\u044c\",\"\\u0441\\u0445\\u043e\\u0434\\u0438\\u0442\\u044c\",\"\\u043f\\u043e\\u043c\\u043e\\u0433\\u0430\\u0442\\u044c\",\"\\u043f\\u0440\\u0438\\u0432\\u0435\\u0442\",\"\\u043a\\u043b\\u0430\\u0441\\u0441\",\"\\u043d\",\"\\u043c\\u0435\\u0441\\u044f\\u0446\",\"\\u0433\\u043e\\u0440\\u043e\\u0434\",\"\\u043f\\u0435\\u0440\\u0435\\u0434\",\"lt\",\":))\",\"\\u043c\\u043e\\u043c\\u0435\\u043d\\u0442\",\"\\u043f\\u0440\\u0438\",\"\\u0441\\u0442\\u043e\\u044f\\u0442\\u044c\",\"\\u0441\\u043e\\u0431\\u0438\\u0440\\u0430\\u0442\\u044c\\u0441\\u044f\",\"\\u043c\\u0430\\u043b\\u0435\\u043d\\u044c\\u043a\\u0438\\u0439\",\"\\u0440\\u043e\\u0436\\u0434\\u0435\\u043d\\u0438\\u0435\",\"\\u0440\\u0443\\u0441\\u0441\\u043a\\u0438\\u0439\",\"\\u0437\\u0430\\u043a\\u0430\\u043d\\u0447\\u0438\\u0432\\u0430\\u0442\\u044c\\u0441\\u044f\",\"\\u0449\\u0430\\u0441\",\"\\u0434\\u0435\\u0432\\u043e\\u0447\\u043a\\u0430\",\"\\u043c\\u0438\\u0440\",\"\\u043d\\u0435\\u043b\\u044c\\u0437\\u044f\",\"\\u0434\\u043e\\u043b\\u0433\\u043e\",\"\\u0440\\u0435\\u0431\\u0435\\u043d\\u043e\\u043a\",\"\\u0443\\u043c\\u0438\\u0440\\u0430\\u0442\\u044c\",\"\\u043a\\u0430\\u0437\\u0430\\u0442\\u044c\\u0441\\u044f\",\"\\u0442\\u0440\\u0438\",\"\\u0447\\u0443\\u0432\\u0441\\u0442\\u0432\\u043e\",\"\\u043a\\u0440\\u0430\\u0441\\u0438\\u0432\\u044b\\u0439\",\"\\u043e\\u0439\",\"\\u0432\\u043e\\u043f\\u0440\\u043e\\u0441\",\"\\u043e\\u043d\\u043e\",\"\\u0446\\u0435\\u043b\\u044b\\u0439\",\"\\u0447\\u0442\\u043e\\u0431\",\"\\u043c\\u0443\\u0437\\u044b\\u043a\\u0430\",\"\\u043d\\u043e\\u0433\\u0430\",\"\\u0434\\u0430\\u043b\\u0435\\u043a\\u043e\",\"\\u043d\\u0435\\u043c\\u043d\\u043e\\u0433\\u043e\",\"\\u043e\\u0431\",\"\\u043e\\u0442\\u043b\\u0438\\u0447\\u043d\\u044b\\u0439\",\"\\u0440\\u043e\\u0441\\u0441\\u0438\\u044f\",\"\\u0441\\u0442\\u0430\\u0440\\u044b\\u0439\",\"\\u043c\\u0438\\u043b\\u044b\\u0439\",\"\\u0442\\u0432\\u0438\\u0442\",\"\\u0441\\u0435\\u0440\\u0438\\u044f\",\"\\u0437\\u0430\\u0442\\u043e\",\"\\u044d\\u0445\",\"\\u0432\\u0441\\u043f\\u043e\\u043c\\u043d\\u0438\\u0442\\u044c\",\"\\u0440\\u0430\\u0434\",\"\\u044d\\u043a\\u0437\\u0430\\u043c\\u0435\\u043d\",\"\\u043e\\u0442\\u0432\\u0435\\u0447\\u0430\\u0442\\u044c\",\"\\u0435\\u0441\\u0442\\u044c\",\"\\u043a\\u0440\\u0443\\u0442\\u043e\",\"\\u0431\\u044b\\u0432\\u0430\\u0442\\u044c\",\"\\u0436\\u0430\\u043b\\u043a\\u043e\",\"\\u0443\\u0435\\u0437\\u0436\\u0430\\u0442\\u044c\",\"\\u0440\\u0435\\u0431\\u044f\\u0442\\u0430\",\"\\u0445)\",\"\\u0438\\u043d\\u043e\\u0433\\u0434\\u0430\",\"\\u0438\\u043d\\u0442\\u0435\\u0440\\u0435\\u0441\\u043d\\u043e\",\"\\u0438\\u0441\\u0442\\u043e\\u0440\\u0438\\u044f\",\"\\u0431\\u043b\\u044f\\u0442\\u044c\",\"\\u043f\\u043e\\u043b\",\"\\u0433\\u0443\\u043b\\u044f\\u0442\\u044c\",\"\\u043d\\u043e\\u0440\\u043c\\u0430\",\"))))\",\":(((\",\"\\u043f\\u043e\\u0441\\u0442\\u0430\\u0432\\u043b\\u044f\\u0442\\u044c\",\"\\u0440\\u0430\\u0441\\u0441\\u043a\\u0430\\u0437\\u044b\\u0432\\u0430\\u0442\\u044c\",\"\\u043f\\u0438\\u0442\\u044c\",\"\\u043f\\u043e\\u0435\\u0445\\u0430\\u0442\\u044c\",\"\\u043f\\u043b\\u0430\\u043a\\u0430\\u0442\\u044c\",\"\\u0441\\u043b\\u0438\\u0448\\u043a\\u043e\\u043c\",\"\\u043f\\u0443\\u0441\\u0442\\u044c\",\"\\u0444\\u043e\\u0442\\u043e\",\":DD\",\":|\",\"\\u0443\\u0447\\u0438\\u0442\\u044c\",\"\\u043f\\u0440\\u043e\\u0431\\u043b\\u0435\\u043c\\u0430\",\"\\u043f\\u0438\\u0437\\u0434\\u0435\\u0446\",\"\\u0441\\u0447\\u0430\\u0441\\u0442\\u0438\\u0435\",\"\\u0438\\u0433\\u0440\\u0430\",\"\\u043b\\u043e\\u0436\\u0438\\u0442\\u044c\\u0441\\u044f\",\"\\u0443\\u0441\\u0442\\u0430\\u0432\\u0430\\u0442\\u044c\",\"\\u043f\\u043e\\u0434\\u0440\\u0443\\u0433\\u0430\",\"\\u043f\\u043e\\u0437\\u0434\\u0440\\u0430\\u0432\\u043b\\u044f\\u0442\\u044c\",\"\\u0438\\u043c\\u0435\\u043d\\u043d\\u043e\",\"\\u043f\\u043e\\u043a\\u0430\\u0437\\u044b\\u0432\\u0430\\u0442\\u044c\",\"\\u0434\\u0443\\u0448\\u0430\",\"\\u0443\\u0431\\u0438\\u0432\\u0430\\u0442\\u044c\",\"\\u0433\\u043b\\u0430\\u0432\\u043d\\u043e\\u0435\",\"\\u043d\\u043e\\u0440\\u043c\\u0430\\u043b\\u044c\\u043d\\u043e\",\"\\u0437\\u043d\\u0430\\u0447\\u0438\\u0442\",\"\\u043a\\u043e\",\"\\u043f\\u0440\\u0430\\u0437\\u0434\\u043d\\u0438\\u043a\",\"\\u0438\\u043d\\u0442\\u0435\\u0440\\u0435\\u0441\\u043d\\u044b\\u0439\",\"\\u043f\\u043e\\u044d\\u0442\\u043e\\u043c\\u0443\",\"\\u043c\\u043e\\u0436\\u0435\\u0442\",\"\\u043a\\u0430\\u043d\\u0438\\u043a\\u0443\\u043b\\u044b\",\"\\u043b\\u0435\\u0442\\u043e\",\"\\u0439\",\"\\u0432\\u043a\",\"\\u0443\\u0436\\u0430\\u0441\\u043d\\u044b\\u0439\",\"\\u043c\\u0430\\u0448\\u0438\\u043d\\u0430\",\"\\u0438\\u043d\\u0442\\u0435\\u0440\\u043d\\u0435\\u0442\",\"\\u043e\\u0444\\u0438\\u0433\\u0435\\u043d\\u043d\\u044b\\u0439\",\"\\u0443\\u0447\\u0438\\u0442\\u044c\\u0441\\u044f\",\"\\u043f\\u043e\\u0433\\u043e\\u0434\\u0430\",\"\\u043f\\u043e\\u0445\\u043e\\u0434\",\"\\u0441\\u043f\\u0440\\u0430\\u0448\\u0438\\u0432\\u0430\\u0442\\u044c\",\"\\u0437\\u0430\\u0439\\u0442\\u0438\",\"\\u0443\\u043c\\u0435\\u0442\\u044c\",\"\\u043f\\u0440\\u043e\\u0432\\u043e\\u0434\\u0438\\u0442\\u044c\",\"\\u0441\\u0443\\u043a\\u0430\",\"\\u043f\\u043e\\u043d\\u0440\\u0430\\u0432\\u0438\\u0442\\u044c\\u0441\\u044f\",\"\\u043f\\u043e\\u043b\\u043d\\u044b\\u0439\",\"\\u043a\\u043b\\u0430\\u0441\\u0441\\u043d\\u044b\\u0439\",\"\\u0443\\u0436\\u0430\\u0441\\u043d\\u043e\",\"\\u043a\\u043e\\u0442\",\"\\u043d\\u043e\\u0440\\u043c\\u0430\\u043b\\u044c\\u043d\\u044b\\u0439\",\"\\u0432\\u0435\\u0440\\u0438\\u0442\\u044c\",\"\\u0440\\u043e\\u0434\\u0438\\u0442\\u0435\\u043b\\u044c\",\"\\u043f\\u044f\\u0442\\u043d\\u0438\\u0446\\u0430\",\"\\u043f\\u0440\\u0438\\u044f\\u0442\\u043d\\u043e\",\"\\u043b\\u0438\\u0448\\u044c\",\"\\u043f\\u0440\\u0435\\u043a\\u0440\\u0430\\u0441\\u043d\\u044b\\u0439\",\"\\u0433\\u0440\\u0443\\u043f\\u043f\\u0430\",\"\\u0432\\u043c\\u0435\\u0441\\u0442\\u0435\",\"\\u0441\\u0435\\u0439\",\"\\u0447\\u0430\\u0441\\u0442\\u043e\",\"\\u0441\\u043a\\u0443\\u0447\\u043d\\u043e\",\"\\u0431\\u0440\\u0430\\u0442\",\"\\u0442\\u0438\\u043f\",\"\\u043e\\u0441\\u043e\\u0431\\u0435\\u043d\\u043d\\u043e\",\"\\u0432\\u0438\\u0434\\u0435\\u043e\",\"\\u0431\\u043e\\u043b\\u044c\",\"\\u043e\\u0431\\u0438\\u0434\\u043d\\u043e\",\"\\u043d\\u0438\\u043a\\u0430\\u043a\",\"\\u043f\\u043e\\u0434\\u0443\\u043c\\u0430\\u0442\\u044c\",\"\\u043e\\u0445\",\"\\u0433\\u043e\\u043b\\u043e\\u0441\",\"\\u043c\\u0430\\u0433\\u0430\\u0437\\u0438\\u043d\",\"\\u0430\\u0445\\u0430\\u0445\\u0430\\u0445\",\"\\u043c\\u044b\\u0441\\u043b\\u044c\",\"\\u043e\\u0442\\u043a\\u0440\\u044b\\u0432\\u0430\\u0442\\u044c\",\"\\u0434\",\"\\u0445\\u0432\\u0430\\u0442\\u0430\\u0442\\u044c\",\"\\u043f\\u044b\\u0442\\u0430\\u0442\\u044c\\u0441\\u044f\",\"\\u043d\\u043e\\u0432\\u043e\\u0441\\u0442\\u044c\",\"\\u0440\",\"\\u0430\\u0433\\u0430\",\"^_^\",\"\\u043c\\u043e\\u0441\\u043a\\u0432\\u0430\",\"\\u0441\\u043b\\u0435\\u0434\\u0443\\u044e\\u0449\\u0438\\u0439\",\"\\u0431\\u043e\\u0436\\u0435\",\"\\u0436\\u0435\\u043b\\u0430\\u043d\\u0438\\u0435\",\"\\u043f\\u0440\\u0435\\u0434\\u0441\\u0442\\u0430\\u0432\\u043b\\u044f\\u0442\\u044c\",\"\\u0440\\u044f\\u0434\\u043e\\u043c\",\"\\u0432\\u0441\\u0442\\u0440\\u0435\\u0447\\u0430\\u0442\\u044c\",\"\\u043a\\u0430\\u0436\\u0435\\u0442\\u0441\\u044f\",\"\\u043f\\u043e\\u0434\\u0430\\u0440\\u0438\\u0442\\u044c\",\":)))\",\"\\u043f\\u043b\\u0430\\u043d\",\"\\u043d\\u0430\\u0437\\u044b\\u0432\\u0430\\u0442\\u044c\",\"\\u0432\\u0441\\u0435\\u0433\\u043e\",\"\\u0434\\u043e\\u0440\\u043e\\u0433\\u043e\\u0439\",\"\\u043f\\u043e\\u043d\\u0435\\u0434\\u0435\\u043b\\u044c\\u043d\\u0438\\u043a\",\"\\u043a\\u043e\\u043d\\u0446\\u0435\\u0440\\u0442\",\"\\u0442\\u0443\\u0434\\u0430\",\"\\u0437\\u0430\\u0431\\u043e\\u043b\\u0435\\u0432\\u0430\\u0442\\u044c\",\"\\u0447\\u0430\\u0439\",\"\\u043e\\u0431\\u043e\\u0436\\u0430\\u0442\\u044c\",\"\\u0431\\u0435\\u0441\\u0438\\u0442\\u044c\",\":\\u0441\",\"\\u043d\\u0430\\u0437\\u0430\\u0434\",\"\\u043a\\u043d\\u0438\\u0433\\u0430\",\"\\u0438\\u0445\",\"\\u0440\\u0435\\u0430\\u043b\\u044c\\u043d\\u043e\",\"\\u043b\\u0438\\u0446\\u043e\",\"\\u0437\\u0430\\u043c\\u0435\\u0447\\u0430\\u0442\\u044c\",\"\\u0437\\u0434\\u0435\\u0441\\u044c\",\"\\u0431\\u044b\\u0442\\u044c)\",\"\\u043f\\u0440\\u043e\\u0447\\u0438\\u0442\\u044b\\u0432\\u0430\\u0442\\u044c\",\"\\u0442\\u0435\\u043c\\u0430\",\"\\u0441\\u0435\\u0437\\u043e\\u043d\",\"\\u043f\\u0440\\u0438\\u044f\\u0442\\u043d\\u044b\\u0439\",\"\\u0437\\u0430\\u043d\\u0438\\u043c\\u0430\\u0442\\u044c\\u0441\\u044f\",\"\\u043e\\u043a\\u043d\\u043e\",\"\\u0441\\u0435\\u0440\\u0438\\u0430\\u043b\",\"\\u0431\\u0443\\u0434\\u0442\\u043e\",\"\\u043b\\u044e\\u0431\\u043e\\u0439\",\"\\u043f\\u043e\\u043f\\u0430\\u0434\\u0430\\u0442\\u044c\",\"\\u043d\\u0438\\u043a\\u0430\\u043a\\u043e\\u0439\",\"amp\",\"\\u0432\\u0440\\u043e\\u043c\\u0430\\u0439\\u0434\\u0430\\u043d\",\"\\u043a\\u0430\\u043f\\u0435\\u0446\",\"\\u0438\\u0441\\u043a\\u0430\\u0442\\u044c\",\"\\u043b\\u0435\\u0436\\u0430\\u0442\\u044c\",\"\\u0441\\u0443\\u0431\\u0431\\u043e\\u0442\\u0430\",\"\\u0432\\u0438\\u0434\\u0438\\u043c\\u043e\"],\"x1\":{\"__ndarray__\":\"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\",\"dtype\":\"float32\",\"order\":\"little\",\"shape\":[500]},\"x2\":{\"__ndarray__\":\"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\",\"dtype\":\"float32\",\"order\":\"little\",\"shape\":[500]}},\"selected\":{\"id\":\"1043\"},\"selection_policy\":{\"id\":\"1044\"}},\"id\":\"1030\",\"type\":\"ColumnDataSource\"},{\"attributes\":{},\"id\":\"1022\",\"type\":\"WheelZoomTool\"},{\"attributes\":{},\"id\":\"1023\",\"type\":\"ResetTool\"},{\"attributes\":{},\"id\":\"1044\",\"type\":\"UnionRenderers\"},{\"attributes\":{},\"id\":\"1005\",\"type\":\"DataRange1d\"},{\"attributes\":{},\"id\":\"1007\",\"type\":\"DataRange1d\"},{\"attributes\":{},\"id\":\"1009\",\"type\":\"LinearScale\"},{\"attributes\":{},\"id\":\"1011\",\"type\":\"LinearScale\"},{\"attributes\":{\"active_drag\":\"auto\",\"active_inspect\":\"auto\",\"active_multi\":null,\"active_scroll\":\"auto\",\"active_tap\":\"auto\",\"tools\":[{\"id\":\"1021\"},{\"id\":\"1022\"},{\"id\":\"1023\"},{\"id\":\"1024\"}]},\"id\":\"1025\",\"type\":\"Toolbar\"},{\"attributes\":{},\"id\":\"1040\",\"type\":\"BasicTickFormatter\"},{\"attributes\":{\"formatter\":{\"id\":\"1040\"},\"ticker\":{\"id\":\"1014\"}},\"id\":\"1013\",\"type\":\"LinearAxis\"},{\"attributes\":{\"source\":{\"id\":\"1030\"},\"text\":{\"field\":\"names\"},\"text_align\":\"center\",\"text_color\":{\"value\":\"#555555\"},\"text_font_size\":{\"value\":\"8pt\"},\"x\":{\"field\":\"x1\"},\"y\":{\"field\":\"x2\"},\"y_offset\":{\"value\":6}},\"id\":\"1036\",\"type\":\"LabelSet\"},{\"attributes\":{\"axis\":{\"id\":\"1013\"},\"ticker\":null},\"id\":\"1016\",\"type\":\"Grid\"},{\"attributes\":{\"formatter\":{\"id\":\"1042\"},\"ticker\":{\"id\":\"1018\"}},\"id\":\"1017\",\"type\":\"LinearAxis\"}],\"root_ids\":[\"1002\"]},\"title\":\"Bokeh Application\",\"version\":\"2.2.3\"}};\n",
       "  var render_items = [{\"docid\":\"99abf1e2-fc63-4038-9fc4-2dcf8f158c33\",\"root_ids\":[\"1002\"],\"roots\":{\"1002\":\"f9e2c436-e6d1-407b-a7df-b46081e2857c\"}}];\n",
       "  root.Bokeh.embed.embed_items_notebook(docs_json, render_items);\n",
       "\n",
       "  }\n",
       "  if (root.Bokeh !== undefined) {\n",
       "    embed_document(root);\n",
       "  } else {\n",
       "    var attempts = 0;\n",
       "    var timer = setInterval(function(root) {\n",
       "      if (root.Bokeh !== undefined) {\n",
       "        clearInterval(timer);\n",
       "        embed_document(root);\n",
       "      } else {\n",
       "        attempts++;\n",
       "        if (attempts > 100) {\n",
       "          clearInterval(timer);\n",
       "          console.log(\"Bokeh: ERROR: Unable to run BokehJS code because BokehJS library is missing\");\n",
       "        }\n",
       "      }\n",
       "    }, 10, root)\n",
       "  }\n",
       "})(window);"
      ],
      "application/vnd.bokehjs_exec.v0+json": ""
     },
     "metadata": {
      "application/vnd.bokehjs_exec.v0+json": {
       "id": "1002"
      }
     },
     "output_type": "display_data"
    }
   ],
   "source": [
    "from bokeh.models import ColumnDataSource, LabelSet\n",
    "from bokeh.plotting import figure, show, output_file\n",
    "from bokeh.io import output_notebook\n",
    "output_notebook()\n",
    "\n",
    "p = figure(tools=\"pan,wheel_zoom,reset,save\",\n",
    "           toolbar_location=\"above\",\n",
    "           title=\"word2vec T-SNE for most common words\")\n",
    "\n",
    "source = ColumnDataSource(data=dict(x1=top_words_tsne[:,0],\n",
    "                                    x2=top_words_tsne[:,1],\n",
    "                                    names=top_words))\n",
    "\n",
    "p.scatter(x=\"x1\", y=\"x2\", size=8, source=source)\n",
    "\n",
    "labels = LabelSet(x=\"x1\", y=\"x2\", text=\"names\", y_offset=6,\n",
    "                  text_font_size=\"8pt\", text_color=\"#555555\",\n",
    "                  source=source, text_align='center')\n",
    "p.add_layout(labels)\n",
    "\n",
    "show(p)"
   ]
  },
  {
   "cell_type": "markdown",
   "metadata": {
    "id": "oYJ8ACA2QOY1"
   },
   "source": [
    "### Кластеризация слов "
   ]
  },
  {
   "cell_type": "code",
   "execution_count": 24,
   "metadata": {
    "id": "DnFHlfajQOY1"
   },
   "outputs": [],
   "source": [
    "from sklearn.metrics.pairwise import cosine_similarity\n",
    "dist = 1 - cosine_similarity(top_words_vec)"
   ]
  },
  {
   "cell_type": "code",
   "execution_count": 25,
   "metadata": {
    "colab": {
     "base_uri": "https://localhost:8080/",
     "height": 1000
    },
    "id": "3DxVVsjVkBHt",
    "outputId": "f6a3e872-1728-440b-f533-1528c13cb333"
   },
   "outputs": [
    {
     "data": {
      "image/png": "[encoded data removed]",
      "text/plain": [
       "<Figure size 720x7200 with 1 Axes>"
      ]
     },
     "metadata": {
      "needs_background": "light"
     },
     "output_type": "display_data"
    }
   ],
   "source": [
    "from scipy.cluster.hierarchy import  ward, dendrogram\n",
    "\n",
    "linkage_matrix = ward(dist) \n",
    "\n",
    "fig, ax = plt.subplots(figsize=(10, 100)) \n",
    "ax = dendrogram(linkage_matrix, orientation=\"right\", labels=top_words);\n",
    "\n",
    "plt.tick_params(\\\n",
    "    axis= 'x',          # changes apply to the x-axis\n",
    "    which='both',      # both major and minor ticks are affected\n",
    "    bottom='off',      # ticks along the bottom edge are off\n",
    "    top='off',         # ticks along the top edge are off\n",
    "    labelbottom='off')\n",
    "\n",
    "plt.tight_layout() \n",
    "\n",
    "plt.savefig('w2v_cluster.png', dpi=200) #save figure as ward_clusters"
   ]
  },
  {
   "cell_type": "markdown",
   "metadata": {
    "id": "Lg_xVO2dQOY2"
   },
   "source": [
    "## Классификация текстов \n",
    "По мотивам [поста](http://nadbordrozd.github.io/blog/2016/05/20/text-classification-with-word2vec/)\n"
   ]
  },
  {
   "cell_type": "markdown",
   "metadata": {
    "id": "vDq3uCqzQOY4"
   },
   "source": [
    "# Бонусное задание\n",
    "\n",
    " 1) зайдите на сайт RusVectores и скачайте одну из предобученных моделей gensim: https://rusvectores.org/ru/models/ \n",
    " \n",
    "2) Проведите аналогичные эксперименты с использованием скачанных векторных представлений\n",
    "\n",
    "Как изменился результат?"
   ]
  },
  {
   "cell_type": "code",
   "execution_count": null,
   "metadata": {
    "id": "fvVSKPt0OY2D"
   },
   "outputs": [],
   "source": []
  }
 ],
 "metadata": {
  "colab": {
   "provenance": []
  },
  "kernelspec": {
   "display_name": "Python 3 (ipykernel)",
   "language": "python",
   "name": "python3"
  },
  "language_info": {
   "codemirror_mode": {
    "name": "ipython",
    "version": 3
   },
   "file_extension": ".py",
   "mimetype": "text/x-python",
   "name": "python",
   "nbconvert_exporter": "python",
   "pygments_lexer": "ipython3",
   "version": "3.7.5"
  }
 },
 "nbformat": 4,
 "nbformat_minor": 1
}
