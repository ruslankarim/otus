{
 "cells": [
  {
   "cell_type": "markdown",
   "id": "ba5b69af",
   "metadata": {},
   "source": [
    "# Тензоры в PyTorch\n",
    "<img src=\"./images/pytorch_logo.png\" width=240>\n",
    "\n",
    "[*Тензор*](https://pytorch.org/docs/stable/tensors.html) - специализированная структура данных наподобие матриц и массивов. \n",
    "\n",
    "В *PyTorch* тензоры хранят входные и выходные данные моделей, а также их параметры (веса)."
   ]
  },
  {
   "cell_type": "markdown",
   "id": "490d0979",
   "metadata": {},
   "source": [
    "#### Установка PyTorch 2.0"
   ]
  },
  {
   "cell_type": "code",
   "execution_count": null,
   "id": "b5eb4e12",
   "metadata": {},
   "outputs": [],
   "source": [
    "# PyTorch 2.0 + CUDA 11.8:\n",
    "! pip3 install torch torchvision --index-url https://download.pytorch.org/whl/cu118\n",
    "    \n",
    "# PyTorch 2.0 nightly + CUDA 12.1:\n",
    "! pip3 install torch torchvision --pre --index-url https://download.pytorch.org/whl/nightly/cu121 "
   ]
  },
  {
   "cell_type": "markdown",
   "id": "e3c2fdbb",
   "metadata": {},
   "source": [
    "#### Импортируем необходимые библиотеки"
   ]
  },
  {
   "cell_type": "code",
   "execution_count": 1,
   "id": "374c41a9",
   "metadata": {},
   "outputs": [
    {
     "name": "stdout",
     "output_type": "stream",
     "text": [
      "True\n"
     ]
    },
    {
     "data": {
      "text/plain": [
       "'2.2.2+cu121'"
      ]
     },
     "execution_count": 1,
     "metadata": {},
     "output_type": "execute_result"
    }
   ],
   "source": [
    "import numpy as np\n",
    "import torch\n",
    "print (torch.cuda.is_available())\n",
    "torch.__version__"
   ]
  },
  {
   "cell_type": "markdown",
   "id": "acfad3b2",
   "metadata": {},
   "source": [
    "### 1. Инициализация тензоров"
   ]
  },
  {
   "cell_type": "code",
   "execution_count": 2,
   "id": "711b9c2a",
   "metadata": {},
   "outputs": [
    {
     "name": "stdout",
     "output_type": "stream",
     "text": [
      "[[1, 2, 3], [4, 5, 6], [7, 8, 9]] \n",
      "\n",
      "tensor([[1, 2, 3],\n",
      "        [4, 5, 6],\n",
      "        [7, 8, 9]])\n"
     ]
    }
   ],
   "source": [
    "# Инициализация из данных:\n",
    "my_data = [[1,2,3], [4,5,6], [7,8,9]]\n",
    "print (my_data, '\\n')\n",
    "\n",
    "my_tensor = torch.tensor(my_data)\n",
    "print (my_tensor)"
   ]
  },
  {
   "cell_type": "code",
   "execution_count": 3,
   "id": "c1385e23",
   "metadata": {},
   "outputs": [
    {
     "name": "stdout",
     "output_type": "stream",
     "text": [
      "[[1 2 3]\n",
      " [4 5 6]\n",
      " [7 8 9]] \n",
      "\n",
      "tensor([[1, 2, 3],\n",
      "        [4, 5, 6],\n",
      "        [7, 8, 9]], dtype=torch.int32)\n"
     ]
    }
   ],
   "source": [
    "# Инициализация из NymPy array:\n",
    "np_array = np.array(my_data)\n",
    "print (np_array, '\\n')\n",
    "\n",
    "my_tensor = torch.from_numpy(np_array)\n",
    "print (my_tensor)"
   ]
  },
  {
   "cell_type": "code",
   "execution_count": 4,
   "id": "507fac3b",
   "metadata": {},
   "outputs": [
    {
     "name": "stdout",
     "output_type": "stream",
     "text": [
      "tensor([[1, 1, 1],\n",
      "        [1, 1, 1],\n",
      "        [1, 1, 1]], dtype=torch.int32) \n",
      "\n",
      "tensor([[0.7793, 0.7899, 0.1579],\n",
      "        [0.5170, 0.3712, 0.9397],\n",
      "        [0.3119, 0.0944, 0.0674]])\n"
     ]
    }
   ],
   "source": [
    "# Инициализация из другого тензора:\n",
    "my_ones = torch.ones_like(my_tensor) # свойства сохраняются\n",
    "print(my_ones, '\\n')\n",
    "\n",
    "my_rand = torch.rand_like(my_tensor, dtype=torch.float) # переопределяем тип хранимых данных\n",
    "print(my_rand)"
   ]
  },
  {
   "cell_type": "code",
   "execution_count": 5,
   "id": "dca94ce3",
   "metadata": {},
   "outputs": [
    {
     "name": "stdout",
     "output_type": "stream",
     "text": [
      "tensor([[0.8415, 0.8940],\n",
      "        [0.2113, 0.8028],\n",
      "        [0.6719, 0.0167],\n",
      "        [0.9210, 0.8458]])\n",
      "tensor([[1., 1.],\n",
      "        [1., 1.],\n",
      "        [1., 1.],\n",
      "        [1., 1.]])\n",
      "tensor([[0., 0.],\n",
      "        [0., 0.],\n",
      "        [0., 0.],\n",
      "        [0., 0.]])\n"
     ]
    }
   ],
   "source": [
    "# Инициализация с определением размерности тензора:\n",
    "shape = (4,2,)\n",
    "print (torch.rand(shape))\n",
    "print (torch.ones(shape))\n",
    "print (torch.zeros(shape))"
   ]
  },
  {
   "cell_type": "markdown",
   "id": "91534a9d",
   "metadata": {},
   "source": [
    "### 2. Атрибуты тензоров"
   ]
  },
  {
   "cell_type": "code",
   "execution_count": 6,
   "id": "2797a20d",
   "metadata": {},
   "outputs": [
    {
     "name": "stdout",
     "output_type": "stream",
     "text": [
      "Форма: torch.Size([3, 4, 5])\n",
      "Тип данных: torch.float32\n",
      "Девайс где хранятся данные: cpu\n"
     ]
    }
   ],
   "source": [
    "my_tensor = torch.rand(3,4,5)\n",
    "\n",
    "print(f\"Форма: {my_tensor.shape}\")\n",
    "print(f\"Тип данных: {my_tensor.dtype}\")\n",
    "print(f\"Девайс где хранятся данные: {my_tensor.device}\")"
   ]
  },
  {
   "cell_type": "markdown",
   "id": "75e59397",
   "metadata": {},
   "source": [
    "### 3. Операции над тензорами\n",
    "[Список операций в PyTorch](https://pytorch.org/docs/stable/torch.html)"
   ]
  },
  {
   "cell_type": "code",
   "execution_count": null,
   "id": "87515f17",
   "metadata": {},
   "outputs": [],
   "source": [
    "# Перемещаем тензор на GPU:\n",
    "my_tensor = torch.rand(size=(3,4))\n",
    "if torch.cuda.is_available():\n",
    "    my_tensor = my_tensor.to(\"cuda:0\")\n",
    "    \n",
    "print (my_tensor)"
   ]
  },
  {
   "cell_type": "code",
   "execution_count": null,
   "id": "9b37fdcd",
   "metadata": {},
   "outputs": [],
   "source": [
    "# Операции indexing и slicing:\n",
    "print(f\"Первая строка: {my_tensor[0]}\")\n",
    "print(f\"Первый столбец: {my_tensor[:, 0]}\")\n",
    "print(f\"Последний столбец: {my_tensor[..., -1]}\")\n",
    "\n",
    "my_tensor = my_tensor.to(\"cpu\")\n",
    "my_tensor[:,1] = 0     # присваиваем константу 0 второму столбцу\n",
    "print (my_tensor)"
   ]
  },
  {
   "cell_type": "code",
   "execution_count": null,
   "id": "c56f3a58",
   "metadata": {},
   "outputs": [],
   "source": [
    "# Конкатенация тензоров:\n",
    "join_tensor = torch.cat([my_tensor, my_tensor, my_tensor], dim=0)\n",
    "print(join_tensor.shape)\n",
    "print(join_tensor)"
   ]
  },
  {
   "cell_type": "code",
   "execution_count": null,
   "id": "3232cd14",
   "metadata": {},
   "outputs": [],
   "source": [
    "# Арифметические операции - перемножение матрица:\n",
    "y1 = my_tensor @ my_tensor.T\n",
    "y2 = my_tensor.matmul(my_tensor.T)\n",
    "y3 = torch.rand_like(my_tensor)\n",
    "torch.matmul(my_tensor, my_tensor.T, out=y3)\n",
    "print ('y1:', y1,'\\ny2:', y2,'\\ny3:',y3)\n",
    "\n",
    "# Арифметические операции - поэлементное перемножение:\n",
    "z1 = my_tensor * my_tensor\n",
    "z2 = my_tensor.mul(my_tensor)\n",
    "z3 = torch.rand_like(my_tensor)\n",
    "torch.mul(my_tensor, my_tensor, out=z3)\n",
    "print ('z1:', z1,'\\nz2:', z2,'\\nz3:',z3)"
   ]
  },
  {
   "cell_type": "code",
   "execution_count": null,
   "id": "75d36157",
   "metadata": {},
   "outputs": [],
   "source": [
    "# Одноэлементные тензоры:\n",
    "result = my_tensor.sum()   # суммируем все элементы тензора\n",
    "value = result.item()      # приводим тензор к Python numerical value\n",
    "print(value, type(value))\n",
    "print (result, type(result))"
   ]
  },
  {
   "cell_type": "markdown",
   "id": "c5554b38",
   "metadata": {},
   "source": [
    "### 4. PyTorch тензоры и NumPy массивы:"
   ]
  },
  {
   "cell_type": "code",
   "execution_count": null,
   "id": "3c68280d",
   "metadata": {},
   "outputs": [],
   "source": [
    "# Tensor -> NumPy array:\n",
    "t = torch.ones(5)\n",
    "n = t.numpy()\n",
    "\n",
    "t[1] = -6\n",
    "print(t, t.shape, t.dtype)\n",
    "print(n, n.shape, n.dtype)"
   ]
  },
  {
   "cell_type": "code",
   "execution_count": null,
   "id": "6a208bae",
   "metadata": {},
   "outputs": [],
   "source": [
    "# NumPy array -> Tensor:\n",
    "n = np.ones(5)\n",
    "t = torch.from_numpy(n)\n",
    "\n",
    "np.add(n, 6, out=n)\n",
    "print(t, t.shape, t.dtype)\n",
    "print(n, n.shape, n.dtype)"
   ]
  },
  {
   "cell_type": "code",
   "execution_count": null,
   "id": "7ece6728",
   "metadata": {},
   "outputs": [],
   "source": []
  }
 ],
 "metadata": {
  "kernelspec": {
   "display_name": "Python 3 (ipykernel)",
   "language": "python",
   "name": "python3"
  },
  "language_info": {
   "codemirror_mode": {
    "name": "ipython",
    "version": 3
   },
   "file_extension": ".py",
   "mimetype": "text/x-python",
   "name": "python",
   "nbconvert_exporter": "python",
   "pygments_lexer": "ipython3",
   "version": "3.11.9"
  }
 },
 "nbformat": 4,
 "nbformat_minor": 5
}
