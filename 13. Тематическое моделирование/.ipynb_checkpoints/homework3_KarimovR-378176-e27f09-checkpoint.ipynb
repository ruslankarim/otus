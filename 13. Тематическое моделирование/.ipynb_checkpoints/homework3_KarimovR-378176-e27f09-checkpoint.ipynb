{
 "cells": [
  {
   "cell_type": "code",
   "execution_count": 245,
   "id": "fa726c95-04a4-4090-a5c7-4d3fb4f71832",
   "metadata": {},
   "outputs": [],
   "source": [
    "import pandas as pd\n",
    "from sklearn.model_selection import train_test_split\n",
    "from sklearn.feature_extraction.text import TfidfVectorizer\n",
    "import random\n",
    "import nltk\n",
    "import re\n",
    "import inspect\n",
    "import pymorphy2\n",
    "from tqdm.notebook import trange, tqdm\n",
    "import matplotlib.pyplot as plt\n",
    "from sklearn.ensemble import RandomForestClassifier"
   ]
  },
  {
   "cell_type": "code",
   "execution_count": 182,
   "id": "8b0bf32a-c762-463e-8e45-6ef54ac87b7e",
   "metadata": {},
   "outputs": [],
   "source": [
    "neg = pd.read_csv('./negative.csv')\n",
    "pos = pd.read_csv('./positive.csv')"
   ]
  },
  {
   "cell_type": "markdown",
   "id": "059c4b7a-79c3-49be-8e04-834a7c040b78",
   "metadata": {},
   "source": [
    "### Проверяем нет ли дубликатов"
   ]
  },
  {
   "cell_type": "code",
   "execution_count": 183,
   "id": "0eaafb97-b290-46e7-b342-6b914e8d5dab",
   "metadata": {},
   "outputs": [
    {
     "name": "stdout",
     "output_type": "stream",
     "text": [
      "(111923, 12)\n",
      "(114911, 12)\n"
     ]
    }
   ],
   "source": [
    "print(neg.shape)\n",
    "print(pos.shape)"
   ]
  },
  {
   "cell_type": "code",
   "execution_count": 184,
   "id": "6525ebf2-5478-45e9-9e8a-ee42bb4fa597",
   "metadata": {},
   "outputs": [
    {
     "data": {
      "text/plain": [
       "(110396, 107044)"
      ]
     },
     "execution_count": 184,
     "metadata": {},
     "output_type": "execute_result"
    }
   ],
   "source": [
    "len(pos['ttext'].value_counts()), len(neg['ttext'].value_counts())"
   ]
  },
  {
   "cell_type": "markdown",
   "id": "551a64f3-6eb2-4022-86cd-0dabfc44c8f9",
   "metadata": {},
   "source": [
    "### Удаляем дубликаты"
   ]
  },
  {
   "cell_type": "code",
   "execution_count": 185,
   "id": "00e0e826-d3c3-4f5b-921e-35b0dfe7f943",
   "metadata": {},
   "outputs": [
    {
     "name": "stdout",
     "output_type": "stream",
     "text": [
      "(110396, 12)\n",
      "(107044, 12)\n"
     ]
    }
   ],
   "source": [
    "pos = pos.drop_duplicates(subset=['ttext'])\n",
    "print(pos.shape)\n",
    "neg = neg.drop_duplicates(subset=['ttext'])\n",
    "print(neg.shape)"
   ]
  },
  {
   "cell_type": "code",
   "execution_count": 186,
   "id": "da7653c5-12eb-4070-839d-29a24320b705",
   "metadata": {},
   "outputs": [],
   "source": [
    "data = []\n",
    "for i, row in pd.concat([neg, pos]).iterrows():\n",
    "    data.append({'text': row['ttext'], 'sentiment': row['ttype']})\n",
    "random.shuffle(data)"
   ]
  },
  {
   "cell_type": "code",
   "execution_count": 195,
   "id": "01c5b1bb-a15a-4c62-8176-0696a1bc4aa7",
   "metadata": {},
   "outputs": [
    {
     "name": "stderr",
     "output_type": "stream",
     "text": [
      "[nltk_data] Downloading package stopwords to\n",
      "[nltk_data]     /Users/20223210/nltk_data...\n",
      "[nltk_data]   Package stopwords is already up-to-date!\n"
     ]
    }
   ],
   "source": [
    "nltk.download('stopwords')\n",
    "stop_words = nltk.corpus.stopwords.words('russian')\n",
    "months = ['январь', 'февраль', 'март', 'апрель', 'май', 'июнь', 'июль', 'август', 'сентябрь', 'октябрь', 'ноябрь', 'декабрь',]\n",
    "all_stop_words = stop_words + months\n",
    "word_tokenizer = nltk.WordPunctTokenizer()\n",
    "\n",
    "regex = re.compile(r'[А-Яа-яёЁ-]+')\n",
    "def words_only(text, regex=regex):\n",
    "    try:\n",
    "        return \" \".join(regex.findall(text)).lower()\n",
    "    except:\n",
    "        return \"\"\n",
    "\n",
    "def process_data(data):\n",
    "    texts = []\n",
    "    targets = []\n",
    "\n",
    "    for item in tqdm(data):\n",
    "\n",
    "        text_lower = words_only(item['text'])\n",
    "        tokens     = word_tokenizer.tokenize(text_lower)\n",
    "\n",
    "        tokens = [word for word in tokens if (word not in all_stop_words and not word.isnumeric())]\n",
    "\n",
    "        texts.append(tokens)\n",
    "\n",
    "    return texts"
   ]
  },
  {
   "cell_type": "markdown",
   "id": "6fa67073-6611-42ee-ae98-d852012ba4dc",
   "metadata": {},
   "source": [
    "### Проводим предобработку"
   ]
  },
  {
   "cell_type": "code",
   "execution_count": 232,
   "id": "f3d3c1b6-4d6f-49bf-a312-7f8ba067bf49",
   "metadata": {},
   "outputs": [
    {
     "data": {
      "application/vnd.jupyter.widget-view+json": {
       "model_id": "8692889509794901b6eb9f4879b88562",
       "version_major": 2,
       "version_minor": 0
      },
      "text/plain": [
       "  0%|          | 0/217440 [00:00<?, ?it/s]"
      ]
     },
     "metadata": {},
     "output_type": "display_data"
    }
   ],
   "source": [
    "y = [item['sentiment'] for item in data]\n",
    "texts = process_data(data)"
   ]
  },
  {
   "cell_type": "code",
   "execution_count": 221,
   "id": "416b61ba-d438-4ad6-8b85-43af4bedaf97",
   "metadata": {},
   "outputs": [
    {
     "name": "stdout",
     "output_type": "stream",
     "text": [
      "['агагага', 'другими', 'пишешься']\n",
      "-1\n"
     ]
    }
   ],
   "source": [
    "print(texts[15000])\n",
    "print(y[15000])"
   ]
  },
  {
   "cell_type": "markdown",
   "id": "9717c60b-07c5-45db-9115-8cf117f7997b",
   "metadata": {},
   "source": [
    "### Нормализуем и записываем в файл"
   ]
  },
  {
   "cell_type": "code",
   "execution_count": 202,
   "id": "71061b0a-b6c3-4f7a-8202-fd44918d1f37",
   "metadata": {},
   "outputs": [],
   "source": [
    "morph = pymorphy2.MorphAnalyzer()"
   ]
  },
  {
   "cell_type": "code",
   "execution_count": 213,
   "id": "bcfaaa48-258e-4836-9c6c-6df94cba32c8",
   "metadata": {},
   "outputs": [
    {
     "data": {
      "application/vnd.jupyter.widget-view+json": {
       "model_id": "a3e6ebbf88a647988fe1362b1a66d8b1",
       "version_major": 2,
       "version_minor": 0
      },
      "text/plain": [
       "  0%|          | 0/217440 [00:00<?, ?it/s]"
      ]
     },
     "metadata": {},
     "output_type": "display_data"
    }
   ],
   "source": [
    "with open('tweets_lemma.txt', 'a') as file:\n",
    "    for i in tqdm(range(len(texts))):\n",
    "        tweet_lemma = [morph.parse(x)[0].normal_form for x in texts[i]]\n",
    "        tweet = ' '.join(tweet_lemma)\n",
    "        file.write(tweet + '\\n')"
   ]
  },
  {
   "cell_type": "code",
   "execution_count": 217,
   "id": "e5063c97-8732-48c2-8c53-7be35da655c8",
   "metadata": {},
   "outputs": [],
   "source": [
    "tweets = [x.replace('\\n','') for x in open('tweets_lemma.txt', encoding = 'utf-8').readlines()]"
   ]
  },
  {
   "cell_type": "code",
   "execution_count": 219,
   "id": "76a2de90-d42c-4157-ad60-f1ed130b9d94",
   "metadata": {},
   "outputs": [
    {
     "data": {
      "text/plain": [
       "'агагага другой писаться'"
      ]
     },
     "execution_count": 219,
     "metadata": {},
     "output_type": "execute_result"
    }
   ],
   "source": [
    "tweets[15000]"
   ]
  },
  {
   "cell_type": "code",
   "execution_count": 234,
   "id": "0aa5d19f-8d1d-40e9-9947-32660329101a",
   "metadata": {},
   "outputs": [],
   "source": [
    "train_texts, test_texts, train_y, test_y = train_test_split(tweets, y, test_size=0.2, random_state=42, stratify = y)"
   ]
  },
  {
   "cell_type": "code",
   "execution_count": 240,
   "id": "d92ed116-485e-49ac-a7f0-579d1832c593",
   "metadata": {},
   "outputs": [
    {
     "data": {
      "text/html": [
       "<style>#sk-container-id-2 {color: black;}#sk-container-id-2 pre{padding: 0;}#sk-container-id-2 div.sk-toggleable {background-color: white;}#sk-container-id-2 label.sk-toggleable__label {cursor: pointer;display: block;width: 100%;margin-bottom: 0;padding: 0.3em;box-sizing: border-box;text-align: center;}#sk-container-id-2 label.sk-toggleable__label-arrow:before {content: \"▸\";float: left;margin-right: 0.25em;color: #696969;}#sk-container-id-2 label.sk-toggleable__label-arrow:hover:before {color: black;}#sk-container-id-2 div.sk-estimator:hover label.sk-toggleable__label-arrow:before {color: black;}#sk-container-id-2 div.sk-toggleable__content {max-height: 0;max-width: 0;overflow: hidden;text-align: left;background-color: #f0f8ff;}#sk-container-id-2 div.sk-toggleable__content pre {margin: 0.2em;color: black;border-radius: 0.25em;background-color: #f0f8ff;}#sk-container-id-2 input.sk-toggleable__control:checked~div.sk-toggleable__content {max-height: 200px;max-width: 100%;overflow: auto;}#sk-container-id-2 input.sk-toggleable__control:checked~label.sk-toggleable__label-arrow:before {content: \"▾\";}#sk-container-id-2 div.sk-estimator input.sk-toggleable__control:checked~label.sk-toggleable__label {background-color: #d4ebff;}#sk-container-id-2 div.sk-label input.sk-toggleable__control:checked~label.sk-toggleable__label {background-color: #d4ebff;}#sk-container-id-2 input.sk-hidden--visually {border: 0;clip: rect(1px 1px 1px 1px);clip: rect(1px, 1px, 1px, 1px);height: 1px;margin: -1px;overflow: hidden;padding: 0;position: absolute;width: 1px;}#sk-container-id-2 div.sk-estimator {font-family: monospace;background-color: #f0f8ff;border: 1px dotted black;border-radius: 0.25em;box-sizing: border-box;margin-bottom: 0.5em;}#sk-container-id-2 div.sk-estimator:hover {background-color: #d4ebff;}#sk-container-id-2 div.sk-parallel-item::after {content: \"\";width: 100%;border-bottom: 1px solid gray;flex-grow: 1;}#sk-container-id-2 div.sk-label:hover label.sk-toggleable__label {background-color: #d4ebff;}#sk-container-id-2 div.sk-serial::before {content: \"\";position: absolute;border-left: 1px solid gray;box-sizing: border-box;top: 0;bottom: 0;left: 50%;z-index: 0;}#sk-container-id-2 div.sk-serial {display: flex;flex-direction: column;align-items: center;background-color: white;padding-right: 0.2em;padding-left: 0.2em;position: relative;}#sk-container-id-2 div.sk-item {position: relative;z-index: 1;}#sk-container-id-2 div.sk-parallel {display: flex;align-items: stretch;justify-content: center;background-color: white;position: relative;}#sk-container-id-2 div.sk-item::before, #sk-container-id-2 div.sk-parallel-item::before {content: \"\";position: absolute;border-left: 1px solid gray;box-sizing: border-box;top: 0;bottom: 0;left: 50%;z-index: -1;}#sk-container-id-2 div.sk-parallel-item {display: flex;flex-direction: column;z-index: 1;position: relative;background-color: white;}#sk-container-id-2 div.sk-parallel-item:first-child::after {align-self: flex-end;width: 50%;}#sk-container-id-2 div.sk-parallel-item:last-child::after {align-self: flex-start;width: 50%;}#sk-container-id-2 div.sk-parallel-item:only-child::after {width: 0;}#sk-container-id-2 div.sk-dashed-wrapped {border: 1px dashed gray;margin: 0 0.4em 0.5em 0.4em;box-sizing: border-box;padding-bottom: 0.4em;background-color: white;}#sk-container-id-2 div.sk-label label {font-family: monospace;font-weight: bold;display: inline-block;line-height: 1.2em;}#sk-container-id-2 div.sk-label-container {text-align: center;}#sk-container-id-2 div.sk-container {/* jupyter's `normalize.less` sets `[hidden] { display: none; }` but bootstrap.min.css set `[hidden] { display: none !important; }` so we also need the `!important` here to be able to override the default hidden behavior on the sphinx rendered scikit-learn.org. See: https://github.com/scikit-learn/scikit-learn/issues/21755 */display: inline-block !important;position: relative;}#sk-container-id-2 div.sk-text-repr-fallback {display: none;}</style><div id=\"sk-container-id-2\" class=\"sk-top-container\"><div class=\"sk-text-repr-fallback\"><pre>TfidfVectorizer(max_features=300, ngram_range=(1, 4), norm=None,\n",
       "                sublinear_tf=True, token_pattern=&#x27;\\\\w{1,}&#x27;)</pre><b>In a Jupyter environment, please rerun this cell to show the HTML representation or trust the notebook. <br />On GitHub, the HTML representation is unable to render, please try loading this page with nbviewer.org.</b></div><div class=\"sk-container\" hidden><div class=\"sk-item\"><div class=\"sk-estimator sk-toggleable\"><input class=\"sk-toggleable__control sk-hidden--visually\" id=\"sk-estimator-id-2\" type=\"checkbox\" checked><label for=\"sk-estimator-id-2\" class=\"sk-toggleable__label sk-toggleable__label-arrow\">TfidfVectorizer</label><div class=\"sk-toggleable__content\"><pre>TfidfVectorizer(max_features=300, ngram_range=(1, 4), norm=None,\n",
       "                sublinear_tf=True, token_pattern=&#x27;\\\\w{1,}&#x27;)</pre></div></div></div></div></div>"
      ],
      "text/plain": [
       "TfidfVectorizer(max_features=300, ngram_range=(1, 4), norm=None,\n",
       "                sublinear_tf=True, token_pattern='\\\\w{1,}')"
      ]
     },
     "execution_count": 240,
     "metadata": {},
     "output_type": "execute_result"
    }
   ],
   "source": [
    "word_vectorizer = TfidfVectorizer(\n",
    "    sublinear_tf=True,\n",
    "    analyzer='word',\n",
    "    token_pattern=r'\\w{1,}',\n",
    "    ngram_range=(1, 4),\n",
    "    max_features=300,\n",
    "    norm = None\n",
    ")\n",
    "\n",
    "word_vectorizer.fit(tweets)"
   ]
  },
  {
   "cell_type": "code",
   "execution_count": 241,
   "id": "26b3483e-8d77-409a-9fad-5002a4a99808",
   "metadata": {},
   "outputs": [],
   "source": [
    "tfidf_train = word_vectorizer.transform(train_texts)\n",
    "tfidf_test = word_vectorizer.transform(test_texts)"
   ]
  },
  {
   "cell_type": "code",
   "execution_count": 242,
   "id": "9d2c777f-ecd2-4c5a-a447-c65842e53f6c",
   "metadata": {},
   "outputs": [
    {
     "name": "stdout",
     "output_type": "stream",
     "text": [
      "Shape of tfidf_train: (173952, 300)\n",
      "Shape of tfidf_test: (43488, 300)\n"
     ]
    }
   ],
   "source": [
    "print('Shape of tfidf_train:', tfidf_train.shape)\n",
    "print('Shape of tfidf_test:', tfidf_test.shape)"
   ]
  },
  {
   "cell_type": "code",
   "execution_count": 243,
   "id": "8d429f19-18f9-4f48-8be6-08afd4c22a8e",
   "metadata": {},
   "outputs": [
    {
     "data": {
      "text/plain": [
       "array(['ахи', 'блин', 'болеть', 'быть', 'весь', 'вечер', 'видеть',\n",
       "       'вообще', 'время', 'всё'], dtype=object)"
      ]
     },
     "execution_count": 243,
     "metadata": {},
     "output_type": "execute_result"
    }
   ],
   "source": [
    "vectorizer.get_feature_names_out()[:10]"
   ]
  },
  {
   "cell_type": "markdown",
   "id": "5d62ef91-3cd2-470e-96a3-df34a9f4870e",
   "metadata": {},
   "source": [
    "### Обучение"
   ]
  },
  {
   "cell_type": "code",
   "execution_count": 247,
   "id": "f19825c6-22ef-472f-a908-f3ffd89efccc",
   "metadata": {},
   "outputs": [],
   "source": [
    "train_X = vectorizer.fit_transform(train_texts)\n",
    "test_X  = vectorizer.transform(test_texts)\n",
    "clf = RandomForestClassifier(n_estimators = 500, max_depth = 10)\n",
    "clf = clf.fit(train_X, train_y)"
   ]
  },
  {
   "cell_type": "code",
   "execution_count": 248,
   "id": "85fe22c0-0c6f-4175-b621-419f9d56c532",
   "metadata": {},
   "outputs": [],
   "source": [
    "pred = clf.predict(test_X)"
   ]
  },
  {
   "cell_type": "code",
   "execution_count": 249,
   "id": "10b3d3f7-da36-411d-b242-979bf6530055",
   "metadata": {},
   "outputs": [
    {
     "name": "stdout",
     "output_type": "stream",
     "text": [
      "Предсказанные метки:  [ 1 -1  1  1  1  1  1  1  1  1  1  1  1  1  1  1  1 -1  1  1] .....\n",
      "Истинные метки:  [1, -1, -1, 1, 1, 1, 1, -1, 1, -1, -1, -1, -1, -1, 1, 1, -1, -1, 1, -1] .....\n"
     ]
    }
   ],
   "source": [
    "print('Предсказанные метки: ', pred[0:20], \".....\")\n",
    "print('Истинные метки: ', test_y[0:20], \".....\")"
   ]
  },
  {
   "cell_type": "code",
   "execution_count": null,
   "id": "611fd092-b2ad-4ae3-915b-7763862753bc",
   "metadata": {},
   "outputs": [],
   "source": []
  }
 ],
 "metadata": {
  "kernelspec": {
   "display_name": "Python 3 (ipykernel)",
   "language": "python",
   "name": "python3"
  },
  "language_info": {
   "codemirror_mode": {
    "name": "ipython",
    "version": 3
   },
   "file_extension": ".py",
   "mimetype": "text/x-python",
   "name": "python",
   "nbconvert_exporter": "python",
   "pygments_lexer": "ipython3",
   "version": "3.7.5"
  }
 },
 "nbformat": 4,
 "nbformat_minor": 5
}
