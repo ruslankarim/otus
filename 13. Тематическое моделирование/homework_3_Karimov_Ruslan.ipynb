{
 "cells": [
  {
   "cell_type": "code",
   "execution_count": 56,
   "id": "fa726c95-04a4-4090-a5c7-4d3fb4f71832",
   "metadata": {},
   "outputs": [],
   "source": [
    "import pandas as pd\n",
    "import numpy as np\n",
    "from sklearn.model_selection import train_test_split\n",
    "from sklearn.feature_extraction.text import TfidfVectorizer\n",
    "import random\n",
    "import nltk\n",
    "import re\n",
    "import inspect\n",
    "import pymorphy3\n",
    "from tqdm.notebook import trange, tqdm\n",
    "import matplotlib.pyplot as plt\n",
    "from sklearn.ensemble import RandomForestClassifier"
   ]
  },
  {
   "cell_type": "code",
   "execution_count": 57,
   "id": "8b0bf32a-c762-463e-8e45-6ef54ac87b7e",
   "metadata": {},
   "outputs": [],
   "source": [
    "administrative = pd.read_csv('./administrative.csv', sep=';')\n",
    "bankruptcy = pd.read_csv('./bankruptcy.csv', sep=';')\n",
    "civile = pd.read_csv('./civile.csv', sep=';')"
   ]
  },
  {
   "cell_type": "markdown",
   "id": "059c4b7a-79c3-49be-8e04-834a7c040b78",
   "metadata": {},
   "source": [
    "### Проверяем нет ли дубликатов"
   ]
  },
  {
   "cell_type": "code",
   "execution_count": 10,
   "id": "0eaafb97-b290-46e7-b342-6b914e8d5dab",
   "metadata": {},
   "outputs": [
    {
     "name": "stdout",
     "output_type": "stream",
     "text": [
      "(359, 2)\n",
      "(771, 2)\n",
      "(1347, 2)\n"
     ]
    }
   ],
   "source": [
    "print(administrative.shape)\n",
    "print(bankruptcy.shape)\n",
    "print(civile.shape)"
   ]
  },
  {
   "cell_type": "code",
   "execution_count": 11,
   "id": "8d01220b",
   "metadata": {},
   "outputs": [
    {
     "data": {
      "text/html": [
       "<div>\n",
       "<style scoped>\n",
       "    .dataframe tbody tr th:only-of-type {\n",
       "        vertical-align: middle;\n",
       "    }\n",
       "\n",
       "    .dataframe tbody tr th {\n",
       "        vertical-align: top;\n",
       "    }\n",
       "\n",
       "    .dataframe thead th {\n",
       "        text-align: right;\n",
       "    }\n",
       "</style>\n",
       "<table border=\"1\" class=\"dataframe\">\n",
       "  <thead>\n",
       "    <tr style=\"text-align: right;\">\n",
       "      <th></th>\n",
       "      <th>category</th>\n",
       "      <th>text</th>\n",
       "    </tr>\n",
       "  </thead>\n",
       "  <tbody>\n",
       "    <tr>\n",
       "      <th>0</th>\n",
       "      <td>Гражданское</td>\n",
       "      <td>акционерный общество газпром межрегионгаз каза...</td>\n",
       "    </tr>\n",
       "    <tr>\n",
       "      <th>1</th>\n",
       "      <td>Гражданское</td>\n",
       "      <td>индивидуальный предприниматель фио далее предп...</td>\n",
       "    </tr>\n",
       "    <tr>\n",
       "      <th>2</th>\n",
       "      <td>Гражданское</td>\n",
       "      <td>общество ограниченный ответственность экострой...</td>\n",
       "    </tr>\n",
       "    <tr>\n",
       "      <th>3</th>\n",
       "      <td>Гражданское</td>\n",
       "      <td>общество ограниченный ответственность технопро...</td>\n",
       "    </tr>\n",
       "    <tr>\n",
       "      <th>4</th>\n",
       "      <td>Гражданское</td>\n",
       "      <td>акционерный общество семеноводческий хозяйство...</td>\n",
       "    </tr>\n",
       "  </tbody>\n",
       "</table>\n",
       "</div>"
      ],
      "text/plain": [
       "      category                                               text\n",
       "0  Гражданское  акционерный общество газпром межрегионгаз каза...\n",
       "1  Гражданское  индивидуальный предприниматель фио далее предп...\n",
       "2  Гражданское  общество ограниченный ответственность экострой...\n",
       "3  Гражданское  общество ограниченный ответственность технопро...\n",
       "4  Гражданское  акционерный общество семеноводческий хозяйство..."
      ]
     },
     "execution_count": 11,
     "metadata": {},
     "output_type": "execute_result"
    }
   ],
   "source": [
    "civile.head()"
   ]
  },
  {
   "cell_type": "code",
   "execution_count": 12,
   "id": "6525ebf2-5478-45e9-9e8a-ee42bb4fa597",
   "metadata": {},
   "outputs": [
    {
     "data": {
      "text/plain": [
       "(359, 770, 1345)"
      ]
     },
     "execution_count": 12,
     "metadata": {},
     "output_type": "execute_result"
    }
   ],
   "source": [
    "len(administrative.value_counts()), len(bankruptcy.value_counts()), len(civile.value_counts())"
   ]
  },
  {
   "cell_type": "markdown",
   "id": "551a64f3-6eb2-4022-86cd-0dabfc44c8f9",
   "metadata": {},
   "source": [
    "### Удаляем дубликаты"
   ]
  },
  {
   "cell_type": "code",
   "execution_count": 13,
   "id": "00e0e826-d3c3-4f5b-921e-35b0dfe7f943",
   "metadata": {},
   "outputs": [
    {
     "name": "stdout",
     "output_type": "stream",
     "text": [
      "(1345, 2)\n",
      "(770, 2)\n",
      "(359, 2)\n"
     ]
    }
   ],
   "source": [
    "civile = civile.drop_duplicates()\n",
    "print(civile.shape)\n",
    "bankruptcy = bankruptcy.drop_duplicates()\n",
    "print(bankruptcy.shape)\n",
    "administrative = administrative.drop_duplicates()\n",
    "print(administrative.shape)"
   ]
  },
  {
   "cell_type": "code",
   "execution_count": 14,
   "id": "da7653c5-12eb-4070-839d-29a24320b705",
   "metadata": {},
   "outputs": [],
   "source": [
    "data = []\n",
    "for i, row in pd.concat([civile, bankruptcy, administrative]).iterrows():\n",
    "    data.append({'text': row['text'], 'category': row['category']})\n",
    "random.shuffle(data)"
   ]
  },
  {
   "cell_type": "code",
   "execution_count": 20,
   "id": "ab2146c4",
   "metadata": {},
   "outputs": [
    {
     "data": {
      "text/plain": [
       "2474"
      ]
     },
     "execution_count": 20,
     "metadata": {},
     "output_type": "execute_result"
    }
   ],
   "source": [
    "len(data)"
   ]
  },
  {
   "cell_type": "code",
   "execution_count": 16,
   "id": "01c5b1bb-a15a-4c62-8176-0696a1bc4aa7",
   "metadata": {},
   "outputs": [
    {
     "name": "stderr",
     "output_type": "stream",
     "text": [
      "[nltk_data] Downloading package stopwords to\n",
      "[nltk_data]     /Users/20223210/nltk_data...\n",
      "[nltk_data]   Package stopwords is already up-to-date!\n"
     ]
    }
   ],
   "source": [
    "nltk.download('stopwords')\n",
    "stop_words = nltk.corpus.stopwords.words('russian')\n",
    "months = ['январь', 'февраль', 'март', 'апрель', 'май', 'июнь', 'июль', 'август', 'сентябрь', 'октябрь', 'ноябрь', 'декабрь',]\n",
    "all_stop_words = stop_words + months\n",
    "word_tokenizer = nltk.WordPunctTokenizer()\n",
    "\n",
    "regex = re.compile(r'[А-Яа-яёЁ-]+')\n",
    "def words_only(text, regex=regex):\n",
    "    try:\n",
    "        return \" \".join(regex.findall(text)).lower()\n",
    "    except:\n",
    "        return \"\"\n",
    "\n",
    "def process_data(data):\n",
    "    texts = []\n",
    "    targets = []\n",
    "\n",
    "    for item in tqdm(data):\n",
    "\n",
    "        text_lower = words_only(item['text'])\n",
    "        tokens     = word_tokenizer.tokenize(text_lower)\n",
    "\n",
    "        tokens = [word for word in tokens if (word not in all_stop_words and not word.isnumeric())]\n",
    "\n",
    "        texts.append(tokens)\n",
    "\n",
    "    return texts"
   ]
  },
  {
   "cell_type": "markdown",
   "id": "6fa67073-6611-42ee-ae98-d852012ba4dc",
   "metadata": {},
   "source": [
    "### Проводим предобработку"
   ]
  },
  {
   "cell_type": "code",
   "execution_count": 17,
   "id": "f3d3c1b6-4d6f-49bf-a312-7f8ba067bf49",
   "metadata": {},
   "outputs": [
    {
     "data": {
      "application/vnd.jupyter.widget-view+json": {
       "model_id": "e3a4ba97211b43178190736f4834f2ea",
       "version_major": 2,
       "version_minor": 0
      },
      "text/plain": [
       "  0%|          | 0/2474 [00:00<?, ?it/s]"
      ]
     },
     "metadata": {},
     "output_type": "display_data"
    }
   ],
   "source": [
    "y = [item['category'] for item in data]\n",
    "texts = process_data(data)"
   ]
  },
  {
   "cell_type": "code",
   "execution_count": 62,
   "id": "416b61ba-d438-4ad6-8b85-43af4bedaf97",
   "metadata": {},
   "outputs": [
    {
     "name": "stdout",
     "output_type": "stream",
     "text": [
      "2474\n",
      "2474\n"
     ]
    }
   ],
   "source": [
    "print(len(y))\n",
    "print(len(texts))"
   ]
  },
  {
   "cell_type": "markdown",
   "id": "9717c60b-07c5-45db-9115-8cf117f7997b",
   "metadata": {},
   "source": [
    "### Нормализуем и записываем в файл"
   ]
  },
  {
   "cell_type": "code",
   "execution_count": 22,
   "id": "71061b0a-b6c3-4f7a-8202-fd44918d1f37",
   "metadata": {},
   "outputs": [],
   "source": [
    "morph = pymorphy3.MorphAnalyzer()"
   ]
  },
  {
   "cell_type": "code",
   "execution_count": 23,
   "id": "bcfaaa48-258e-4836-9c6c-6df94cba32c8",
   "metadata": {},
   "outputs": [
    {
     "data": {
      "application/vnd.jupyter.widget-view+json": {
       "model_id": "3406697578e342eaa0d6c12a09845538",
       "version_major": 2,
       "version_minor": 0
      },
      "text/plain": [
       "  0%|          | 0/2474 [00:00<?, ?it/s]"
      ]
     },
     "metadata": {},
     "output_type": "display_data"
    }
   ],
   "source": [
    "with open('lemmatized_possed.txt', 'a') as file:\n",
    "    for i in tqdm(range(len(texts))):\n",
    "        solution_lemma = [f'{morph.parse(x)[0].normal_form}_{morph.parse(x)[0].tag.POS}' for x in texts[i]]\n",
    "        solution = ' '.join(solution_lemma)\n",
    "        file.write(solution + '\\n')"
   ]
  },
  {
   "cell_type": "markdown",
   "id": "67c16abe",
   "metadata": {},
   "source": [
    "### Конвертируем pos тэги в используемые моделями rusvectores"
   ]
  },
  {
   "cell_type": "code",
   "execution_count": 24,
   "id": "0a42e122",
   "metadata": {},
   "outputs": [
    {
     "data": {
      "application/vnd.jupyter.widget-view+json": {
       "model_id": "a52843989f724425bfbe54052ea28a82",
       "version_major": 2,
       "version_minor": 0
      },
      "text/plain": [
       "0it [00:00, ?it/s]"
      ]
     },
     "metadata": {},
     "output_type": "display_data"
    }
   ],
   "source": [
    "openCorpora2Universal = {\n",
    "    'NOUN': 'NOUN',\n",
    "    'ADJF': 'ADJ',\n",
    "    'ADJS': 'ADJ',\n",
    "    'VERB': 'VERB',\n",
    "    'INFN': 'VERB',\n",
    "    'PRTF': 'VERB',\n",
    "    'PRTS': 'VERB',\n",
    "    'PRTS': 'VERB',\n",
    "    'GRND': 'VERB',\n",
    "    'NUMR': 'NUM',\n",
    "    'ADVB': 'ADV',\n",
    "    'NPRO': 'PRON',\n",
    "    'CONJ': 'CCONJ',\n",
    "    'PRCL': 'PART'\n",
    "}\n",
    "with open('lemmatized_possed.txt', 'r') as file:\n",
    "    for line in tqdm(file):\n",
    "        conved = []\n",
    "        for w in line.split(' '):\n",
    "            wl = w.split('_')\n",
    "            try: \n",
    "                if wl[1] != None and wl[1] != 'None':\n",
    "                    conved.append('_'.join([wl[0], openCorpora2Universal[wl[1]]]))\n",
    "            except:\n",
    "                pass\n",
    "        with open('lemmatized_possed_conved.txt', 'a') as fileconved:\n",
    "                    fileconved.write(f\"{' '.join(conved)} \\n\") "
   ]
  },
  {
   "cell_type": "code",
   "execution_count": 25,
   "id": "e5063c97-8732-48c2-8c53-7be35da655c8",
   "metadata": {},
   "outputs": [],
   "source": [
    "solutions = [x.replace('\\n','') for x in open('lemmatized_possed_conved.txt', encoding = 'utf-8').readlines()]"
   ]
  },
  {
   "cell_type": "code",
   "execution_count": 26,
   "id": "76a2de90-d42c-4157-ad60-f1ed130b9d94",
   "metadata": {
    "scrolled": true
   },
   "outputs": [
    {
     "data": {
      "text/plain": [
       "2474"
      ]
     },
     "execution_count": 26,
     "metadata": {},
     "output_type": "execute_result"
    }
   ],
   "source": [
    "len(solutions)"
   ]
  },
  {
   "cell_type": "code",
   "execution_count": 27,
   "id": "0aa5d19f-8d1d-40e9-9947-32660329101a",
   "metadata": {},
   "outputs": [],
   "source": [
    "train_texts, test_texts, train_y, test_y = train_test_split(solutions, y, test_size=0.2, random_state=42, stratify = y)"
   ]
  },
  {
   "cell_type": "markdown",
   "id": "225bccf4",
   "metadata": {},
   "source": [
    "### Tfid"
   ]
  },
  {
   "cell_type": "code",
   "execution_count": 28,
   "id": "d92ed116-485e-49ac-a7f0-579d1832c593",
   "metadata": {},
   "outputs": [
    {
     "data": {
      "text/plain": [
       "TfidfVectorizer(max_features=300, ngram_range=(1, 4), norm=None,\n",
       "                sublinear_tf=True, token_pattern='\\\\w{1,}')"
      ]
     },
     "execution_count": 28,
     "metadata": {},
     "output_type": "execute_result"
    }
   ],
   "source": [
    "word_vectorizer = TfidfVectorizer(\n",
    "    sublinear_tf=True,\n",
    "    analyzer='word',\n",
    "    token_pattern=r'\\w{1,}',\n",
    "    ngram_range=(1, 4),\n",
    "    max_features=300,\n",
    "    norm = None\n",
    ")\n",
    "\n",
    "word_vectorizer.fit(solutions)"
   ]
  },
  {
   "cell_type": "code",
   "execution_count": 52,
   "id": "4315b151",
   "metadata": {},
   "outputs": [
    {
     "name": "stdout",
     "output_type": "stream",
     "text": [
      "1979\n",
      "1979\n"
     ]
    }
   ],
   "source": [
    "print(len(train_texts))\n",
    "print(len(train_y))"
   ]
  },
  {
   "cell_type": "code",
   "execution_count": 29,
   "id": "26b3483e-8d77-409a-9fad-5002a4a99808",
   "metadata": {},
   "outputs": [],
   "source": [
    "tfidf_train = word_vectorizer.transform(train_texts)\n",
    "tfidf_test = word_vectorizer.transform(test_texts)"
   ]
  },
  {
   "cell_type": "code",
   "execution_count": 30,
   "id": "9d2c777f-ecd2-4c5a-a447-c65842e53f6c",
   "metadata": {},
   "outputs": [
    {
     "name": "stdout",
     "output_type": "stream",
     "text": [
      "Shape of tfidf_train: (1979, 300)\n",
      "Shape of tfidf_test: (495, 300)\n"
     ]
    }
   ],
   "source": [
    "print('Shape of tfidf_train:', tfidf_train.shape)\n",
    "print('Shape of tfidf_test:', tfidf_test.shape)"
   ]
  },
  {
   "cell_type": "code",
   "execution_count": 31,
   "id": "8d429f19-18f9-4f48-8be6-08afd4c22a8e",
   "metadata": {},
   "outputs": [
    {
     "data": {
      "text/plain": [
       "array(['административный_adj', 'административный_adj правонарушение_noun',\n",
       "       'адрес_noun', 'акт_noun', 'апелляционный_adj',\n",
       "       'апелляционный_adj жалоба_noun', 'апк_noun', 'апк_noun рф_noun',\n",
       "       'арбитражный_adj', 'арбитражный_adj процессуальный_adj'],\n",
       "      dtype=object)"
      ]
     },
     "execution_count": 31,
     "metadata": {},
     "output_type": "execute_result"
    }
   ],
   "source": [
    "word_vectorizer.get_feature_names_out()[:10]"
   ]
  },
  {
   "cell_type": "markdown",
   "id": "5d62ef91-3cd2-470e-96a3-df34a9f4870e",
   "metadata": {},
   "source": [
    "### Обучение"
   ]
  },
  {
   "cell_type": "code",
   "execution_count": 34,
   "id": "f19825c6-22ef-472f-a908-f3ffd89efccc",
   "metadata": {},
   "outputs": [
    {
     "name": "stdout",
     "output_type": "stream",
     "text": [
      "Shape of tfidf_train: (1979, 300)\n",
      "Shape of tfidf_test: (495, 300)\n"
     ]
    }
   ],
   "source": [
    "train_X = word_vectorizer.fit_transform(train_texts)\n",
    "test_X  = word_vectorizer.transform(test_texts)\n",
    "print('Shape of tfidf_train:', train_X.shape)\n",
    "print('Shape of tfidf_test:', test_X.shape)"
   ]
  },
  {
   "cell_type": "code",
   "execution_count": 46,
   "id": "44f1c3ec",
   "metadata": {},
   "outputs": [
    {
     "name": "stdout",
     "output_type": "stream",
     "text": [
      "382558\n"
     ]
    }
   ],
   "source": [
    "print(train_X.getnnz())"
   ]
  },
  {
   "cell_type": "code",
   "execution_count": 36,
   "id": "08fb8014",
   "metadata": {},
   "outputs": [],
   "source": [
    "clf = RandomForestClassifier(n_estimators = 500, max_depth = 10)\n",
    "clf = clf.fit(train_X, train_y)"
   ]
  },
  {
   "cell_type": "code",
   "execution_count": 37,
   "id": "85fe22c0-0c6f-4175-b621-419f9d56c532",
   "metadata": {},
   "outputs": [],
   "source": [
    "pred = clf.predict(test_X)"
   ]
  },
  {
   "cell_type": "code",
   "execution_count": 38,
   "id": "10b3d3f7-da36-411d-b242-979bf6530055",
   "metadata": {},
   "outputs": [
    {
     "name": "stdout",
     "output_type": "stream",
     "text": [
      "Предсказанные метки:  ['Гражданское' 'Банкротное' 'Гражданское' 'Гражданское' 'Банкротное'\n",
      " 'Административное' 'Гражданское' 'Гражданское' 'Административное'\n",
      " 'Банкротное' 'Гражданское' 'Гражданское' 'Административное' 'Банкротное'\n",
      " 'Гражданское' 'Административное' 'Гражданское' 'Гражданское'\n",
      " 'Гражданское' 'Гражданское'] .....\n",
      "Истинные метки:  ['Гражданское', 'Банкротное', 'Гражданское', 'Гражданское', 'Банкротное', 'Административное', 'Гражданское', 'Гражданское', 'Административное', 'Банкротное', 'Гражданское', 'Гражданское', 'Административное', 'Банкротное', 'Гражданское', 'Административное', 'Гражданское', 'Гражданское', 'Гражданское', 'Гражданское'] .....\n"
     ]
    }
   ],
   "source": [
    "print('Предсказанные метки: ', pred[0:20], \".....\")\n",
    "print('Истинные метки: ', test_y[0:20], \".....\")"
   ]
  },
  {
   "cell_type": "markdown",
   "id": "36ac8d22",
   "metadata": {},
   "source": [
    "### Word2Vec "
   ]
  },
  {
   "cell_type": "code",
   "execution_count": 39,
   "id": "579f08ad",
   "metadata": {},
   "outputs": [],
   "source": [
    "import gensim\n",
    "model = gensim.models.KeyedVectors.load_word2vec_format('220/model.bin', binary=True)"
   ]
  },
  {
   "cell_type": "code",
   "execution_count": 68,
   "id": "14a60f76",
   "metadata": {},
   "outputs": [],
   "source": [
    "def make_feature_vec(words, model, num_features):\n",
    "    feature_vec = np.zeros((num_features,),dtype=\"float32\")\n",
    "    nwords = 0.\n",
    "    index2key_set = set(model.index_to_key)\n",
    "    \n",
    "    words = words.split(' ')\n",
    "    \n",
    "    for word in words:\n",
    "        if word in index2key_set: \n",
    "            nwords = nwords + 1.\n",
    "            feature_vec = np.add(feature_vec,model[word])\n",
    "    \n",
    "    feature_vec = np.divide(feature_vec, nwords)\n",
    "    return feature_vec\n",
    "\n",
    "\n",
    "def get_avg_feature_vecs(texts, model, num_features):\n",
    "    counter = 0\n",
    "    feature_vecs = np.zeros((len(texts),num_features), dtype='float32')\n",
    "    \n",
    "    for text in texts:\n",
    "        feature_vecs[counter] = make_feature_vec(text, model, num_features)\n",
    "        counter = counter + 1\n",
    "    return feature_vecs"
   ]
  },
  {
   "cell_type": "code",
   "execution_count": 71,
   "id": "4e78b58f",
   "metadata": {},
   "outputs": [],
   "source": [
    "train_vecs = get_avg_feature_vecs(train_texts, model, 300)\n",
    "test_vecs = get_avg_feature_vecs(test_texts, model, 300)"
   ]
  },
  {
   "cell_type": "code",
   "execution_count": 72,
   "id": "ea9b3fbc",
   "metadata": {},
   "outputs": [],
   "source": [
    "forest = RandomForestClassifier(n_estimators = 100)\n",
    "forest = forest.fit(train_vecs, train_y)"
   ]
  },
  {
   "cell_type": "markdown",
   "id": "8d571aa0",
   "metadata": {},
   "source": [
    "### Обучение"
   ]
  },
  {
   "cell_type": "code",
   "execution_count": 73,
   "id": "38a93bbe",
   "metadata": {},
   "outputs": [],
   "source": [
    "pred = clf.predict(test_X)"
   ]
  },
  {
   "cell_type": "code",
   "execution_count": 74,
   "id": "6ea2024a",
   "metadata": {},
   "outputs": [
    {
     "name": "stdout",
     "output_type": "stream",
     "text": [
      "Предсказанные метки:  ['Гражданское' 'Банкротное' 'Гражданское' 'Гражданское' 'Банкротное'\n",
      " 'Административное' 'Гражданское' 'Гражданское' 'Административное'\n",
      " 'Банкротное' 'Гражданское' 'Гражданское' 'Административное' 'Банкротное'\n",
      " 'Гражданское' 'Административное' 'Гражданское' 'Гражданское'\n",
      " 'Гражданское' 'Гражданское'] .....\n",
      "Истинные метки:  ['Гражданское', 'Банкротное', 'Гражданское', 'Гражданское', 'Банкротное', 'Административное', 'Гражданское', 'Гражданское', 'Административное', 'Банкротное', 'Гражданское', 'Гражданское', 'Административное', 'Банкротное', 'Гражданское', 'Административное', 'Гражданское', 'Гражданское', 'Гражданское', 'Гражданское'] .....\n"
     ]
    }
   ],
   "source": [
    "print('Предсказанные метки: ', pred[0:20], \".....\")\n",
    "print('Истинные метки: ', test_y[0:20], \".....\")"
   ]
  },
  {
   "cell_type": "code",
   "execution_count": null,
   "id": "693926a5",
   "metadata": {},
   "outputs": [],
   "source": []
  }
 ],
 "metadata": {
  "kernelspec": {
   "display_name": "Python 3 (ipykernel)",
   "language": "python",
   "name": "python3"
  },
  "language_info": {
   "codemirror_mode": {
    "name": "ipython",
    "version": 3
   },
   "file_extension": ".py",
   "mimetype": "text/x-python",
   "name": "python",
   "nbconvert_exporter": "python",
   "pygments_lexer": "ipython3",
   "version": "3.11.9"
  }
 },
 "nbformat": 4,
 "nbformat_minor": 5
}